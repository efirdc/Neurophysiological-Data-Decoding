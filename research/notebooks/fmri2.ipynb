{
 "cells": [
  {
   "cell_type": "code",
   "execution_count": 1,
   "id": "6c687fa5-6dfc-40f6-82b5-2737c0a8e5c0",
   "metadata": {},
   "outputs": [],
   "source": [
    "%load_ext autoreload\n",
    "%autoreload 2\n",
    "\n",
    "import os\n",
    "import sys\n",
    "\n",
    "import numpy as np\n",
    "import torch\n",
    "import torchio as tio\n",
    "import h5py\n",
    "from ipywidgets import interact\n",
    "import matplotlib.pyplot as plt\n",
    "\n",
    "dir2 = os.path.abspath('..')\n",
    "dir1 = os.path.dirname(dir2)\n",
    "if not dir1 in sys.path: \n",
    "    sys.path.append(dir1)"
   ]
  },
  {
   "cell_type": "code",
   "execution_count": null,
   "id": "166a4c8d-914d-45ed-8b35-8be6c03a8f1d",
   "metadata": {},
   "outputs": [],
   "source": [
    "from research.models.fmri_decoders import ConvolutionalDecoder\n",
    "\n",
    "model = ConvolutionalDecoder(in_channels=7, \n",
    "                             extractor_channels=(100, 200, 400), \n",
    "                             decoder_channels=(512, 512, 256, 256, 128),\n",
    "                             decoder_base_shape=(512, 6, 6),\n",
    "                             decoder_output_shapes={'visual': (768,), \n",
    "                                                    'visual_layer1': (384, 96, 96), \n",
    "                                                    'visual_layer2': (768, 48, 48), \n",
    "                                                    'visual_layer3': (1536, 24, 24), \n",
    "                                                    'visual_layer4': (3072, 12, 12)},)\n"
   ]
  },
  {
   "cell_type": "code",
   "execution_count": 4,
   "id": "5488db44-9548-42a6-991a-a23e0ec70101",
   "metadata": {},
   "outputs": [],
   "source": [
    "from research.data.kamitani_2019 import Kamitani2019, RawKamitani2019, Kamitani2019H5\n",
    "from pathlib import Path\n",
    "\n",
    "root = \"X:\\\\Datasets\\\\Deep-Image-Reconstruction\\\\\"\n",
    "h5_path = Path(root) / \"derivatives\" / \"kamitani2019.hdf5\"\n",
    "features_path = Path(root) / \"derivatives\" / \"RN50x16-features.hdf5\"\n",
    "dataset = Kamitani2019H5(h5_path, \n",
    "                         subjects=['sub-02'], \n",
    "                         func_sessions=['natural_training', 'natural_test'], \n",
    "                         window=(0, 7), \n",
    "                         drop_out_of_window_events=False,)\n",
    "                         #features_path=features_path)\n",
    "                         #folds=[0, 1, 2, 3], split='train')"
   ]
  },
  {
   "cell_type": "code",
   "execution_count": null,
   "id": "fcdd3eac-7ed8-4459-a0b3-ba1c31608d9b",
   "metadata": {},
   "outputs": [],
   "source": []
  },
  {
   "cell_type": "code",
   "execution_count": 6,
   "id": "4f8359b0-7227-4ffc-b238-3db084348c2c",
   "metadata": {},
   "outputs": [
    {
     "data": {
      "application/vnd.jupyter.widget-view+json": {
       "model_id": "5d82584ff1884631bbfba710df4d3c71",
       "version_major": 2,
       "version_minor": 0
      },
      "text/plain": [
       "interactive(children=(IntSlider(value=3599, description='i', max=7199), Output()), _dom_classes=('widget-inter…"
      ]
     },
     "metadata": {},
     "output_type": "display_data"
    }
   ],
   "source": [
    "@interact(i=(0, len(dataset)-1))\n",
    "def show_event(i):\n",
    "    event = dataset[i]\n",
    "    \n",
    "    if 'features' in event:\n",
    "        for k, v in event['features'].items():\n",
    "            print(k, v.shape, v.numel())\n",
    "            \n",
    "    data = event['data']\n",
    "    print(data.shape)\n",
    "    \n",
    "    T, H, W, D = data.shape\n",
    "    @interact(d=(0, D-1), t=(0, T-2), derivative=False)\n",
    "    def show_volume(d, t, derivative):\n",
    "        fig = plt.figure(figsize=(12, 12))\n",
    "        if derivative:\n",
    "            x = data[t:t+2, :, :, d]\n",
    "            #x = (x - event['run_mean']) / event['run_std']\n",
    "            x = x[0, :, :] - x[1, :, :]\n",
    "            plt.imshow(x, cmap='bwr', vmin=-3, vmax=3)\n",
    "        else:\n",
    "            x = data[t, :, :, d]\n",
    "            #x = (x - event['run_mean']) / event['run_std']\n",
    "            plt.imshow(x, cmap='gray', vmin=-1, vmax=3)\n",
    "        plt.show()\n",
    "        plt.close(fig)"
   ]
  },
  {
   "cell_type": "code",
   "execution_count": null,
   "id": "69b5c9e1-2371-4aec-b46c-8caebf584b98",
   "metadata": {},
   "outputs": [],
   "source": [
    "x = torch.randn([1, 7, 72, 88, 76])\n",
    "y = model(x)"
   ]
  },
  {
   "cell_type": "code",
   "execution_count": null,
   "id": "1df72c76-f2a0-481a-bce6-36cce5856312",
   "metadata": {},
   "outputs": [],
   "source": [
    "for k, v in y.items():\n",
    "    print(k, v.shape)"
   ]
  },
  {
   "cell_type": "code",
   "execution_count": null,
   "id": "8c2cec43-0f28-4d54-ac6c-06b2cf4f08ec",
   "metadata": {},
   "outputs": [],
   "source": [
    "from research.models.fmri_decoders import BlurConvTranspose2d\n",
    "model = BlurConvTranspose2d(10, 60)\n",
    "\n",
    "x = torch.randn(2, 10, 64, 64)\n",
    "print(x.mean(), x.std())\n",
    "\n",
    "with torch.no_grad():\n",
    "    y = model(x)\n",
    "print(y.mean(), y.std())"
   ]
  },
  {
   "cell_type": "code",
   "execution_count": null,
   "id": "365cc0fe-a3fe-4cf3-9a05-4b292aef7ece",
   "metadata": {},
   "outputs": [],
   "source": [
    "import torchmetrics.functional as TMF\n",
    "import sklearn.metrics as SKM\n",
    "\n",
    "N = 4\n",
    "d = 10000\n",
    "eps = 1e-7\n",
    "\n",
    "y = torch.randn(N, d)\n",
    "#y[y < 0] = 0\n",
    "#y += torch.randn(N, d) * eps\n",
    "\n",
    "error = torch.randn(N, d) * 0.25\n",
    "y_pred = y + error\n",
    "#y_pred[y < 0] = 0\n",
    "#y += torch.randn(N, d) * eps\n",
    "\n",
    "#print(cosine_similarity(y, y_pred, reduction='mean'))\n",
    "#print(explained_variance(y.T, y_pred.T))\n",
    "\n",
    "print(TMF.r2_score(y[0], y_pred[0]), SKM.r2_score(y[0], y_pred[0]))\n"
   ]
  },
  {
   "cell_type": "code",
   "execution_count": null,
   "id": "a959317d-4d8d-41ad-89fc-7ea991421b27",
   "metadata": {},
   "outputs": [],
   "source": [
    "[f.name for f in Path(root).iterdir()]"
   ]
  },
  {
   "cell_type": "code",
   "execution_count": null,
   "id": "eeee2d58-a273-4a25-8f9c-d4cab862c6c9",
   "metadata": {},
   "outputs": [],
   "source": [
    "from pathlib import Path\n",
    "\n",
    "root = \"X:\\\\Datasets\\\\Deep-Image-Reconstruction\\\\\"\n",
    "#file_name = 'sub-02_perceptionNaturalImageTraining_VC_v2.h5'\n",
    "file_name = 'sub-02_perceptionNaturalImageTraining_VC_v2.h5'\n",
    "\n",
    "f = h5py.File(Path(root) / \"derivatives\" / 'kamitani-preprocessed' / file_name, \"r\")\n",
    "N, V = f['dataset'].shape\n",
    "\n",
    "@interact(i=(0, V-1))\n",
    "def show(i):\n",
    "    data = f['dataset'][:, i]\n",
    "    print(data.mean(), data.max(), data.min(), data.std())\n",
    "    plt.hist(data)"
   ]
  },
  {
   "cell_type": "code",
   "execution_count": null,
   "id": "50a68100-7072-4e08-842f-ad451ed7ab05",
   "metadata": {},
   "outputs": [],
   "source": [
    "f['dataset'][:, 14468].max()"
   ]
  },
  {
   "cell_type": "code",
   "execution_count": null,
   "id": "e37f67b7-a313-46b6-b091-8aee69bbcd37",
   "metadata": {},
   "outputs": [],
   "source": [
    "print(values.size)\n",
    "np.isnan(values).sum() + (values == 1.).sum()\n",
    "print(np.unique(values))"
   ]
  },
  {
   "cell_type": "code",
   "execution_count": null,
   "id": "e47ce38d-eb95-4900-9d68-8cdc49811da8",
   "metadata": {},
   "outputs": [],
   "source": [
    "f = h5py.File(Path(root) / \"derivatives\" / 'kamitani-preprocessed' / file_name, \"r\")\n",
    "description = f['metadata/description'][:]\n",
    "keys = f['metadata/key'][:]\n",
    "values = f['metadata/value'][:]\n",
    "print(values.shape)\n",
    "print(np.argwhere(values[71] == 1.))\n",
    "#print(\n",
    "[(i, k, v) for i, (k, v) in enumerate(zip(keys, description))]"
   ]
  },
  {
   "cell_type": "code",
   "execution_count": null,
   "id": "84366889-fbdf-4298-92a3-6b630385b9af",
   "metadata": {},
   "outputs": [],
   "source": [
    "f = h5py.File('X:\\\\Downloads\\\\Subject1.h5', 'r')\n",
    "data = f['dataSet'][:, :-10]\n",
    "\n",
    "print(data.shape, data.mean(), data.min(), data.max(), data.std())\n",
    "low, high = np.percentile(data, [1, 99], axis=0)\n",
    "print(low.min(), low.max())"
   ]
  },
  {
   "cell_type": "code",
   "execution_count": 2,
   "id": "e02f40d9-8ab5-4d49-b7bf-8360e2bb74ba",
   "metadata": {},
   "outputs": [],
   "source": [
    "from research.data.kamitani_2019 import Kamitani2019H5Preprocessed\n",
    "\n",
    "root = \"X:\\\\Datasets\\\\Deep-Image-Reconstruction\\\\derivatives\\\\kamitani-preprocessed\"\n",
    "dataset = Kamitani2019H5Preprocessed(root, \n",
    "                                     subjects=['sub-02',], \n",
    "                                     func_sessions=['natural_training',],\n",
    "                                     features_path='X:\\\\Datasets\\\\Deep-Image-Reconstruction\\\\derivatives\\\\RN50x16-features.hdf5',)"
   ]
  },
  {
   "cell_type": "code",
   "execution_count": 3,
   "id": "47e7191c-ee82-4c17-995c-bc6e6bd57951",
   "metadata": {},
   "outputs": [],
   "source": [
    "X_key = 'ROI_VC'\n",
    "Y_key = 'visual.layer4.7.bn3'\n",
    "#Y_key = 'visual'\n",
    "data = dataset.get_data(brain_keys=[X_key, 'image_index'], feature_keys=[Y_key])"
   ]
  },
  {
   "cell_type": "code",
   "execution_count": 4,
   "id": "6db57edc-918c-4380-a68b-d6c5e6f4eb92",
   "metadata": {},
   "outputs": [
    {
     "name": "stdout",
     "output_type": "stream",
     "text": [
      "6000 14462 1000\n"
     ]
    }
   ],
   "source": [
    "natural_training = data['sub-02']['natural_training']\n",
    "\n",
    "image_index = natural_training['image_index'].astype(int)[:, 0]\n",
    "X = natural_training[X_key]\n",
    "if len(natural_training[Y_key].shape) > 2:\n",
    "    natural_training[Y_key] = torch.flatten(torch.from_numpy(natural_training[Y_key]), start_dim=1).numpy()\n",
    "if natural_training[Y_key].shape[1] > 1000:\n",
    "    natural_training[Y_key] = natural_training[Y_key][:, np.random.choice(1000, size=1000)]\n",
    "Y = natural_training[Y_key]\n",
    "N, V, F = *X.shape, Y.shape[1]\n",
    "print(N, V, F)"
   ]
  },
  {
   "cell_type": "code",
   "execution_count": 5,
   "id": "77a7aec0-6a7f-408e-893d-1bccd6cf22df",
   "metadata": {},
   "outputs": [
    {
     "name": "stdout",
     "output_type": "stream",
     "text": [
      "960 240\n"
     ]
    }
   ],
   "source": [
    "from sklearn.model_selection import train_test_split\n",
    "\n",
    "N = 1200\n",
    "\n",
    "sorted_indices = np.argsort(image_index)\n",
    "X = X[sorted_indices]\n",
    "Y = Y[sorted_indices]\n",
    "image_index = image_index[sorted_indices]\n",
    "\n",
    "X = np.stack([x.mean(axis=0) for x in np.split(X, N)])\n",
    "Y = np.stack([y.mean(axis=0) for y in np.split(Y, N)])\n",
    "\n",
    "train_indices, _ = train_test_split(np.arange(N), train_size=0.8)\n",
    "train_mask = np.zeros(N, dtype=bool)\n",
    "train_mask[train_indices] = True\n",
    "test_mask = ~train_mask\n",
    "\n",
    "N_train = train_mask.sum()\n",
    "N_test = N - N_train\n",
    "print(N_train, N_test)"
   ]
  },
  {
   "cell_type": "code",
   "execution_count": null,
   "id": "42ec9a38-c66c-4cc8-832e-a9238a19f062",
   "metadata": {},
   "outputs": [],
   "source": [
    "from sklearn.model_selection import train_test_split\n",
    "\n",
    "unique_indices, inverse_indices = np.unique(image_index, return_inverse=True)\n",
    "print(image_index.shape, unique_indices.shape)\n",
    "\n",
    "train_indices, _ = train_test_split(unique_indices, train_size=0.8)\n",
    "\n",
    "train_indices = set(train_indices)\n",
    "train_mask = np.array([i in train_indices for i in image_index])\n",
    "test_mask = ~train_mask\n",
    "\n",
    "N_train = train_mask.sum()\n",
    "N_test = N - N_train\n",
    "\n",
    "print(N_train, N_test)"
   ]
  },
  {
   "cell_type": "code",
   "execution_count": 6,
   "id": "6770c26a-a064-48b8-9625-f21e107078c7",
   "metadata": {},
   "outputs": [
    {
     "name": "stdout",
     "output_type": "stream",
     "text": [
      "(14462, 1000)\n"
     ]
    }
   ],
   "source": [
    "X_train, Y_train = X[train_mask], Y[train_mask]\n",
    "X_test, Y_test = X[test_mask], Y[test_mask]\n",
    "\n",
    "X_train_mean = X_train.mean(axis=0, keepdims=True)\n",
    "X_train_std = X_train.std(axis=0, keepdims=True)\n",
    "Y_train_mean = Y_train.mean(axis=0, keepdims=True)\n",
    "Y_train_std = Y_train.std(axis=0, keepdims=True)\n",
    "\n",
    "X_train = (X_train - X_train_mean) / X_train_std\n",
    "Y_train = (Y_train - Y_train_mean) / Y_train_std\n",
    "\n",
    "X_test = (X_test - X_train_mean) / X_train_std\n",
    "Y_test = (Y_test - Y_train_mean) / Y_train_std\n",
    "\n",
    "X_train_norm = X_train / np.linalg.norm(X_train, axis=0, keepdims=True)\n",
    "Y_train_norm = Y_train / np.linalg.norm(Y_train, axis=0, keepdims=True)\n",
    "\n",
    "# A (V, F) matrix of pearson correlation coefficients between individual voxels and features\n",
    "pearson_correlations = X_train_norm.T @ Y_train_norm\n",
    "print(pearson_correlations.shape)"
   ]
  },
  {
   "cell_type": "code",
   "execution_count": null,
   "id": "28dca34d-a449-45f1-93e1-950c5831f570",
   "metadata": {},
   "outputs": [],
   "source": [
    "highest_correlation_indices = np.abs(pearson_correlations).argsort(axis=0)\n",
    "# print(highest_correlation_indices.max(), highest_correlation_indices.min())\n",
    "num_voxels = 100\n",
    "highest_correlation_indices = highest_correlation_indices[-num_voxels:, :]\n",
    "print(highest_correlation_indices.shape)"
   ]
  },
  {
   "cell_type": "code",
   "execution_count": null,
   "id": "02563633-899c-4227-8a4a-cbfd614cf4a8",
   "metadata": {},
   "outputs": [],
   "source": [
    "from sklearn.cross_decomposition import PLSRegression, CCA\n",
    "\n",
    "model = CCA(n_components=2)\n",
    "model.fit(X_train, Y_train)\n",
    "\n",
    "Y_train_pred = model.predict(X_train)\n",
    "Y_test_pred = model.predict(X_test)\n",
    "print('r2', model.score(X_train, Y_train), model.score(X_test, Y_test))"
   ]
  },
  {
   "cell_type": "code",
   "execution_count": 41,
   "id": "8fe6b066-2df4-4551-a8fc-23d31d40c4d9",
   "metadata": {},
   "outputs": [
    {
     "name": "stderr",
     "output_type": "stream",
     "text": [
      "100%|███████████████████████████████████████████████████████████████████████████████████████████████████████████████████████████████████████████████████████████████████████████████████████████████████████████████████████████████| 1000/1000 [00:01<00:00, 985.22it/s]\n"
     ]
    },
    {
     "name": "stdout",
     "output_type": "stream",
     "text": [
      "r2 0.052132344851014124 -0.012755424407262347\n",
      "r 0.22657621915379134 0.0945683656663706\n"
     ]
    }
   ],
   "source": [
    "from sklearn.metrics import r2_score\n",
    "from fastl2lir import FastL2LiR\n",
    "\n",
    "\n",
    "model = FastL2LiR()\n",
    "model.fit(X_train, Y_train, alpha=1.0, n_feat=5)\n",
    "\n",
    "Y_train_pred = model.predict(X_train)\n",
    "Y_test_pred = model.predict(X_test)\n",
    "\n",
    "def pearsonr_mat(Y, Y_pred):\n",
    "    Y_norm = Y / np.linalg.norm(Y, axis=0, keepdims=True)\n",
    "    Y_pred_norm = Y_pred / np.linalg.norm(Y_pred, axis=0, keepdims=True)\n",
    "    return (Y_norm * Y_pred_norm).sum(axis=0).mean(axis=0)\n",
    "\n",
    "print('r2', r2_score(Y_train, Y_train_pred), r2_score(Y_test, Y_test_pred))\n",
    "print('r', pearsonr_mat(Y_train, Y_train_pred), pearsonr_mat(Y_test, Y_test_pred))"
   ]
  },
  {
   "cell_type": "code",
   "execution_count": 31,
   "id": "3bb0e17f-d1bd-46a3-8777-f9d8f335c159",
   "metadata": {},
   "outputs": [
    {
     "data": {
      "application/vnd.jupyter.widget-view+json": {
       "model_id": "86dfedafc6614a2995f85a6c62792d7f",
       "version_major": 2,
       "version_minor": 0
      },
      "text/plain": [
       "  0%|          | 0/100 [00:00<?, ?it/s]"
      ]
     },
     "metadata": {},
     "output_type": "display_data"
    },
    {
     "name": "stdout",
     "output_type": "stream",
     "text": [
      "r2_train=0.0528, r2_test=-0.0176\n",
      "r_train=0.226, r_test=0.0888\n"
     ]
    }
   ],
   "source": [
    "from tqdm.notebook import tqdm\n",
    "import slir\n",
    "from sklearn.linear_model import Ridge, Lasso, LinearRegression\n",
    "from sklearn.cross_decomposition import PLSRegression\n",
    "from sklearn.feature_selection import SelectKBest, f_regression, mutual_info_regression\n",
    "from scipy.stats import pearsonr\n",
    "from sklearn.ensemble import AdaBoostRegressor\n",
    "\n",
    "F2 = F // 10\n",
    "\n",
    "models = []\n",
    "r2_train = r2_test = r_train = r_test = 0\n",
    "for i in tqdm(range(F2)):\n",
    "    \n",
    "    #selection_indices = highest_correlation_indices[:, i]\n",
    "    \n",
    "    #X_train_selection = X_train[:, selection_indices]\n",
    "    y_train = Y_train[:, i]\n",
    "   \n",
    "    #X_test_selection = X_test[:, selection_indices]\n",
    "    y_test = Y_test[:, i]\n",
    "    \n",
    "    #select_k_best = SelectKBest(mutual_info_regression, k=10)\n",
    "    #X_train_selection = select_k_best.fit_transform(X_train, y_train)\n",
    "    #X_test_selection = select_k_best.transform(X_test)\n",
    "    \n",
    "    select_k_best = SelectKBest(f_regression, k=5)\n",
    "    X_train_selection = select_k_best.fit_transform(X_train, y_train)\n",
    "    X_test_selection = select_k_best.transform(X_test)\n",
    "    \n",
    "    model = LinearRegression()\n",
    "    #model = CCA(n_components=20)\n",
    "    #model = PLSRegression(n_components=4)\n",
    "    #model = Ridge(alpha=1, fit_intercept=False)\n",
    "    #model = Lasso(alpha=0.1)\n",
    "    #model = AdaBoostRegressor(n_estimators=5)\n",
    "    #model = slir.SparseLinearRegression(n_iter=200, verbose=True, verbose_skip=100)\n",
    "\n",
    "    model.fit(X_train_selection, y_train)\n",
    "    y_train_pred = model.predict(X_train_selection)\n",
    "    y_test_pred = model.predict(X_test_selection)\n",
    "    r2_train += model.score(X_train_selection, y_train)\n",
    "    r2_test += model.score(X_test_selection, y_test)\n",
    "    r_train += pearsonr(y_train, y_train_pred)[0]\n",
    "    r_test += pearsonr(y_test, y_test_pred)[0]\n",
    "\n",
    "print(f'r2_train={r2_train / F2:.03}, r2_test={r2_test / F2:.03}')\n",
    "print(f'r_train={r_train / F2:.03}, r_test={r_test / F2:.03}')"
   ]
  },
  {
   "cell_type": "code",
   "execution_count": null,
   "id": "717f1e71-efdc-43b5-8979-748a4188b2ac",
   "metadata": {},
   "outputs": [],
   "source": [
    "print([(k, v.shape) for k, v in data['sub-02']['natural_training'].items()])"
   ]
  },
  {
   "cell_type": "code",
   "execution_count": null,
   "id": "b38b1b43-f9c4-4276-82aa-5fe83df68da3",
   "metadata": {},
   "outputs": [],
   "source": [
    "print([(k, v.shape) for k, v in data['sub-03']['natural_test'].items()])"
   ]
  },
  {
   "cell_type": "code",
   "execution_count": null,
   "id": "485992fe-7b40-45ae-91ee-0f2a87e90502",
   "metadata": {},
   "outputs": [],
   "source": [
    "data['sub-03']['natural_test']['stimulus_id']"
   ]
  },
  {
   "cell_type": "code",
   "execution_count": null,
   "id": "bc584606-40a9-40e8-bb21-92d776699c15",
   "metadata": {},
   "outputs": [],
   "source": [
    "from pathlib import Path\n",
    "\n",
    "with h5py.File(Path('X:\\\\Datasets\\\\Deep-Image-Reconstruction\\\\derivatives') / 'stimulus_images.hdf5', 'r') as f:\n",
    "    keys = list(f.keys())\n",
    "    for func_session, keymap in dataset.stimulus_info.items():\n",
    "        for stimulus_id in keymap.values():\n",
    "            if stimulus_id[0] == 'n':\n",
    "                wordnet_id, dataset_id = stimulus_id.split('_')\n",
    "                stimulus_id = f'{int(wordnet_id[1:])}.{int(dataset_id):06}'\n",
    "            \n",
    "            if stimulus_id not in keys:\n",
    "                print(stimulus_id)"
   ]
  },
  {
   "cell_type": "code",
   "execution_count": null,
   "id": "e66d748c-9a33-4453-8405-3500d8dcf396",
   "metadata": {},
   "outputs": [],
   "source": [
    "import xarray as xr\n",
    "a = xr.open_dataarray('C:\\\\Users\\\\Cefir\\\\.brainio\\\\assy_dicarlo_MajajHong2015_public\\\\assy_dicarlo_MajajHong2015_public.nc', engine='netcdf4')"
   ]
  }
 ],
 "metadata": {
  "kernelspec": {
   "display_name": "Neurophysiological-Data-Decoding",
   "language": "python",
   "name": "neurophysiological-data-decoding"
  },
  "language_info": {
   "codemirror_mode": {
    "name": "ipython",
    "version": 3
   },
   "file_extension": ".py",
   "mimetype": "text/x-python",
   "name": "python",
   "nbconvert_exporter": "python",
   "pygments_lexer": "ipython3",
   "version": "3.8.12"
  }
 },
 "nbformat": 4,
 "nbformat_minor": 5
}
