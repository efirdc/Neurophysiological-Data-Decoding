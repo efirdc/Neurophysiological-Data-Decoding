{
 "cells": [
  {
   "cell_type": "code",
   "execution_count": 2,
   "id": "0b3950e9-65a7-4210-a5c6-e61adb0b9cbf",
   "metadata": {},
   "outputs": [
    {
     "name": "stderr",
     "output_type": "stream",
     "text": [
      "C:\\Users\\Cefir\\anaconda3\\envs\\Neurophysiological-Data-Decoding\\lib\\site-packages\\numpy\\_distributor_init.py:30: UserWarning: loaded more than 1 DLL from .libs:\n",
      "C:\\Users\\Cefir\\anaconda3\\envs\\Neurophysiological-Data-Decoding\\lib\\site-packages\\numpy\\.libs\\libopenblas.EL2C6PLE4ZYW3ECEVIV3OXXGRN2NRFM2.gfortran-win_amd64.dll\n",
      "C:\\Users\\Cefir\\anaconda3\\envs\\Neurophysiological-Data-Decoding\\lib\\site-packages\\numpy\\.libs\\libopenblas.GK7GX5KEQ4F6UYO3P26ULGBQYHGQO7J4.gfortran-win_amd64.dll\n",
      "C:\\Users\\Cefir\\anaconda3\\envs\\Neurophysiological-Data-Decoding\\lib\\site-packages\\numpy\\.libs\\libopenblas.WCDJNK7YVMPZQ2ME2ZZHJJRJ3JIKNDB7.gfortran-win_amd64.dll\n",
      "C:\\Users\\Cefir\\anaconda3\\envs\\Neurophysiological-Data-Decoding\\lib\\site-packages\\numpy\\.libs\\libopenblas.xwydx2ikjw2nmtwsfyngfuwkqu3lytcz.gfortran-win_amd64.dll\n",
      "  warnings.warn(\"loaded more than 1 DLL from .libs:\"\n"
     ]
    }
   ],
   "source": [
    "%load_ext autoreload\n",
    "%autoreload 2\n",
    "\n",
    "import os\n",
    "import sys\n",
    "import time\n",
    "import random\n",
    "import json\n",
    "import gc\n",
    "from functools import partial\n",
    "from pathlib import Path\n",
    "\n",
    "import numpy as np\n",
    "import torch\n",
    "from torch import nn\n",
    "import torch.nn.functional as F\n",
    "import h5py\n",
    "from ipywidgets import interact\n",
    "import matplotlib.pyplot as plt\n",
    "from tqdm.notebook import tqdm\n",
    "from einops import rearrange\n",
    "from scipy import ndimage\n",
    "\n",
    "dir2 = os.path.abspath('../..')\n",
    "dir1 = os.path.dirname(dir2)\n",
    "if not dir1 in sys.path: \n",
    "    sys.path.append(dir1)\n",
    "    \n",
    "from pipeline.utils import index_unsorted, nested_insert, nested_select\n",
    "from pipeline.compact_json_encoder import CompactJSONEncoder"
   ]
  },
  {
   "cell_type": "code",
   "execution_count": 3,
   "id": "2f69f23d-112f-418c-b4d6-327bc180a1f9",
   "metadata": {
    "tags": []
   },
   "outputs": [
    {
     "name": "stderr",
     "output_type": "stream",
     "text": [
      "Using cache found in C:\\Users\\Cefir/.cache\\torch\\hub\\intel-isl_MiDaS_master\n",
      "Using cache found in C:\\Users\\Cefir/.cache\\torch\\hub\\intel-isl_MiDaS_master\n"
     ]
    }
   ],
   "source": [
    "midas_type = \"DPT_Large\" # \"DPT_Large\" or \"DPT_Hybrid\"\n",
    "model = torch.hub.load(\"intel-isl/MiDaS\", midas_type)\n",
    "device = torch.device('cuda')\n",
    "model.to(device)\n",
    "model.eval()\n",
    "transform = torch.hub.load('intel-isl/MiDaS', 'transforms').dpt_transform"
   ]
  },
  {
   "cell_type": "code",
   "execution_count": 4,
   "id": "8c96a983-27a9-4806-90fa-0a23d12eccd8",
   "metadata": {},
   "outputs": [],
   "source": [
    "dataset_path = Path('D:\\\\Datasets\\\\NSD\\\\')\n",
    "stimulu_path = dataset_path / 'nsddata_stimuli' / 'stimuli' / 'nsd' / 'nsd_stimuli.hdf5'\n",
    "embeddings_path = dataset_path / 'derivatives' / 'stimulus_embeddings'\n",
    "stimulus_images = h5py.File(stimulu_path, 'r')['imgBrick']"
   ]
  },
  {
   "cell_type": "code",
   "execution_count": 6,
   "id": "80b73661-b495-40c2-ba5f-1f561f6d1238",
   "metadata": {},
   "outputs": [
    {
     "data": {
      "application/vnd.jupyter.widget-view+json": {
       "model_id": "c2f67e1471884b84b014b0df1fc9b077",
       "version_major": 2,
       "version_minor": 0
      },
      "text/plain": [
       "interactive(children=(IntSlider(value=36499, description='i', max=72999), Output()), _dom_classes=('widget-int…"
      ]
     },
     "metadata": {},
     "output_type": "display_data"
    }
   ],
   "source": [
    "N = stimulus_images.shape[0]\n",
    "@interact(i=(0, N-1))\n",
    "def show_depth(i):\n",
    "    image = stimulus_images[i]\n",
    "    x = transform(image)\n",
    "    print(x.mean(), x.std(), x.max(), x.min(), x.shape)\n",
    "    with torch.no_grad():\n",
    "        depth = model(x.to(device)).cpu()\n",
    "        depth = F.interpolate(depth[:, None], size=image.shape[:2], mode='bicubic', align_corners=False)\n",
    "        depth = depth[0, 0].numpy()\n",
    "        \n",
    "    figure = plt.figure(figsize=(16, 16))\n",
    "    grid = figure.add_gridspec(1, 2)\n",
    "    \n",
    "    image_ax = figure.add_subplot(grid[0, 0])\n",
    "    image_ax.axis('off')\n",
    "    \n",
    "    depth_ax = figure.add_subplot(grid[0, 1])\n",
    "    depth_ax.axis('off')\n",
    "\n",
    "    image_ax.imshow(image)\n",
    "    depth_ax.imshow(depth)\n",
    "    plt.show()"
   ]
  },
  {
   "cell_type": "code",
   "execution_count": null,
   "id": "a0c1c09f-7a32-401f-8604-39cabca45801",
   "metadata": {},
   "outputs": [],
   "source": [
    "gc.collect()\n",
    "torch.cuda.empty_cache()"
   ]
  },
  {
   "cell_type": "code",
   "execution_count": 5,
   "id": "cc21a564-90ed-4662-9327-46f702345a79",
   "metadata": {},
   "outputs": [
    {
     "data": {
      "application/vnd.jupyter.widget-view+json": {
       "model_id": "45171efb7d5543ee84adbd9838e5fcc0",
       "version_major": 2,
       "version_minor": 0
      },
      "text/plain": [
       "  0%|          | 0/54001 [00:00<?, ?it/s]"
      ]
     },
     "metadata": {},
     "output_type": "display_data"
    },
    {
     "name": "stderr",
     "output_type": "stream",
     "text": [
      "C:\\Users\\Cefir\\anaconda3\\envs\\Neurophysiological-Data-Decoding\\lib\\site-packages\\torch\\nn\\functional.py:3631: UserWarning: Default upsampling behavior when mode=bilinear is changed to align_corners=False since 0.4.0. Please specify align_corners=True if the old behavior is desired. See the documentation of nn.Upsample for details.\n",
      "  warnings.warn(\n"
     ]
    },
    {
     "ename": "KeyboardInterrupt",
     "evalue": "",
     "output_type": "error",
     "traceback": [
      "\u001b[1;31m---------------------------------------------------------------------------\u001b[0m",
      "\u001b[1;31mKeyboardInterrupt\u001b[0m                         Traceback (most recent call last)",
      "\u001b[1;32m~\\AppData\\Local\\Temp/ipykernel_27884/3621451794.py\u001b[0m in \u001b[0;36m<module>\u001b[1;34m\u001b[0m\n\u001b[0;32m      7\u001b[0m         \u001b[0mx\u001b[0m \u001b[1;33m=\u001b[0m \u001b[0mtransform\u001b[0m\u001b[1;33m(\u001b[0m\u001b[0mstimulus_images\u001b[0m\u001b[1;33m[\u001b[0m\u001b[0mi\u001b[0m\u001b[1;33m]\u001b[0m\u001b[1;33m)\u001b[0m\u001b[1;33m\u001b[0m\u001b[1;33m\u001b[0m\u001b[0m\n\u001b[0;32m      8\u001b[0m         \u001b[1;32mwith\u001b[0m \u001b[0mtorch\u001b[0m\u001b[1;33m.\u001b[0m\u001b[0mno_grad\u001b[0m\u001b[1;33m(\u001b[0m\u001b[1;33m)\u001b[0m\u001b[1;33m:\u001b[0m\u001b[1;33m\u001b[0m\u001b[1;33m\u001b[0m\u001b[0m\n\u001b[1;32m----> 9\u001b[1;33m             \u001b[0mdepth\u001b[0m \u001b[1;33m=\u001b[0m \u001b[0mmodel\u001b[0m\u001b[1;33m(\u001b[0m\u001b[0mx\u001b[0m\u001b[1;33m.\u001b[0m\u001b[0mto\u001b[0m\u001b[1;33m(\u001b[0m\u001b[0mdevice\u001b[0m\u001b[1;33m)\u001b[0m\u001b[1;33m)\u001b[0m\u001b[1;33m.\u001b[0m\u001b[0mcpu\u001b[0m\u001b[1;33m(\u001b[0m\u001b[1;33m)\u001b[0m\u001b[1;33m\u001b[0m\u001b[1;33m\u001b[0m\u001b[0m\n\u001b[0m\u001b[0;32m     10\u001b[0m         \u001b[0mdset\u001b[0m\u001b[1;33m[\u001b[0m\u001b[0mi\u001b[0m\u001b[1;33m]\u001b[0m \u001b[1;33m=\u001b[0m \u001b[0mdepth\u001b[0m\u001b[1;33m[\u001b[0m\u001b[1;36m0\u001b[0m\u001b[1;33m]\u001b[0m\u001b[1;33m\u001b[0m\u001b[1;33m\u001b[0m\u001b[0m\n",
      "\u001b[1;31mKeyboardInterrupt\u001b[0m: "
     ]
    }
   ],
   "source": [
    "embeddings_path = dataset_path / 'derivatives' / 'stimulus_embeddings'\n",
    "\n",
    "with h5py.File(embeddings_path / f'{midas_type}-depth.hdf5', 'a') as f:\n",
    "    N = stimulus_images.shape[0]\n",
    "    dset = f.require_dataset('depth', (N, 384, 384), dtype='float32')\n",
    "    for i in tqdm(range(0, 54001)):\n",
    "        x = transform(stimulus_images[i]) \n",
    "        with torch.no_grad():\n",
    "            depth = model(x.to(device)).cpu()\n",
    "        dset[i] = depth[0]"
   ]
  },
  {
   "cell_type": "code",
   "execution_count": 7,
   "id": "931a5b76-642b-493d-8dca-05928c748c4b",
   "metadata": {},
   "outputs": [
    {
     "data": {
      "application/vnd.jupyter.widget-view+json": {
       "model_id": "e75d6e9c952e4e96a5a24e5db9f4c2dc",
       "version_major": 2,
       "version_minor": 0
      },
      "text/plain": [
       "interactive(children=(IntSlider(value=36499, description='i', max=72999), Output()), _dom_classes=('widget-int…"
      ]
     },
     "metadata": {},
     "output_type": "display_data"
    }
   ],
   "source": [
    "depth_cache = h5py.File(embeddings_path / f'{midas_type}.hdf5', 'r')['depth-pyramid-24'][:]\n",
    "\n",
    "depth_mean = depth_cache.mean(axis=0)\n",
    "depth_std = depth_cache.std(axis=0)\n",
    "\n",
    "\n",
    "N, H, W = depth_cache.shape\n",
    "@interact(i=(0, N-1))\n",
    "def show_depth_fft(i):\n",
    "    depth = depth_cache[i]\n",
    "    #depth_freq = np.fft.fft2(depth)\n",
    "    plt.imshow(depth)"
   ]
  },
  {
   "cell_type": "code",
   "execution_count": null,
   "id": "67d67a97-9717-4ef5-b938-e4141b8ce1f3",
   "metadata": {},
   "outputs": [],
   "source": [
    "import scipy as sp\n",
    "\n",
    "depth_cache = h5py.File(embeddings_path / f'{midas_type}-depth.hdf5', 'r')['depth']\n",
    "N, H, W = depth_cache.shape\n",
    "@interact(i=(0, N-1), S=(16, H, 16))\n",
    "def show_depth_downsample(i, S):\n",
    "    depth = depth_cache[i]\n",
    "    depth_down = sp.ndimage.zoom(depth, S / H, mode='nearest')\n",
    "    plt.figure(figsize=(8, 8))\n",
    "    plt.imshow(depth_down)\n",
    "    #print(depth.shape)\n",
    "    #print(depth_down.shape, S/H)"
   ]
  },
  {
   "cell_type": "code",
   "execution_count": null,
   "id": "09ae6b2d-7461-4b77-8d65-40b41dedc2ce",
   "metadata": {},
   "outputs": [],
   "source": [
    "import scipy as sp\n",
    "import cv2 as cv\n",
    "\n",
    "depth_cache = h5py.File(embeddings_path / f'{midas_type}.hdf5', 'r')['depth']\n",
    "N, H, W = depth_cache.shape\n",
    "@interact(i=(0, N-1), level=(0, 5))\n",
    "def show_depth_downsample(i, level):\n",
    "    depth = depth_cache[i]\n",
    "    depth_down = depth\n",
    "    for i in range(level):\n",
    "        depth_down = cv.pyrDown(depth_down)\n",
    "    print(depth_down.shape)\n",
    "    plt.figure(figsize=(8, 8))\n",
    "    plt.imshow( depth_down)\n",
    "    plt.colorbar()\n",
    "    #print(depth.shape)\n",
    "    #print(depth_down.shape, S/H)"
   ]
  },
  {
   "cell_type": "code",
   "execution_count": 11,
   "id": "e95d380b-1281-4ba7-b62a-2629c071083f",
   "metadata": {},
   "outputs": [
    {
     "data": {
      "application/vnd.jupyter.widget-view+json": {
       "model_id": "553f82df653842408d3563e7e816d1d6",
       "version_major": 2,
       "version_minor": 0
      },
      "text/plain": [
       "  0%|          | 0/73000 [00:00<?, ?it/s]"
      ]
     },
     "metadata": {},
     "output_type": "display_data"
    }
   ],
   "source": [
    "import cv2 as cv\n",
    "\n",
    "embeddings_path = dataset_path / 'derivatives' / 'stimulus_embeddings'\n",
    "\n",
    "with h5py.File(embeddings_path / f'{midas_type}.hdf5', 'a') as f:\n",
    "    depth_dset = f['depth']\n",
    "    N, H, W = f['depth'].shape\n",
    "    pyramid_dset = f.require_dataset('depth-pyramid-24', (N, 24, 24), dtype='float32')\n",
    "    for i in tqdm(range(N)):\n",
    "        depth_down = f['depth'][i]\n",
    "        for j in range(4):\n",
    "            depth_down = cv.pyrDown(depth_down)\n",
    "        f['depth-pyramid-24'][i] = depth_down"
   ]
  },
  {
   "cell_type": "code",
   "execution_count": 21,
   "id": "d46b99e4-0463-437d-9f2a-a40527868a31",
   "metadata": {},
   "outputs": [
    {
     "data": {
      "application/vnd.jupyter.widget-view+json": {
       "model_id": "fb3dffbf461a4e62b43b749f09bc1707",
       "version_major": 2,
       "version_minor": 0
      },
      "text/plain": [
       "interactive(children=(IntSlider(value=11, description='h', max=23), IntSlider(value=11, description='w', max=2…"
      ]
     },
     "metadata": {},
     "output_type": "display_data"
    }
   ],
   "source": [
    "with h5py.File(embeddings_path / f'{midas_type}.hdf5', 'r') as f:\n",
    "    depth = f['depth-pyramid-24'][:]\n",
    "    \n",
    "    depth_mean = depth_cache.mean(axis=0, keepdims=True)\n",
    "    depth_std = depth_cache.std(axis=0, keepdims=True)\n",
    "    depth = (depth - depth_mean) / depth_std\n",
    "    N, H, W = depth.shape\n",
    "    @interact(h=(0, H-1), w=(0, W-1))\n",
    "    def show_hist(h, w):\n",
    "        d = depth[:, h, w]\n",
    "        print(d.min(), d.max(), d.mean(), d.std())\n",
    "        plt.hist(d, log=True, bins=100)"
   ]
  },
  {
   "cell_type": "code",
   "execution_count": 12,
   "id": "3714bb8d-d2f1-4a87-80f1-45cab538aea4",
   "metadata": {},
   "outputs": [
    {
     "data": {
      "application/vnd.jupyter.widget-view+json": {
       "model_id": "cbd597a918d34630b243daf22c3ec094",
       "version_major": 2,
       "version_minor": 0
      },
      "text/plain": [
       "interactive(children=(IntSlider(value=50, description='n'), Output()), _dom_classes=('widget-interact',))"
      ]
     },
     "metadata": {},
     "output_type": "display_data"
    }
   ],
   "source": [
    "# Look at results of ridge regression depth encoding model\n",
    "\n",
    "dataset_path = Path('D:\\\\Datasets\\\\NSD\\\\')\n",
    "derivatives_path = dataset_path / 'derivatives'\n",
    "\n",
    "encoder_params = h5py.File(derivatives_path / 'fracridge-parameters.hdf5', 'r')\n",
    "depth_encoder = encoder_params['subj01/DPT_Large/depth-pyramid-24']\n",
    "sorted_indices = depth_encoder['sorted_indices'][:]\n",
    "coefs = depth_encoder['coefs']\n",
    "N = sorted_indices.shape[0]\n",
    "\n",
    "@interact(n=(0, 100))\n",
    "def show_coefs(n):\n",
    "    i, j, k = sorted_indices[n]\n",
    "    depth_r2 = depth_encoder['r2'][i, j, k]\n",
    "    print(depth_r2)\n",
    "    depth_coefs = coefs[i, j, k].reshape(24, 24)\n",
    "    plt.imshow(depth_coefs)\n"
   ]
  }
 ],
 "metadata": {
  "kernelspec": {
   "display_name": "Neurophysiological-Data-Decoding",
   "language": "python",
   "name": "neurophysiological-data-decoding"
  },
  "language_info": {
   "codemirror_mode": {
    "name": "ipython",
    "version": 3
   },
   "file_extension": ".py",
   "mimetype": "text/x-python",
   "name": "python",
   "nbconvert_exporter": "python",
   "pygments_lexer": "ipython3",
   "version": "3.8.12"
  }
 },
 "nbformat": 4,
 "nbformat_minor": 5
}
