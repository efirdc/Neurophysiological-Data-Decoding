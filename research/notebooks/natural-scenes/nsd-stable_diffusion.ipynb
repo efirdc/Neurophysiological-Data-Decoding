{
 "cells": [
  {
   "cell_type": "code",
   "execution_count": null,
   "id": "242424ff-1640-46cd-9c81-bec8587b8434",
   "metadata": {},
   "outputs": [],
   "source": [
    "%load_ext autoreload\n",
    "%autoreload 2\n",
    "%matplotlib inline\n",
    "\n",
    "import os\n",
    "import sys\n",
    "import time\n",
    "import random\n",
    "import json\n",
    "import gc\n",
    "\n",
    "import PIL\n",
    "from PIL import Image\n",
    "import numpy as np\n",
    "import pandas as pd\n",
    "import torch\n",
    "import h5py\n",
    "from ipywidgets import interact\n",
    "import matplotlib.pyplot as plt\n",
    "from pathlib import Path\n",
    "from tqdm.notebook import tqdm\n",
    "import nibabel as nib\n",
    "from einops import rearrange\n",
    "from scipy import ndimage\n",
    "from omegaconf import OmegaConf\n",
    "\n",
    "dir2 = os.path.abspath('../..')\n",
    "dir1 = os.path.dirname(dir2)\n",
    "if not dir1 in sys.path: \n",
    "    sys.path.append(dir1)\n",
    "    \n",
    "sys.path.insert(1, str(Path(dir1) / 'taming-transformers'))\n",
    "    \n",
    "from research.data.natural_scenes import NaturalScenesDataset\n",
    "from research.experiments.nsd.nsd_access import NSDAccess\n",
    "from research.metrics.metrics import cosine_distance, top_knn_test\n",
    "\n",
    "from ldm.util import instantiate_from_config\n",
    "from ldm.models.diffusion.ddim import DDIMSampler\n",
    "from ldm.models.diffusion.plms import PLMSSampler\n",
    "\n",
    "from diffusers.pipelines.stable_diffusion.safety_checker import StableDiffusionSafetyChecker\n",
    "from transformers import AutoFeatureExtractor"
   ]
  },
  {
   "cell_type": "code",
   "execution_count": null,
   "id": "3f09f516-c255-427c-bc83-7e03cfd4e815",
   "metadata": {
    "tags": []
   },
   "outputs": [],
   "source": [
    "# load safety model\n",
    "safety_model_id = \"CompVis/stable-diffusion-safety-checker\"\n",
    "safety_feature_extractor = AutoFeatureExtractor.from_pretrained(safety_model_id)\n",
    "safety_checker = StableDiffusionSafetyChecker.from_pretrained(safety_model_id)"
   ]
  },
  {
   "cell_type": "code",
   "execution_count": null,
   "id": "05cd9ede-6eb6-4dde-948d-f95b5b6fd403",
   "metadata": {},
   "outputs": [],
   "source": [
    "import ldm\n",
    "\n",
    "stable_diffusion_path = Path(ldm.__file__).parent.parent\n",
    "\n",
    "ckpt = 'X:\\\\Models\\\\stable-diffusion\\\\sd-v1-4.ckpt'\n",
    "config = OmegaConf.load(stable_diffusion_path / 'configs/stable-diffusion/v1-inference.yaml')\n",
    "\n",
    "pl_sd = torch.load(ckpt, map_location=\"cpu\")\n",
    "if \"global_step\" in pl_sd:\n",
    "    print(f\"Global Step: {pl_sd['global_step']}\")\n",
    "    \n",
    "sd = pl_sd[\"state_dict\"]\n",
    "model = instantiate_from_config(config.model)\n",
    "m, u = model.load_state_dict(sd, strict=False)\n",
    "\n",
    "if len(m) > 0 and verbose:\n",
    "    print(\"missing keys:\")\n",
    "    print(m)\n",
    "if len(u) > 0 and verbose:\n",
    "    print(\"unexpected keys:\")\n",
    "    print(u)\n",
    "\n",
    "model.cuda()\n",
    "model.eval()\n",
    "\n",
    "sampler = DDIMSampler(model)"
   ]
  },
  {
   "cell_type": "code",
   "execution_count": null,
   "id": "d4213f45-3d6e-4967-b25d-06b24ffb5a14",
   "metadata": {},
   "outputs": [],
   "source": [
    "from taming.modules.vqvae.quantize import VectorQuantizer2 as VectorQuantizer"
   ]
  }
 ],
 "metadata": {
  "kernelspec": {
   "display_name": "Neurophysiological-Data-Decoding",
   "language": "python",
   "name": "neurophysiological-data-decoding"
  },
  "language_info": {
   "codemirror_mode": {
    "name": "ipython",
    "version": 3
   },
   "file_extension": ".py",
   "mimetype": "text/x-python",
   "name": "python",
   "nbconvert_exporter": "python",
   "pygments_lexer": "ipython3",
   "version": "3.8.12"
  }
 },
 "nbformat": 4,
 "nbformat_minor": 5
}
