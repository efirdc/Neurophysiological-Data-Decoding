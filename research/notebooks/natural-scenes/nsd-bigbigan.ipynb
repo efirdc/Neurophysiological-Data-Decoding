{
 "cells": [
  {
   "cell_type": "code",
   "execution_count": null,
   "id": "4bd1a695-8570-4aff-815e-c6c3e3e1e057",
   "metadata": {},
   "outputs": [],
   "source": [
    "%load_ext autoreload\n",
    "%autoreload 2\n",
    "\n",
    "import os\n",
    "import sys\n",
    "import time\n",
    "import random\n",
    "import json\n",
    "import gc\n",
    "\n",
    "import numpy as np\n",
    "import pandas as pd\n",
    "import torch\n",
    "import torchio as tio\n",
    "import h5py\n",
    "from ipywidgets import interact\n",
    "import matplotlib.pyplot as plt\n",
    "from pathlib import Path\n",
    "from tqdm.notebook import tqdm\n",
    "from einops import rearrange\n",
    "import tensorflow_hub as hub\n",
    "import tensorflow.compat.v1 as tf\n",
    "tf.disable_v2_behavior()\n",
    "\n",
    "dir2 = os.path.abspath('../..')\n",
    "dir1 = os.path.dirname(dir2)\n",
    "if not dir1 in sys.path: \n",
    "    sys.path.append(dir1)\n",
    "    \n",
    "from research.scripts.bigbigan import *"
   ]
  },
  {
   "cell_type": "code",
   "execution_count": null,
   "id": "97f84823-2c9f-4a28-9a73-2c2be1475a82",
   "metadata": {},
   "outputs": [],
   "source": [
    "dataset_path = Path('D:\\\\Datasets\\\\NSD\\\\')\n",
    "derivatives_path = dataset_path / 'derivatives'\n",
    "betas_path = dataset_path / 'nsddata_betas' / 'ppdata'\n",
    "ppdata_path = dataset_path / 'nsddata' / 'ppdata'"
   ]
  },
  {
   "cell_type": "code",
   "execution_count": null,
   "id": "247f95a4-f70e-4a7f-aa27-6c6aeef9d196",
   "metadata": {},
   "outputs": [],
   "source": [
    "model_name = 'bigbigan-resnet50'# ResNet-50\n",
    "#model_name = 'bigbigan-revnet50x4' # RevNet-50 x4\n",
    "module_path = f'https://tfhub.dev/deepmind/{model_name}/1'\n",
    "\n",
    "# module = hub.Module(module_path, trainable=True, tags={'train'})  # training\n",
    "module = hub.Module(module_path)  # inference\n",
    "\n",
    "for signature in module.get_signature_names():\n",
    "    print('Signature:', signature)\n",
    "    print('Inputs:', pformat(module.get_input_info_dict(signature)))\n",
    "    print('Outputs:', pformat(module.get_output_info_dict(signature)))\n",
    "    print()"
   ]
  },
  {
   "cell_type": "code",
   "execution_count": null,
   "id": "7617b017-5bbc-4f75-842f-73c91be8ccc9",
   "metadata": {},
   "outputs": [],
   "source": [
    "bigbigan = BigBiGAN(module)\n",
    "\n",
    "# Make input placeholders for x (`enc_ph`) and z (`gen_ph`).\n",
    "enc_ph = bigbigan.make_encoder_ph()\n",
    "gen_ph = bigbigan.make_generator_ph()\n",
    "\n",
    "# Compute samples G(z) from encoder input z (`gen_ph`).\n",
    "gen_samples = bigbigan.generate(gen_ph)\n",
    "\n",
    "# Compute reconstructions G(E(x)) of encoder input x (`enc_ph`).\n",
    "recon_x = bigbigan.reconstruct_x(enc_ph, upsample=True)\n",
    "\n",
    "# Compute encoder features used for representation learning evaluations given\n",
    "# encoder input x (`enc_ph`).\n",
    "enc_features = bigbigan.encode(enc_ph, return_all_features=True)\n",
    "\n",
    "# Compute discriminator scores for encoder pairs (x, E(x)) given x (`enc_ph`)\n",
    "# and generator pairs (G(z), z) given z (`gen_ph`).\n",
    "disc_scores_enc = bigbigan.discriminate(*bigbigan.enc_pairs_for_disc(enc_ph))\n",
    "disc_scores_gen = bigbigan.discriminate(*bigbigan.gen_pairs_for_disc(gen_ph))\n",
    "\n",
    "# Compute losses.\n",
    "losses = bigbigan.losses(enc_ph, gen_ph)"
   ]
  },
  {
   "cell_type": "code",
   "execution_count": null,
   "id": "0722e833-8700-4d18-8ae2-c70418bbabaf",
   "metadata": {},
   "outputs": [],
   "source": [
    "init = tf.global_variables_initializer()\n",
    "sess = tf.Session()\n",
    "sess.run(init)"
   ]
  },
  {
   "cell_type": "code",
   "execution_count": null,
   "id": "a27201df-c76e-46e1-8706-690f06a9a610",
   "metadata": {},
   "outputs": [],
   "source": [
    "feed_dict = {gen_ph: np.random.randn(12, 120)}\n",
    "_out_samples = sess.run(gen_samples, feed_dict=feed_dict)\n",
    "print('samples shape:', _out_samples.shape)\n",
    "imshow(imgrid(image_to_uint8(_out_samples), cols=4))"
   ]
  },
  {
   "cell_type": "code",
   "execution_count": null,
   "id": "58bc093d-ab2d-4fa8-8112-1964da8b5442",
   "metadata": {},
   "outputs": [],
   "source": [
    "subjects = {f'subj0{i}': {} for i in range(1, 9)}\n",
    "\n",
    "for subject_name, subject_data in subjects.items():\n",
    "    responses_file_path = ppdata_path / subject_name / 'behav' / 'responses.tsv'\n",
    "    subject_data['responses'] = pd.read_csv(responses_file_path, sep='\\t',)\n",
    "    \n",
    "    # The last 3 sessions are currently held-out for the algonauts challenge\n",
    "    # remove them for now.\n",
    "    session_ids = subject_data['responses']['SESSION']\n",
    "    held_out_mask = session_ids > (np.max(session_ids) - 3)\n",
    "    subject_data['responses'] = subject_data['responses'][~held_out_mask]"
   ]
  },
  {
   "cell_type": "code",
   "execution_count": null,
   "id": "688d3300-4611-4bb4-9440-a6ff09b32cab",
   "metadata": {},
   "outputs": [],
   "source": [
    "stimulu_path = dataset_path / 'nsddata_stimuli' / 'stimuli' / 'nsd' / 'nsd_stimuli.hdf5'\n",
    "stimulus_images = h5py.File(stimulu_path, 'r')['imgBrick']\n",
    "\n",
    "subject_name = 'subj01'\n",
    "\n",
    "split_name = 'split-01'\n",
    "split = h5py.File(derivatives_path / 'data_splits' / f'{split_name}.hdf5')\n",
    "subject_split = split[subject_name]\n",
    "\n",
    "test_response_mask = subject_split['test_response_mask'][:].astype(bool)\n",
    "validation_response_mask = subject_split['validation_response_mask'][:].astype(bool)\n",
    "training_response_mask = ~(test_response_mask | validation_response_mask)\n",
    "\n",
    "responses = subjects[subject_name]['responses']\n",
    "response_stimulus_ids = responses['73KID'].to_numpy()\n",
    "\n",
    "\n",
    "def select_fold_images(stimulus_images, response_mask, response_stimulus_ids):\n",
    "    response_ids = np.where(response_mask)[0]\n",
    "    stimulus_ids = response_stimulus_ids[response_ids] - 1\n",
    "    \n",
    "    argsort_ids = np.argsort(stimulus_ids)\n",
    "    unique_results = np.unique(stimulus_ids, return_counts=True)\n",
    "    unique_stimulus_ids, unique_stimulus_counts = unique_results\n",
    "    \n",
    "    X_averaged = stimulus_images[unique_stimulus_ids]\n",
    "    X = np.repeat(X_averaged, unique_stimulus_counts, axis=0)\n",
    "    \n",
    "    return X, X_averaged\n",
    "\n",
    "X_val, X_val_avg = select_fold_images(stimulus_images, validation_response_mask, response_stimulus_ids)"
   ]
  },
  {
   "cell_type": "code",
   "execution_count": null,
   "id": "4f9c02a6-cef0-40d5-afd2-3eab819a0fd2",
   "metadata": {},
   "outputs": [],
   "source": [
    "X_val.shape, X_val_avg.shape"
   ]
  },
  {
   "cell_type": "code",
   "execution_count": null,
   "id": "94aedfee-010a-4fa7-9cf7-b3a5461d1926",
   "metadata": {},
   "outputs": [],
   "source": [
    "embedding_model = 'bigbigan-resnet50'\n",
    "embedding_key = 'z_mean'\n",
    "code_name = 'averaging'\n",
    "version = '1-0'\n",
    "\n",
    "in_path = derivatives_path / 'decoded_features' / embedding_model / embedding_key / subject_name\n",
    "Z_val_avg_pred = np.load(in_path / f'Y_val_avg_pred__{code_name}__v{version}.npy')\n",
    "Z_val_avg = np.load(in_path / f'Y_val_avg__{code_name}__v{version}.npy')\n",
    "Z_val_pred = np.load(in_path / f'Y_val_pred__{code_name}__v{version}.npy')\n",
    "Z_val = np.load(in_path / f'Y_val__{code_name}__v{version}.npy')\n"
   ]
  },
  {
   "cell_type": "code",
   "execution_count": null,
   "id": "cd53721a-6265-45c0-a3cb-b451fbe5088d",
   "metadata": {},
   "outputs": [],
   "source": [
    "Z_val_pred[:, 0].std()"
   ]
  },
  {
   "cell_type": "code",
   "execution_count": null,
   "id": "98bfdaba-6e07-41f4-a588-aec04a59bc0a",
   "metadata": {},
   "outputs": [],
   "source": [
    "from scipy import ndimage, misc\n",
    "from PIL import Image\n",
    "\n",
    "out_path = derivatives_path / 'results' / embedding_model / embedding_key / code_name / version / subject_name\n",
    "out_path.mkdir(exist_ok=True, parents=True)\n",
    "\n",
    "def make_images(x, z, z_pred):\n",
    "    num_samples = 13\n",
    "    z_pred_mean = z_pred[0]\n",
    "    z_pred_std = z_pred[1]\n",
    "    sample = np.random.randn(num_samples, z_pred_mean.shape[0])\n",
    "    z_pred = z_pred_mean[None, :] + z_pred_std[None, :] * sample\n",
    "\n",
    "    x_pred = sess.run(gen_samples, feed_dict={gen_ph: z_pred})\n",
    "    x_recon = sess.run(gen_samples, feed_dict={gen_ph: z[None]})\n",
    "    x = ndimage.zoom(x, (128 / x.shape[0], 128 / x.shape[1], 1))\n",
    "    x = x / 256 * 2 - 1\n",
    "\n",
    "    out = np.concatenate([x[None], x_recon, x_pred])\n",
    "\n",
    "    img = imgrid(image_to_uint8(out), cols=5)\n",
    "    return img\n",
    "\n",
    "def save_images(X, Z, Z_pred):\n",
    "    for i in tqdm(range(X.shape[0])):\n",
    "        img = make_images(X[i], Z[i], Z_pred[i])\n",
    "        Image.fromarray(img).save(out_path / f'img{i:04}.png')\n",
    "        \n",
    "def view_images(X, Z, Z_pred):\n",
    "    @interact(i=(0, X.shape[0]-1), scale=(0., 2.))\n",
    "    def show(i, scale):\n",
    "        z = Z_pred[i] * scale\n",
    "        print(z.std())\n",
    "        img = make_images(X[i], Z[i], z)\n",
    "        \n",
    "        plt.figure(figsize=(12, 12))\n",
    "        plt.imshow(img)\n",
    "    \n",
    "#view_images(X_val_avg, Z_val_avg, Z_val_avg_pred)\n",
    "#view_images(X_val, Z_val, Z_val_pred)\n",
    "save_images(X_val, Z_val, Z_val_pred)"
   ]
  },
  {
   "cell_type": "code",
   "execution_count": null,
   "id": "4fbbfc82-3b1b-4c84-a81b-f7f4df8c8550",
   "metadata": {},
   "outputs": [],
   "source": [
    "feed_dict = {gen_ph: np.random.randn(12, 120)}\n",
    "_out_samples = sess.run(gen_samples, feed_dict=feed_dict)\n",
    "print('samples shape:', _out_samples.shape)\n",
    "imshow(imgrid(image_to_uint8(_out_samples), cols=4))"
   ]
  },
  {
   "cell_type": "code",
   "execution_count": null,
   "id": "90b4fe97-2370-4073-8668-bbde12e7f9ac",
   "metadata": {},
   "outputs": [],
   "source": [
    "_out_samples.shape"
   ]
  }
 ],
 "metadata": {
  "kernelspec": {
   "display_name": "Neurophysiological-Data-Decoding",
   "language": "python",
   "name": "neurophysiological-data-decoding"
  },
  "language_info": {
   "codemirror_mode": {
    "name": "ipython",
    "version": 3
   },
   "file_extension": ".py",
   "mimetype": "text/x-python",
   "name": "python",
   "nbconvert_exporter": "python",
   "pygments_lexer": "ipython3",
   "version": "3.8.12"
  }
 },
 "nbformat": 4,
 "nbformat_minor": 5
}
