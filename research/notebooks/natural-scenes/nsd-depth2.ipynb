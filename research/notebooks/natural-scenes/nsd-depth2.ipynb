{
 "cells": [
  {
   "cell_type": "code",
   "execution_count": 1,
   "id": "78e36dbe-82aa-4ff0-80a9-eeeaea448bff",
   "metadata": {},
   "outputs": [],
   "source": [
    "%load_ext autoreload\n",
    "%autoreload 2\n",
    "\n",
    "import os\n",
    "import sys\n",
    "import time\n",
    "import random\n",
    "import json\n",
    "import gc\n",
    "from functools import partial\n",
    "from pathlib import Path\n",
    "\n",
    "import numpy as np\n",
    "import torch\n",
    "from torch import nn\n",
    "import torch.nn.functional as F\n",
    "import h5py\n",
    "from ipywidgets import interact\n",
    "import matplotlib.pyplot as plt\n",
    "from tqdm.notebook import tqdm\n",
    "from einops import rearrange\n",
    "from scipy import ndimage\n",
    "\n",
    "dir2 = os.path.abspath('../..')\n",
    "dir1 = os.path.dirname(dir2)\n",
    "if not dir1 in sys.path: \n",
    "    sys.path.append(dir1)\n",
    "    \n",
    "from pipeline.utils import index_unsorted, nested_insert, nested_select\n",
    "from pipeline.compact_json_encoder import CompactJSONEncoder"
   ]
  },
  {
   "cell_type": "code",
   "execution_count": 2,
   "id": "18b71b07-f786-40b6-af13-1275fb0a8061",
   "metadata": {},
   "outputs": [
    {
     "name": "stderr",
     "output_type": "stream",
     "text": [
      "Using cache found in C:\\Users\\Cefir/.cache\\torch\\hub\\intel-isl_MiDaS_master\n",
      "Using cache found in C:\\Users\\Cefir/.cache\\torch\\hub\\intel-isl_MiDaS_master\n"
     ]
    }
   ],
   "source": [
    "midas_type = \"DPT_Large\" # \"DPT_Large\" or \"DPT_Hybrid\"\n",
    "model = torch.hub.load(\"intel-isl/MiDaS\", midas_type)\n",
    "device = torch.device('cuda')\n",
    "model.to(device)\n",
    "model.eval()\n",
    "transform = torch.hub.load('intel-isl/MiDaS', 'transforms').dpt_transform"
   ]
  },
  {
   "cell_type": "code",
   "execution_count": 3,
   "id": "e8a084b8-b789-4e36-abb5-c94bf6710c4e",
   "metadata": {},
   "outputs": [],
   "source": [
    "dataset_path = Path('D:\\\\Datasets\\\\NSD\\\\')\n",
    "stimulu_path = dataset_path / 'nsddata_stimuli' / 'stimuli' / 'nsd' / 'nsd_stimuli.hdf5'\n",
    "stimulus_images = h5py.File(stimulu_path, 'r')['imgBrick']"
   ]
  },
  {
   "cell_type": "code",
   "execution_count": 4,
   "id": "542c937f-0f11-4bb5-bc06-66c577c7e150",
   "metadata": {},
   "outputs": [
    {
     "data": {
      "application/vnd.jupyter.widget-view+json": {
       "model_id": "662a33ea6c2c46db9b0f63feaa8b7d9a",
       "version_major": 2,
       "version_minor": 0
      },
      "text/plain": [
       "interactive(children=(IntSlider(value=36499, description='i', max=72999), Output()), _dom_classes=('widget-int…"
      ]
     },
     "metadata": {},
     "output_type": "display_data"
    }
   ],
   "source": [
    "N = stimulus_images.shape[0]\n",
    "@interact(i=(0, N-1))\n",
    "def show_depth(i):\n",
    "    image = stimulus_images[i]\n",
    "    x = transform(image)\n",
    "    with torch.no_grad():\n",
    "        depth = model(x.to(device)).cpu()\n",
    "        depth = F.interpolate(depth[:, None], size=image.shape[:2], mode='bicubic', align_corners=False)\n",
    "        depth = depth[0, 0].numpy()\n",
    "        \n",
    "    figure = plt.figure(figsize=(16, 16))\n",
    "    grid = figure.add_gridspec(1, 2)\n",
    "    \n",
    "    image_ax = figure.add_subplot(grid[0, 0])\n",
    "    image_ax.axis('off')\n",
    "    \n",
    "    depth_ax = figure.add_subplot(grid[0, 1])\n",
    "    depth_ax.axis('off')\n",
    "\n",
    "    image_ax.imshow(image)\n",
    "    depth_ax.imshow(depth)\n",
    "    plt.show()"
   ]
  },
  {
   "cell_type": "code",
   "execution_count": 7,
   "id": "5fd66757-d050-4d84-9637-0ded53b53da9",
   "metadata": {},
   "outputs": [
    {
     "data": {
      "application/vnd.jupyter.widget-view+json": {
       "model_id": "2be0e92e3e4b4a9881f3886a691b3f05",
       "version_major": 2,
       "version_minor": 0
      },
      "text/plain": [
       "interactive(children=(Dropdown(description='module_name', options=('', 'pretrained', 'pretrained.model', 'pret…"
      ]
     },
     "metadata": {},
     "output_type": "display_data"
    }
   ],
   "source": [
    "# Feature visualizer\n",
    "from PIL import Image\n",
    "from functools import partial\n",
    "\n",
    "def vis_features(x):\n",
    "    if not isinstance(x, torch.Tensor):\n",
    "        print(type(x))\n",
    "        return\n",
    "    x = x.float().cpu()\n",
    "    print(x.shape, x.dtype)\n",
    "    if len(x.shape) == 3:\n",
    "        if x.shape[1] == 577:\n",
    "            x = x[:, :-1]\n",
    "        D = x.shape[1]\n",
    "        fract, whole = np.modf(np.sqrt(D))\n",
    "        print(fract, whole)\n",
    "        if fract < 1e-5:\n",
    "            sqrt_D = int(whole)\n",
    "            x = rearrange(x, 'n (h w) c -> n c h w', h=sqrt_D, w=sqrt_D)\n",
    "    if len(x.shape) != 4:\n",
    "        return\n",
    "    N, C, W, H = x.shape\n",
    "    \n",
    "    print(x.mean(), x.std())\n",
    "\n",
    "    @interact(i=(0, N-1), c=(0, C-1))\n",
    "    def plot_feature_map(i, c):\n",
    "        fig = plt.figure(figsize=(8, 8))\n",
    "        plt.imshow(x[i, c].cpu(), cmap=\"gray\")\n",
    "        plt.colorbar()\n",
    "        plt.show()\n",
    "        plt.close(fig)\n",
    "\n",
    "\n",
    "modules = dict(model.named_modules())\n",
    "#print([(node, modules[node].__class__.__name__) for node in nodes if node in modules])\n",
    "N = stimulus_images.shape[0]\n",
    "@interact(module_name=modules.keys(), stimulus_id=(0, N-1))\n",
    "def select_module(module_name, stimulus_id):\n",
    "    global features\n",
    "    image = stimulus_images[stimulus_id]\n",
    "    x = transform(image)\n",
    "    \n",
    "    features = {}\n",
    "    def forward_hook(module_name, module, x_in, x_out):\n",
    "        features[module_name] = x_out.clone()\n",
    "    \n",
    "    module = modules[module_name]\n",
    "    hook_handle = module.register_forward_hook(partial(forward_hook, module_name))\n",
    "    \n",
    "    with torch.no_grad():\n",
    "        depth = model(x.to(device)).cpu()\n",
    "    \n",
    "    vis_features(features[module_name])"
   ]
  },
  {
   "cell_type": "code",
   "execution_count": 21,
   "id": "3c9f6af8-73d7-4776-9e80-8f14455d5da3",
   "metadata": {},
   "outputs": [
    {
     "data": {
      "text/plain": [
       "<matplotlib.image.AxesImage at 0x125b3f83280>"
      ]
     },
     "execution_count": 21,
     "metadata": {},
     "output_type": "execute_result"
    },
    {
     "data": {
      "image/png": "[encoded data removed]",
      "text/plain": [
       "<Figure size 432x288 with 1 Axes>"
      ]
     },
     "metadata": {
      "needs_background": "light"
     },
     "output_type": "display_data"
    }
   ],
   "source": [
    "x = list(features.items())[0][1]\n",
    "x = x[0, :8]\n",
    "from einops import rearrange\n",
    "x = rearrange(x, '(n1 n2) h w -> (n1 h) (n2 w )', n2=2)\n",
    "x = x.cpu()\n",
    "plt.imshow(x)"
   ]
  },
  {
   "cell_type": "code",
   "execution_count": 9,
   "id": "409c563b-0cf7-4021-aca7-a54e0b2df761",
   "metadata": {},
   "outputs": [
    {
     "data": {
      "text/plain": [
       "(0.0, 24.0)"
      ]
     },
     "execution_count": 9,
     "metadata": {},
     "output_type": "execute_result"
    }
   ],
   "source": [
    "np.modf(np.sqrt(576))"
   ]
  }
 ],
 "metadata": {
  "kernelspec": {
   "display_name": "Neurophysiological-Data-Decoding",
   "language": "python",
   "name": "neurophysiological-data-decoding"
  },
  "language_info": {
   "codemirror_mode": {
    "name": "ipython",
    "version": 3
   },
   "file_extension": ".py",
   "mimetype": "text/x-python",
   "name": "python",
   "nbconvert_exporter": "python",
   "pygments_lexer": "ipython3",
   "version": "3.8.12"
  }
 },
 "nbformat": 4,
 "nbformat_minor": 5
}
