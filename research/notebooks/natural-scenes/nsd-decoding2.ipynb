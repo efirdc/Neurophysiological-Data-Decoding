{
 "cells": [
  {
   "cell_type": "code",
   "execution_count": 1,
   "id": "1e31ce66-0b2a-4d87-9e35-c042422e0d73",
   "metadata": {},
   "outputs": [],
   "source": [
    "%load_ext autoreload\n",
    "%autoreload 2\n",
    "\n",
    "import os\n",
    "import sys\n",
    "import time\n",
    "import random\n",
    "import json\n",
    "import gc\n",
    "from typing import Tuple, Optional, Dict\n",
    "from functools import partial\n",
    "\n",
    "import numpy as np\n",
    "import pandas as pd\n",
    "import torch\n",
    "from torch import nn\n",
    "import torch.nn.functional as F\n",
    "from torch.optim import Adam\n",
    "from torch.utils.data import DataLoader, Dataset\n",
    "import h5py\n",
    "from ipywidgets import interact\n",
    "import matplotlib.pyplot as plt\n",
    "from pathlib import Path\n",
    "from tqdm.notebook import tqdm\n",
    "import nibabel as nib\n",
    "from einops import rearrange\n",
    "from scipy import ndimage\n",
    "import wandb\n",
    "\n",
    "dir2 = os.path.abspath('../..')\n",
    "dir1 = os.path.dirname(dir2)\n",
    "if not dir1 in sys.path: \n",
    "    sys.path.append(dir1)\n",
    "\n",
    "from research.data.natural_scenes import (\n",
    "    NaturalScenesDataset,\n",
    "    StimulusDataset,\n",
    "    KeyDataset\n",
    ")\n",
    "from research.models.components_2d import BlurConvTranspose2d\n",
    "from research.models.fmri_decoders import VariationalDecoder, SpatialDecoder, SpatialDiscriminator, Decoder\n",
    "from research.models.fmri_encoders import Encoder, SpatialEncoder\n",
    "from research.metrics.loss_functions import (\n",
    "    EuclideanLoss,\n",
    "    EmbeddingClassifierLoss,\n",
    "    ProbabalisticCrossEntropyLoss,\n",
    "    VariationalLoss,\n",
    "    CosineSimilarityLoss,\n",
    "    EmbeddingDistributionLoss,\n",
    "    ContrastiveDistanceLoss,\n",
    ")\n",
    "from research.experiments.nsd.nsd_experiment import NSDExperiment\n",
    "from research.metrics.metrics import (\n",
    "    cosine_similarity, \n",
    "    r2_score,\n",
    "    pearsonr,\n",
    "    embedding_distance,\n",
    "    cosine_distance,\n",
    "    squared_euclidean_distance,\n",
    "    contrastive_score,\n",
    "    two_versus_two,\n",
    "    smooth_euclidean_distance,\n",
    "    top_knn_test\n",
    ")\n",
    "from pipeline.utils import product, index_unsorted"
   ]
  },
  {
   "cell_type": "code",
   "execution_count": 2,
   "id": "9dae6e06-bab9-4a2d-896f-2ef049fd3b17",
   "metadata": {},
   "outputs": [],
   "source": [
    "from research.models.fmri_decoders import VariationalDecoder, SpatialDecoder, SpatialDiscriminator, Decoder\n",
    "from torch.optim.lr_scheduler import StepLR\n",
    "\n",
    "nsd_path = Path('D:\\\\Datasets\\\\NSD\\\\')\n",
    "nsd = NaturalScenesDataset(nsd_path)"
   ]
  },
  {
   "cell_type": "code",
   "execution_count": null,
   "id": "a4d39a8e-0236-486d-8f6c-cf09eb55a03f",
   "metadata": {},
   "outputs": [],
   "source": [
    "model_params = dict(\n",
    "    layer_sizes=[\n",
    "        512,\n",
    "        5000,\n",
    "        512,\n",
    "    ],\n",
    "    dropout_p=0.,\n",
    ")\n",
    "model = Decoder(**model_params)\n",
    "\n",
    "optimizer_params = dict(lr=1e-4)\n",
    "optimizer = Adam(\n",
    "    params=model.parameters(),\n",
    "    **optimizer_params,\n",
    ")\n",
    "\n",
    "scheduler_params = dict(\n",
    "    step_size=500,\n",
    "    gamma=0.5,\n",
    ")\n",
    "scheduler = StepLR(optimizer, **scheduler_params)"
   ]
  },
  {
   "cell_type": "code",
   "execution_count": 3,
   "id": "d14a6d9a-d683-430a-a6c9-3d95f2645430",
   "metadata": {},
   "outputs": [],
   "source": [
    "from torch.optim import Adam\n",
    "from torch.optim.lr_scheduler import StepLR"
   ]
  },
  {
   "cell_type": "code",
   "execution_count": 8,
   "id": "a7cfa449-7c5b-4ebc-a5a2-2186f3cc2c45",
   "metadata": {
    "collapsed": true,
    "jupyter": {
     "outputs_hidden": true
    },
    "tags": []
   },
   "outputs": [
    {
     "name": "stderr",
     "output_type": "stream",
     "text": [
      "Failed to detect the name of this notebook, you can set it manually with the WANDB_NOTEBOOK_NAME environment variable to enable code saving.\n",
      "wandb: Currently logged in as: efirdc. Use `wandb login --relogin` to force relogin\n"
     ]
    },
    {
     "data": {
      "text/html": [
       "wandb version 0.13.10 is available!  To upgrade, please run:\n",
       " $ pip install wandb --upgrade"
      ],
      "text/plain": [
       "<IPython.core.display.HTML object>"
      ]
     },
     "metadata": {},
     "output_type": "display_data"
    },
    {
     "data": {
      "text/html": [
       "Tracking run with wandb version 0.12.21"
      ],
      "text/plain": [
       "<IPython.core.display.HTML object>"
      ]
     },
     "metadata": {},
     "output_type": "display_data"
    },
    {
     "data": {
      "text/html": [
       "Run data is saved locally in <code>G:\\Github Repositories\\Neurophysiological-Data-Decoding\\research\\notebooks\\natural-scenes\\wandb\\run-20230209_030122-2kowr476</code>"
      ],
      "text/plain": [
       "<IPython.core.display.HTML object>"
      ]
     },
     "metadata": {},
     "output_type": "display_data"
    },
    {
     "data": {
      "text/html": [
       "Syncing run <strong><a href=\"https://wandb.ai/efirdc/natural-scenes/runs/2kowr476\" target=\"_blank\">swift-flower-602</a></strong> to <a href=\"https://wandb.ai/efirdc/natural-scenes\" target=\"_blank\">Weights & Biases</a> (<a href=\"https://wandb.me/run\" target=\"_blank\">docs</a>)<br/>"
      ],
      "text/plain": [
       "<IPython.core.display.HTML object>"
      ]
     },
     "metadata": {},
     "output_type": "display_data"
    },
    {
     "name": "stderr",
     "output_type": "stream",
     "text": [
      "100%|██████████████████████████████████████████████████████████████████████████████████████████████████████████████████████████████| 1501/1501 [06:20<00:00,  3.94it/s]\n"
     ]
    },
    {
     "data": {
      "text/html": [
       "Waiting for W&B process to finish... <strong style=\"color:green\">(success).</strong>"
      ],
      "text/plain": [
       "<IPython.core.display.HTML object>"
      ]
     },
     "metadata": {},
     "output_type": "display_data"
    },
    {
     "data": {
      "application/vnd.jupyter.widget-view+json": {
       "model_id": "",
       "version_major": 2,
       "version_minor": 0
      },
      "text/plain": [
       "VBox(children=(Label(value='0.001 MB of 0.001 MB uploaded (0.000 MB deduped)\\r'), FloatProgress(value=1.0, max…"
      ]
     },
     "metadata": {},
     "output_type": "display_data"
    },
    {
     "data": {
      "text/html": [
       "<style>\n",
       "    table.wandb td:nth-child(1) { padding: 0 10px; text-align: left ; width: auto;} td:nth-child(2) {text-align: left ; width: 100%}\n",
       "    .wandb-row { display: flex; flex-direction: row; flex-wrap: wrap; justify-content: flex-start; width: 100% }\n",
       "    .wandb-col { display: flex; flex-direction: column; flex-basis: 100%; flex: 1; padding: 10px; }\n",
       "    </style>\n",
       "<div class=\"wandb-row\"><div class=\"wandb-col\"><h3>Run history:</h3><br/><table class=\"wandb\"><tr><td>batch_size</td><td>▁▁▁▁▁▁▁▁▁▁▁▁▁▁▁▁▁▁▁▁▁▁▁▁▁▁▁▁▁▁▁▁▁▁▁▁▁▁▁▁</td></tr><tr><td>epoch</td><td>▁▁▁▁▁▂▂▂▂▃▃▃▃▃▄▄▄▄▅▅▅▅▅▅▅▅▅▆▆▆▆▇▇▇▇▇████</td></tr><tr><td>loss</td><td>█▇▇▆▆▅▅▅▅▃▃▃▄▄▂▂▂▂▂▂▂▂▂▁▂▁▁▁▁▁▁▁▁▁▁▁▁▁▁▁</td></tr><tr><td>lr</td><td>██████████████▂▂▂▂▂▂▂▂▂▂▂▂▂▁▁▁▁▁▁▁▁▁▁▁▁▁</td></tr></table><br/></div></div>"
      ],
      "text/plain": [
       "<IPython.core.display.HTML object>"
      ]
     },
     "metadata": {},
     "output_type": "display_data"
    },
    {
     "data": {
      "text/html": [
       "Synced <strong style=\"color:#cdcd00\">swift-flower-602</strong>: <a href=\"https://wandb.ai/efirdc/natural-scenes/runs/2kowr476\" target=\"_blank\">https://wandb.ai/efirdc/natural-scenes/runs/2kowr476</a><br/>Synced 5 W&B file(s), 0 media file(s), 0 artifact file(s) and 0 other file(s)"
      ],
      "text/plain": [
       "<IPython.core.display.HTML object>"
      ]
     },
     "metadata": {},
     "output_type": "display_data"
    },
    {
     "data": {
      "text/html": [
       "Find logs at: <code>.\\wandb\\run-20230209_030122-2kowr476\\logs</code>"
      ],
      "text/plain": [
       "<IPython.core.display.HTML object>"
      ]
     },
     "metadata": {},
     "output_type": "display_data"
    },
    {
     "data": {
      "text/html": [
       "wandb version 0.13.10 is available!  To upgrade, please run:\n",
       " $ pip install wandb --upgrade"
      ],
      "text/plain": [
       "<IPython.core.display.HTML object>"
      ]
     },
     "metadata": {},
     "output_type": "display_data"
    },
    {
     "data": {
      "text/html": [
       "Tracking run with wandb version 0.12.21"
      ],
      "text/plain": [
       "<IPython.core.display.HTML object>"
      ]
     },
     "metadata": {},
     "output_type": "display_data"
    },
    {
     "data": {
      "text/html": [
       "Run data is saved locally in <code>G:\\Github Repositories\\Neurophysiological-Data-Decoding\\research\\notebooks\\natural-scenes\\wandb\\run-20230209_030852-1jfyhhjv</code>"
      ],
      "text/plain": [
       "<IPython.core.display.HTML object>"
      ]
     },
     "metadata": {},
     "output_type": "display_data"
    },
    {
     "data": {
      "text/html": [
       "Syncing run <strong><a href=\"https://wandb.ai/efirdc/natural-scenes/runs/1jfyhhjv\" target=\"_blank\">trim-sponge-603</a></strong> to <a href=\"https://wandb.ai/efirdc/natural-scenes\" target=\"_blank\">Weights & Biases</a> (<a href=\"https://wandb.me/run\" target=\"_blank\">docs</a>)<br/>"
      ],
      "text/plain": [
       "<IPython.core.display.HTML object>"
      ]
     },
     "metadata": {},
     "output_type": "display_data"
    },
    {
     "name": "stderr",
     "output_type": "stream",
     "text": [
      "100%|██████████████████████████████████████████████████████████████████████████████████████████████████████████████████████████████| 1501/1501 [06:17<00:00,  3.98it/s]\n"
     ]
    },
    {
     "data": {
      "text/html": [
       "Waiting for W&B process to finish... <strong style=\"color:green\">(success).</strong>"
      ],
      "text/plain": [
       "<IPython.core.display.HTML object>"
      ]
     },
     "metadata": {},
     "output_type": "display_data"
    },
    {
     "data": {
      "application/vnd.jupyter.widget-view+json": {
       "model_id": "",
       "version_major": 2,
       "version_minor": 0
      },
      "text/plain": [
       "VBox(children=(Label(value='0.001 MB of 0.001 MB uploaded (0.000 MB deduped)\\r'), FloatProgress(value=1.0, max…"
      ]
     },
     "metadata": {},
     "output_type": "display_data"
    },
    {
     "data": {
      "text/html": [
       "<style>\n",
       "    table.wandb td:nth-child(1) { padding: 0 10px; text-align: left ; width: auto;} td:nth-child(2) {text-align: left ; width: 100%}\n",
       "    .wandb-row { display: flex; flex-direction: row; flex-wrap: wrap; justify-content: flex-start; width: 100% }\n",
       "    .wandb-col { display: flex; flex-direction: column; flex-basis: 100%; flex: 1; padding: 10px; }\n",
       "    </style>\n",
       "<div class=\"wandb-row\"><div class=\"wandb-col\"><h3>Run history:</h3><br/><table class=\"wandb\"><tr><td>batch_size</td><td>▁▁▁▁▁▁▁▁▁▁▁▁▁▁▁▁▁▁▁▁▁▁▁▁▁▁▁▁▁▁▁▁▁▁▁▁▁▁▁▁</td></tr><tr><td>epoch</td><td>▁▁▁▁▁▂▂▂▂▃▃▃▃▃▄▄▄▄▅▅▅▅▅▅▅▅▅▆▆▆▆▇▇▇▇▇████</td></tr><tr><td>loss</td><td>█▇▇▆▆▆▅▅▆▄▄▄▄▄▂▂▂▂▂▂▂▁▂▁▁▁▁▁▁▁▁▁▁▁▁▁▁▁▁▁</td></tr><tr><td>lr</td><td>██████████████▂▂▂▂▂▂▂▂▂▂▂▂▂▁▁▁▁▁▁▁▁▁▁▁▁▁</td></tr></table><br/></div></div>"
      ],
      "text/plain": [
       "<IPython.core.display.HTML object>"
      ]
     },
     "metadata": {},
     "output_type": "display_data"
    },
    {
     "data": {
      "text/html": [
       "Synced <strong style=\"color:#cdcd00\">trim-sponge-603</strong>: <a href=\"https://wandb.ai/efirdc/natural-scenes/runs/1jfyhhjv\" target=\"_blank\">https://wandb.ai/efirdc/natural-scenes/runs/1jfyhhjv</a><br/>Synced 5 W&B file(s), 0 media file(s), 0 artifact file(s) and 0 other file(s)"
      ],
      "text/plain": [
       "<IPython.core.display.HTML object>"
      ]
     },
     "metadata": {},
     "output_type": "display_data"
    },
    {
     "data": {
      "text/html": [
       "Find logs at: <code>.\\wandb\\run-20230209_030852-1jfyhhjv\\logs</code>"
      ],
      "text/plain": [
       "<IPython.core.display.HTML object>"
      ]
     },
     "metadata": {},
     "output_type": "display_data"
    },
    {
     "data": {
      "text/html": [
       "wandb version 0.13.10 is available!  To upgrade, please run:\n",
       " $ pip install wandb --upgrade"
      ],
      "text/plain": [
       "<IPython.core.display.HTML object>"
      ]
     },
     "metadata": {},
     "output_type": "display_data"
    },
    {
     "data": {
      "text/html": [
       "Tracking run with wandb version 0.12.21"
      ],
      "text/plain": [
       "<IPython.core.display.HTML object>"
      ]
     },
     "metadata": {},
     "output_type": "display_data"
    },
    {
     "data": {
      "text/html": [
       "Run data is saved locally in <code>G:\\Github Repositories\\Neurophysiological-Data-Decoding\\research\\notebooks\\natural-scenes\\wandb\\run-20230209_031605-1lk6tjt9</code>"
      ],
      "text/plain": [
       "<IPython.core.display.HTML object>"
      ]
     },
     "metadata": {},
     "output_type": "display_data"
    },
    {
     "data": {
      "text/html": [
       "Syncing run <strong><a href=\"https://wandb.ai/efirdc/natural-scenes/runs/1lk6tjt9\" target=\"_blank\">faithful-wildflower-604</a></strong> to <a href=\"https://wandb.ai/efirdc/natural-scenes\" target=\"_blank\">Weights & Biases</a> (<a href=\"https://wandb.me/run\" target=\"_blank\">docs</a>)<br/>"
      ],
      "text/plain": [
       "<IPython.core.display.HTML object>"
      ]
     },
     "metadata": {},
     "output_type": "display_data"
    },
    {
     "name": "stderr",
     "output_type": "stream",
     "text": [
      "100%|██████████████████████████████████████████████████████████████████████████████████████████████████████████████████████████████| 1501/1501 [06:14<00:00,  4.00it/s]\n"
     ]
    },
    {
     "data": {
      "text/html": [
       "Waiting for W&B process to finish... <strong style=\"color:green\">(success).</strong>"
      ],
      "text/plain": [
       "<IPython.core.display.HTML object>"
      ]
     },
     "metadata": {},
     "output_type": "display_data"
    },
    {
     "data": {
      "application/vnd.jupyter.widget-view+json": {
       "model_id": "",
       "version_major": 2,
       "version_minor": 0
      },
      "text/plain": [
       "VBox(children=(Label(value='0.001 MB of 0.001 MB uploaded (0.000 MB deduped)\\r'), FloatProgress(value=1.0, max…"
      ]
     },
     "metadata": {},
     "output_type": "display_data"
    },
    {
     "data": {
      "text/html": [
       "<style>\n",
       "    table.wandb td:nth-child(1) { padding: 0 10px; text-align: left ; width: auto;} td:nth-child(2) {text-align: left ; width: 100%}\n",
       "    .wandb-row { display: flex; flex-direction: row; flex-wrap: wrap; justify-content: flex-start; width: 100% }\n",
       "    .wandb-col { display: flex; flex-direction: column; flex-basis: 100%; flex: 1; padding: 10px; }\n",
       "    </style>\n",
       "<div class=\"wandb-row\"><div class=\"wandb-col\"><h3>Run history:</h3><br/><table class=\"wandb\"><tr><td>batch_size</td><td>▁▁▁▁▁▁▁▁▁▁▁▁▁▁▁▁▁▁▁▁▁▁▁▁▁▁▁▁▁▁▁▁▁▁▁▁▁▁▁▁</td></tr><tr><td>epoch</td><td>▁▁▁▁▁▂▂▂▂▃▃▃▃▃▄▄▄▄▅▅▅▅▅▅▅▅▅▆▆▆▆▇▇▇▇▇████</td></tr><tr><td>loss</td><td>██▇▇▇▆▆▆▆▅▄▄▅▅▂▂▂▂▂▂▂▂▂▁▂▂▂▁▁▁▁▁▁▁▁▁▁▁▁▁</td></tr><tr><td>lr</td><td>██████████████▂▂▂▂▂▂▂▂▂▂▂▂▂▁▁▁▁▁▁▁▁▁▁▁▁▁</td></tr></table><br/></div></div>"
      ],
      "text/plain": [
       "<IPython.core.display.HTML object>"
      ]
     },
     "metadata": {},
     "output_type": "display_data"
    },
    {
     "data": {
      "text/html": [
       "Synced <strong style=\"color:#cdcd00\">faithful-wildflower-604</strong>: <a href=\"https://wandb.ai/efirdc/natural-scenes/runs/1lk6tjt9\" target=\"_blank\">https://wandb.ai/efirdc/natural-scenes/runs/1lk6tjt9</a><br/>Synced 5 W&B file(s), 0 media file(s), 0 artifact file(s) and 0 other file(s)"
      ],
      "text/plain": [
       "<IPython.core.display.HTML object>"
      ]
     },
     "metadata": {},
     "output_type": "display_data"
    },
    {
     "data": {
      "text/html": [
       "Find logs at: <code>.\\wandb\\run-20230209_031605-1lk6tjt9\\logs</code>"
      ],
      "text/plain": [
       "<IPython.core.display.HTML object>"
      ]
     },
     "metadata": {},
     "output_type": "display_data"
    },
    {
     "data": {
      "text/html": [
       "wandb version 0.13.10 is available!  To upgrade, please run:\n",
       " $ pip install wandb --upgrade"
      ],
      "text/plain": [
       "<IPython.core.display.HTML object>"
      ]
     },
     "metadata": {},
     "output_type": "display_data"
    },
    {
     "data": {
      "text/html": [
       "Tracking run with wandb version 0.12.21"
      ],
      "text/plain": [
       "<IPython.core.display.HTML object>"
      ]
     },
     "metadata": {},
     "output_type": "display_data"
    },
    {
     "data": {
      "text/html": [
       "Run data is saved locally in <code>G:\\Github Repositories\\Neurophysiological-Data-Decoding\\research\\notebooks\\natural-scenes\\wandb\\run-20230209_032308-1yp7ydn8</code>"
      ],
      "text/plain": [
       "<IPython.core.display.HTML object>"
      ]
     },
     "metadata": {},
     "output_type": "display_data"
    },
    {
     "data": {
      "text/html": [
       "Syncing run <strong><a href=\"https://wandb.ai/efirdc/natural-scenes/runs/1yp7ydn8\" target=\"_blank\">celestial-donkey-605</a></strong> to <a href=\"https://wandb.ai/efirdc/natural-scenes\" target=\"_blank\">Weights & Biases</a> (<a href=\"https://wandb.me/run\" target=\"_blank\">docs</a>)<br/>"
      ],
      "text/plain": [
       "<IPython.core.display.HTML object>"
      ]
     },
     "metadata": {},
     "output_type": "display_data"
    },
    {
     "name": "stderr",
     "output_type": "stream",
     "text": [
      "100%|██████████████████████████████████████████████████████████████████████████████████████████████████████████████████████████████| 1501/1501 [06:15<00:00,  3.99it/s]\n"
     ]
    },
    {
     "data": {
      "text/html": [
       "Waiting for W&B process to finish... <strong style=\"color:green\">(success).</strong>"
      ],
      "text/plain": [
       "<IPython.core.display.HTML object>"
      ]
     },
     "metadata": {},
     "output_type": "display_data"
    },
    {
     "data": {
      "application/vnd.jupyter.widget-view+json": {
       "model_id": "",
       "version_major": 2,
       "version_minor": 0
      },
      "text/plain": [
       "VBox(children=(Label(value='0.001 MB of 0.001 MB uploaded (0.000 MB deduped)\\r'), FloatProgress(value=1.0, max…"
      ]
     },
     "metadata": {},
     "output_type": "display_data"
    },
    {
     "data": {
      "text/html": [
       "<style>\n",
       "    table.wandb td:nth-child(1) { padding: 0 10px; text-align: left ; width: auto;} td:nth-child(2) {text-align: left ; width: 100%}\n",
       "    .wandb-row { display: flex; flex-direction: row; flex-wrap: wrap; justify-content: flex-start; width: 100% }\n",
       "    .wandb-col { display: flex; flex-direction: column; flex-basis: 100%; flex: 1; padding: 10px; }\n",
       "    </style>\n",
       "<div class=\"wandb-row\"><div class=\"wandb-col\"><h3>Run history:</h3><br/><table class=\"wandb\"><tr><td>batch_size</td><td>▁▁▁▁▁▁▁▁▁▁▁▁▁▁▁▁▁▁▁▁▁▁▁▁▁▁▁▁▁▁▁▁▁▁▁▁▁▁▁▁</td></tr><tr><td>epoch</td><td>▁▁▁▁▁▂▂▂▂▃▃▃▃▃▄▄▄▄▅▅▅▅▅▅▅▅▅▆▆▆▆▇▇▇▇▇████</td></tr><tr><td>loss</td><td>█▇▇▇▇▆▆▆▆▅▄▅▅▅▃▂▂▂▂▂▂▂▂▂▁▁▁▁▁▁▁▁▁▁▁▁▁▁▁▁</td></tr><tr><td>lr</td><td>██████████████▂▂▂▂▂▂▂▂▂▂▂▂▂▁▁▁▁▁▁▁▁▁▁▁▁▁</td></tr></table><br/></div></div>"
      ],
      "text/plain": [
       "<IPython.core.display.HTML object>"
      ]
     },
     "metadata": {},
     "output_type": "display_data"
    },
    {
     "data": {
      "text/html": [
       "Synced <strong style=\"color:#cdcd00\">celestial-donkey-605</strong>: <a href=\"https://wandb.ai/efirdc/natural-scenes/runs/1yp7ydn8\" target=\"_blank\">https://wandb.ai/efirdc/natural-scenes/runs/1yp7ydn8</a><br/>Synced 5 W&B file(s), 0 media file(s), 0 artifact file(s) and 0 other file(s)"
      ],
      "text/plain": [
       "<IPython.core.display.HTML object>"
      ]
     },
     "metadata": {},
     "output_type": "display_data"
    },
    {
     "data": {
      "text/html": [
       "Find logs at: <code>.\\wandb\\run-20230209_032308-1yp7ydn8\\logs</code>"
      ],
      "text/plain": [
       "<IPython.core.display.HTML object>"
      ]
     },
     "metadata": {},
     "output_type": "display_data"
    },
    {
     "data": {
      "text/html": [
       "wandb version 0.13.10 is available!  To upgrade, please run:\n",
       " $ pip install wandb --upgrade"
      ],
      "text/plain": [
       "<IPython.core.display.HTML object>"
      ]
     },
     "metadata": {},
     "output_type": "display_data"
    },
    {
     "data": {
      "text/html": [
       "Tracking run with wandb version 0.12.21"
      ],
      "text/plain": [
       "<IPython.core.display.HTML object>"
      ]
     },
     "metadata": {},
     "output_type": "display_data"
    },
    {
     "data": {
      "text/html": [
       "Run data is saved locally in <code>G:\\Github Repositories\\Neurophysiological-Data-Decoding\\research\\notebooks\\natural-scenes\\wandb\\run-20230209_033015-3j3m78r3</code>"
      ],
      "text/plain": [
       "<IPython.core.display.HTML object>"
      ]
     },
     "metadata": {},
     "output_type": "display_data"
    },
    {
     "data": {
      "text/html": [
       "Syncing run <strong><a href=\"https://wandb.ai/efirdc/natural-scenes/runs/3j3m78r3\" target=\"_blank\">polar-dream-606</a></strong> to <a href=\"https://wandb.ai/efirdc/natural-scenes\" target=\"_blank\">Weights & Biases</a> (<a href=\"https://wandb.me/run\" target=\"_blank\">docs</a>)<br/>"
      ],
      "text/plain": [
       "<IPython.core.display.HTML object>"
      ]
     },
     "metadata": {},
     "output_type": "display_data"
    },
    {
     "name": "stderr",
     "output_type": "stream",
     "text": [
      "100%|██████████████████████████████████████████████████████████████████████████████████████████████████████████████████████████████| 1501/1501 [06:13<00:00,  4.02it/s]\n"
     ]
    },
    {
     "data": {
      "text/html": [
       "Waiting for W&B process to finish... <strong style=\"color:green\">(success).</strong>"
      ],
      "text/plain": [
       "<IPython.core.display.HTML object>"
      ]
     },
     "metadata": {},
     "output_type": "display_data"
    },
    {
     "data": {
      "application/vnd.jupyter.widget-view+json": {
       "model_id": "",
       "version_major": 2,
       "version_minor": 0
      },
      "text/plain": [
       "VBox(children=(Label(value='0.001 MB of 0.001 MB uploaded (0.000 MB deduped)\\r'), FloatProgress(value=1.0, max…"
      ]
     },
     "metadata": {},
     "output_type": "display_data"
    },
    {
     "data": {
      "text/html": [
       "<style>\n",
       "    table.wandb td:nth-child(1) { padding: 0 10px; text-align: left ; width: auto;} td:nth-child(2) {text-align: left ; width: 100%}\n",
       "    .wandb-row { display: flex; flex-direction: row; flex-wrap: wrap; justify-content: flex-start; width: 100% }\n",
       "    .wandb-col { display: flex; flex-direction: column; flex-basis: 100%; flex: 1; padding: 10px; }\n",
       "    </style>\n",
       "<div class=\"wandb-row\"><div class=\"wandb-col\"><h3>Run history:</h3><br/><table class=\"wandb\"><tr><td>batch_size</td><td>▁▁▁▁▁▁▁▁▁▁▁▁▁▁▁▁▁▁▁▁▁▁▁▁▁▁▁▁▁▁▁▁▁▁▁▁▁▁▁▁</td></tr><tr><td>epoch</td><td>▁▁▁▁▁▂▂▂▂▃▃▃▃▃▄▄▄▄▅▅▅▅▅▅▅▅▅▆▆▆▆▇▇▇▇▇████</td></tr><tr><td>loss</td><td>█████▇▇▇▇▅▅▅▅▅▃▂▂▂▂▂▂▂▂▂▂▂▁▁▁▁▁▁▁▁▁▁▁▁▁▁</td></tr><tr><td>lr</td><td>██████████████▂▂▂▂▂▂▂▂▂▂▂▂▂▁▁▁▁▁▁▁▁▁▁▁▁▁</td></tr></table><br/></div></div>"
      ],
      "text/plain": [
       "<IPython.core.display.HTML object>"
      ]
     },
     "metadata": {},
     "output_type": "display_data"
    },
    {
     "data": {
      "text/html": [
       "Synced <strong style=\"color:#cdcd00\">polar-dream-606</strong>: <a href=\"https://wandb.ai/efirdc/natural-scenes/runs/3j3m78r3\" target=\"_blank\">https://wandb.ai/efirdc/natural-scenes/runs/3j3m78r3</a><br/>Synced 5 W&B file(s), 0 media file(s), 0 artifact file(s) and 0 other file(s)"
      ],
      "text/plain": [
       "<IPython.core.display.HTML object>"
      ]
     },
     "metadata": {},
     "output_type": "display_data"
    },
    {
     "data": {
      "text/html": [
       "Find logs at: <code>.\\wandb\\run-20230209_033015-3j3m78r3\\logs</code>"
      ],
      "text/plain": [
       "<IPython.core.display.HTML object>"
      ]
     },
     "metadata": {},
     "output_type": "display_data"
    },
    {
     "data": {
      "text/html": [
       "wandb version 0.13.10 is available!  To upgrade, please run:\n",
       " $ pip install wandb --upgrade"
      ],
      "text/plain": [
       "<IPython.core.display.HTML object>"
      ]
     },
     "metadata": {},
     "output_type": "display_data"
    },
    {
     "data": {
      "text/html": [
       "Tracking run with wandb version 0.12.21"
      ],
      "text/plain": [
       "<IPython.core.display.HTML object>"
      ]
     },
     "metadata": {},
     "output_type": "display_data"
    },
    {
     "data": {
      "text/html": [
       "Run data is saved locally in <code>G:\\Github Repositories\\Neurophysiological-Data-Decoding\\research\\notebooks\\natural-scenes\\wandb\\run-20230209_033721-ppv9xosr</code>"
      ],
      "text/plain": [
       "<IPython.core.display.HTML object>"
      ]
     },
     "metadata": {},
     "output_type": "display_data"
    },
    {
     "data": {
      "text/html": [
       "Syncing run <strong><a href=\"https://wandb.ai/efirdc/natural-scenes/runs/ppv9xosr\" target=\"_blank\">polished-gorge-607</a></strong> to <a href=\"https://wandb.ai/efirdc/natural-scenes\" target=\"_blank\">Weights & Biases</a> (<a href=\"https://wandb.me/run\" target=\"_blank\">docs</a>)<br/>"
      ],
      "text/plain": [
       "<IPython.core.display.HTML object>"
      ]
     },
     "metadata": {},
     "output_type": "display_data"
    },
    {
     "name": "stderr",
     "output_type": "stream",
     "text": [
      "100%|██████████████████████████████████████████████████████████████████████████████████████████████████████████████████████████████| 1501/1501 [06:08<00:00,  4.07it/s]\n"
     ]
    },
    {
     "data": {
      "text/html": [
       "Waiting for W&B process to finish... <strong style=\"color:green\">(success).</strong>"
      ],
      "text/plain": [
       "<IPython.core.display.HTML object>"
      ]
     },
     "metadata": {},
     "output_type": "display_data"
    },
    {
     "data": {
      "application/vnd.jupyter.widget-view+json": {
       "model_id": "bcc17aa162f549e4a72644ee9f7d1434",
       "version_major": 2,
       "version_minor": 0
      },
      "text/plain": [
       "VBox(children=(Label(value='0.001 MB of 0.001 MB uploaded (0.000 MB deduped)\\r'), FloatProgress(value=1.0, max…"
      ]
     },
     "metadata": {},
     "output_type": "display_data"
    },
    {
     "data": {
      "text/html": [
       "<style>\n",
       "    table.wandb td:nth-child(1) { padding: 0 10px; text-align: left ; width: auto;} td:nth-child(2) {text-align: left ; width: 100%}\n",
       "    .wandb-row { display: flex; flex-direction: row; flex-wrap: wrap; justify-content: flex-start; width: 100% }\n",
       "    .wandb-col { display: flex; flex-direction: column; flex-basis: 100%; flex: 1; padding: 10px; }\n",
       "    </style>\n",
       "<div class=\"wandb-row\"><div class=\"wandb-col\"><h3>Run history:</h3><br/><table class=\"wandb\"><tr><td>batch_size</td><td>▁▁▁▁▁▁▁▁▁▁▁▁▁▁▁▁▁▁▁▁▁▁▁▁▁▁▁▁▁▁▁▁▁▁▁▁▁▁▁▁</td></tr><tr><td>epoch</td><td>▁▁▁▁▁▂▂▂▂▃▃▃▃▃▄▄▄▄▅▅▅▅▅▅▅▅▅▆▆▆▆▇▇▇▇▇████</td></tr><tr><td>loss</td><td>█████▇▇▇█▅▅▅▅▅▃▂▂▂▂▂▂▂▂▁▂▁▁▁▁▁▁▁▁▁▁▁▁▁▁▁</td></tr><tr><td>lr</td><td>██████████████▂▂▂▂▂▂▂▂▂▂▂▂▂▁▁▁▁▁▁▁▁▁▁▁▁▁</td></tr></table><br/></div></div>"
      ],
      "text/plain": [
       "<IPython.core.display.HTML object>"
      ]
     },
     "metadata": {},
     "output_type": "display_data"
    },
    {
     "data": {
      "text/html": [
       "Synced <strong style=\"color:#cdcd00\">polished-gorge-607</strong>: <a href=\"https://wandb.ai/efirdc/natural-scenes/runs/ppv9xosr\" target=\"_blank\">https://wandb.ai/efirdc/natural-scenes/runs/ppv9xosr</a><br/>Synced 5 W&B file(s), 0 media file(s), 0 artifact file(s) and 0 other file(s)"
      ],
      "text/plain": [
       "<IPython.core.display.HTML object>"
      ]
     },
     "metadata": {},
     "output_type": "display_data"
    },
    {
     "data": {
      "text/html": [
       "Find logs at: <code>.\\wandb\\run-20230209_033721-ppv9xosr\\logs</code>"
      ],
      "text/plain": [
       "<IPython.core.display.HTML object>"
      ]
     },
     "metadata": {},
     "output_type": "display_data"
    }
   ],
   "source": [
    "from research.experiments.nsd.nsd_run_decoding import main\n",
    "\n",
    "model_name = 'ViT-B=32'\n",
    "stimulus_key = 'embedding'\n",
    "#model_name = 'clip-vit-large-patch14'\n",
    "#stimulus_key = 'image_embedding'\n",
    "voxel_selection = 'nc'\n",
    "threshold = 5.\n",
    "num_voxels = None\n",
    "\n",
    "if voxel_selection == 'nc':\n",
    "    voxel_selection_path = 'derivatives/noise-ceiling.hdf5'\n",
    "    if threshold is None:\n",
    "        voxel_selection_key = f'split-01/sorted_indices'\n",
    "    else:\n",
    "        voxel_selection_key = f'split-01/value'\n",
    "elif voxel_selection == 'fracridge':\n",
    "    voxel_selection_path = f'derivatives/encoded_betas/{model_name}/fracridge.hdf5'\n",
    "    if threshold is None:\n",
    "        voxel_selection_key = f'{stimulus_key}/volume_indices'\n",
    "    else:\n",
    "        voxel_selection_key = f'{stimulus_key}/value'\n",
    "        \n",
    "grid_params = [\n",
    "    ('group-12', 'distance'), ('group-13', 'contrastive'), ('group-14', 'balanced'),\n",
    "]\n",
    "\n",
    "#for group_name, loss in grid_params:\n",
    "    #for subject_id in range(8):\n",
    "#subject_name = f'subj0{subject_id+1}'\n",
    "\n",
    "for permutation_fraction in [0.0, 0.2, 0.4, 0.6, 0.8, 1.0]:\n",
    "    subject_name = f'subj01'\n",
    "    experiment = main(\n",
    "        nsd_path,\n",
    "        subject_name,\n",
    "        model_name,\n",
    "        stimulus_key,\n",
    "        voxel_selection_path=voxel_selection_path,\n",
    "        voxel_selection_key=voxel_selection_key,\n",
    "        group='fractional_permutation',\n",
    "        permutation_test=True,\n",
    "        permutation_fraction=permutation_fraction,\n",
    "        max_iterations=1501,\n",
    "        loss='contrastive',\n",
    "        #loss=loss,\n",
    "        batch_size=128,\n",
    "        num_voxels=None,\n",
    "        threshold=threshold,\n",
    "        #result_key='wandb_run_name',\n",
    "    )"
   ]
  },
  {
   "cell_type": "code",
   "execution_count": null,
   "id": "138e7ea9-5776-48b7-b3fd-a84996c88838",
   "metadata": {},
   "outputs": [],
   "source": [
    "loss = nn.MSELoss(reduction='none')\n",
    "prediction = torch.randn(30, 512)\n",
    "prediction = prediction / torch.linalg.norm(prediction, axis=1, keepdim=True)\n",
    "target = torch.randn(30, 512)\n",
    "target = target / torch.linalg.norm(target, axis=1, keepdim=True)\n",
    "output = loss(prediction, target)\n",
    "output"
   ]
  },
  {
   "cell_type": "code",
   "execution_count": null,
   "id": "2c35a748-2f81-4c76-8e27-ebc4f89d07a1",
   "metadata": {},
   "outputs": [],
   "source": [
    "with torch.no_grad():\n",
    "    Y, Y_pred, stimulus_ids = experiment.run_all(experiment.val_dataset)"
   ]
  },
  {
   "cell_type": "code",
   "execution_count": null,
   "id": "6c7399e4-d421-4e7b-acb4-e85212c48953",
   "metadata": {},
   "outputs": [],
   "source": [
    "r2 = r2_score(Y, Y_pred, reduction=None)\n",
    "r2_argsort_ids = np.argsort(r2)\n",
    "\n",
    "for dim, dim_r2 in zip(r2_argsort_ids[:10], r2[r2_argsort_ids[:10]]):\n",
    "    print(f'{round(dim.item(), 3)}, {round(dim_r2.item(), 3)}')\n",
    "\n",
    "r2[r2 < -0.1] = 0\n",
    "plt.hist(r2)\n",
    "#ax[i].set_ylim(0, 225)\n",
    "#ax[i].set_xlim(-0.1, 0.7) \n",
    "#ax[i].set_xticks([0.0, 0.2, 0.4, 0.6])\n",
    "#if i > 0:\n",
    "    #ax[i].set_yticks([])\n",
    "#ax[i].set_xlabel(subject)\n",
    "plt.show()\n",
    "                       "
   ]
  },
  {
   "cell_type": "code",
   "execution_count": 6,
   "id": "153be25a-64c4-4169-88b1-8344014e6ccf",
   "metadata": {},
   "outputs": [],
   "source": [
    "# Load data\n",
    "\n",
    "from research.models.fmri_decoders import Decoder\n",
    "\n",
    "subject_name = 'subj01'\n",
    "model_name = 'ViT-B=32'\n",
    "stimulus_key = 'embedding'\n",
    "voxel_selection = 'nc'\n",
    "threshold = 5.\n",
    "num_voxels = None\n",
    "\n",
    "if voxel_selection == 'nc':\n",
    "    voxel_selection_path = 'derivatives/noise-ceiling.hdf5'\n",
    "    if threshold is None:\n",
    "        voxel_selection_key = f'split-01/sorted_indices'\n",
    "    else:\n",
    "        voxel_selection_key = f'split-01/value'\n",
    "elif voxel_selection == 'fracridge':\n",
    "    voxel_selection_path = f'derivatives/encoded_betas/{model_name}/fracridge.hdf5'\n",
    "    if threshold is None:\n",
    "        voxel_selection_key = f'{stimulus_key}/volume_indices'\n",
    "    else:\n",
    "        voxel_selection_key = f'{stimulus_key}/value'\n",
    "\n",
    "        \n",
    "train_mask, val_mask, test_mask = nsd.get_split(subject_name, 'split-01')\n",
    "\n",
    "betas_params = dict(\n",
    "    subject_name=subject_name,\n",
    "    voxel_selection_path=voxel_selection_path,\n",
    "    voxel_selection_key=voxel_selection_key,\n",
    "    num_voxels=num_voxels,\n",
    "    threshold=threshold,\n",
    "    return_volume_indices=True,\n",
    "    return_tensor_dataset=False,\n",
    ")\n",
    "betas, betas_indices = nsd.load_betas(**betas_params)\n",
    "X_train, X_val, X_test = betas[train_mask], betas[val_mask], betas[test_mask]\n",
    "\n",
    "stimulus_params = dict(\n",
    "    subject_name=subject_name,\n",
    "    stimulus_path=f'derivatives/stimulus_embeddings/{model_name}.hdf5',\n",
    "    stimulus_key=stimulus_key,\n",
    "    delay_loading=False,\n",
    "    return_tensor_dataset=False,\n",
    "    return_stimulus_ids=True,\n",
    ")\n",
    "stimulus, stimulus_ids = nsd.load_stimulus(**stimulus_params)\n",
    "stimulus = stimulus.astype(np.float32)\n",
    "Y_train, Y_val, Y_test = stimulus[train_mask], stimulus[val_mask], stimulus[test_mask]"
   ]
  },
  {
   "cell_type": "code",
   "execution_count": null,
   "id": "c4128174-d7e9-4f50-a104-9e0b3fe5fcd6",
   "metadata": {},
   "outputs": [],
   "source": [
    "n = 3\n",
    "unique_ids, unique_counts = np.unique(stimulus_ids[train_mask], return_counts=True)\n",
    "atleast_n_ids = unique_ids[unique_counts >= n]\n",
    "repetition_ids = np.stack([\n",
    "    np.where(stimulus_ids[train_mask] == i)[0][:n]\n",
    "    for i in atleast_n_ids\n",
    "])"
   ]
  },
  {
   "cell_type": "code",
   "execution_count": null,
   "id": "04f4b5c1-9eb7-4eb9-8e16-a8268e1089f3",
   "metadata": {},
   "outputs": [],
   "source": [
    "for i in unique_ids:\n",
    "    stimulus_betas = X_train[stimulus_ids[train_mask] == i]\n",
    "    betas_var.append(stimulus_betas.var(axis=0, ddof=1))\n",
    "betas_var_mean = np.nanmean(np.stack(betas_var), axis=0)\n",
    "\n",
    "std_noise = np.sqrt(betas_var_mean)"
   ]
  },
  {
   "cell_type": "code",
   "execution_count": 30,
   "id": "f038654b-231f-43f8-a3de-81a17e0b0e77",
   "metadata": {},
   "outputs": [
    {
     "data": {
      "text/plain": [
       "{0.1: [0.012333333333333333, 0.051, 0.089, 0.274, 0.4036666666666667, 0.846],\n",
       " 1.0: [0.015666666666666666,\n",
       "  0.05633333333333333,\n",
       "  0.099,\n",
       "  0.296,\n",
       "  0.43666666666666665,\n",
       "  0.8636666666666667],\n",
       " 10.0: [0.018333333333333333,\n",
       "  0.06266666666666666,\n",
       "  0.106,\n",
       "  0.317,\n",
       "  0.459,\n",
       "  0.8763333333333333],\n",
       " 100.0: [0.030666666666666665,\n",
       "  0.1,\n",
       "  0.162,\n",
       "  0.4146666666666667,\n",
       "  0.5526666666666666,\n",
       "  0.9116666666666666],\n",
       " 1000: [0.06566666666666666,\n",
       "  0.19166666666666668,\n",
       "  0.2806666666666667,\n",
       "  0.5826666666666667,\n",
       "  0.715,\n",
       "  0.953],\n",
       " 10000: [0.08533333333333333,\n",
       "  0.23233333333333334,\n",
       "  0.3373333333333333,\n",
       "  0.6496666666666666,\n",
       "  0.768,\n",
       "  0.9606666666666667],\n",
       " 100000.0: [0.052,\n",
       "  0.15666666666666668,\n",
       "  0.23666666666666666,\n",
       "  0.545,\n",
       "  0.683,\n",
       "  0.9353333333333333],\n",
       " 1000000.0: [0.018,\n",
       "  0.064,\n",
       "  0.10833333333333334,\n",
       "  0.33366666666666667,\n",
       "  0.48,\n",
       "  0.8543333333333333],\n",
       " 5000.0: [0.079,\n",
       "  0.23066666666666666,\n",
       "  0.3413333333333333,\n",
       "  0.6416666666666667,\n",
       "  0.7693333333333333,\n",
       "  0.96],\n",
       " 50000.0: [0.066, 0.18733333333333332, 0.282, 0.59, 0.7256666666666667, 0.948]}"
      ]
     },
     "execution_count": 30,
     "metadata": {},
     "output_type": "execute_result"
    }
   ],
   "source": [
    "alpha_results"
   ]
  },
  {
   "cell_type": "code",
   "execution_count": 32,
   "id": "e73b5cf6-9710-4c53-ace1-5262fd1db52b",
   "metadata": {},
   "outputs": [
    {
     "data": {
      "text/plain": [
       "WindowsPath('D:/Datasets/NSD')"
      ]
     },
     "execution_count": 32,
     "metadata": {},
     "output_type": "execute_result"
    }
   ],
   "source": []
  },
  {
   "cell_type": "code",
   "execution_count": 45,
   "id": "00202c35-150b-43af-95e3-6a0c2ffa896e",
   "metadata": {},
   "outputs": [
    {
     "name": "stdout",
     "output_type": "stream",
     "text": [
      "subj02\n"
     ]
    },
    {
     "name": "stderr",
     "output_type": "stream",
     "text": [
      "C:\\Users\\Cefir\\anaconda3\\envs\\neuro-decode\\lib\\site-packages\\sklearn\\linear_model\\_ridge.py:249: LinAlgWarning: Ill-conditioned matrix (rcond=5.0114e-10): result may not be accurate.\n",
      "  dual_coef = linalg.solve(K, y, assume_a=\"pos\", overwrite_a=False)\n"
     ]
    },
    {
     "name": "stdout",
     "output_type": "stream",
     "text": [
      "0.1 [0.02033333333333333]\n"
     ]
    },
    {
     "name": "stderr",
     "output_type": "stream",
     "text": [
      "C:\\Users\\Cefir\\anaconda3\\envs\\neuro-decode\\lib\\site-packages\\sklearn\\linear_model\\_ridge.py:249: LinAlgWarning: Ill-conditioned matrix (rcond=4.84729e-09): result may not be accurate.\n",
      "  dual_coef = linalg.solve(K, y, assume_a=\"pos\", overwrite_a=False)\n"
     ]
    },
    {
     "name": "stdout",
     "output_type": "stream",
     "text": [
      "1 [0.021333333333333333]\n"
     ]
    },
    {
     "name": "stderr",
     "output_type": "stream",
     "text": [
      "C:\\Users\\Cefir\\anaconda3\\envs\\neuro-decode\\lib\\site-packages\\sklearn\\linear_model\\_ridge.py:249: LinAlgWarning: Ill-conditioned matrix (rcond=1.75259e-08): result may not be accurate.\n",
      "  dual_coef = linalg.solve(K, y, assume_a=\"pos\", overwrite_a=False)\n"
     ]
    },
    {
     "name": "stdout",
     "output_type": "stream",
     "text": [
      "10 [0.022]\n"
     ]
    },
    {
     "name": "stderr",
     "output_type": "stream",
     "text": [
      "C:\\Users\\Cefir\\anaconda3\\envs\\neuro-decode\\lib\\site-packages\\sklearn\\linear_model\\_ridge.py:249: LinAlgWarning: Ill-conditioned matrix (rcond=3.43707e-08): result may not be accurate.\n",
      "  dual_coef = linalg.solve(K, y, assume_a=\"pos\", overwrite_a=False)\n"
     ]
    },
    {
     "name": "stdout",
     "output_type": "stream",
     "text": [
      "100 [0.028333333333333332]\n",
      "1000 [0.060333333333333336]\n",
      "10000 [0.06433333333333334]\n",
      "100000 [0.033]\n",
      "subj03\n"
     ]
    },
    {
     "name": "stderr",
     "output_type": "stream",
     "text": [
      "C:\\Users\\Cefir\\anaconda3\\envs\\neuro-decode\\lib\\site-packages\\sklearn\\linear_model\\_ridge.py:249: LinAlgWarning: Ill-conditioned matrix (rcond=6.93445e-10): result may not be accurate.\n",
      "  dual_coef = linalg.solve(K, y, assume_a=\"pos\", overwrite_a=False)\n"
     ]
    },
    {
     "name": "stdout",
     "output_type": "stream",
     "text": [
      "0.1 [0.012]\n"
     ]
    },
    {
     "name": "stderr",
     "output_type": "stream",
     "text": [
      "C:\\Users\\Cefir\\anaconda3\\envs\\neuro-decode\\lib\\site-packages\\sklearn\\linear_model\\_ridge.py:249: LinAlgWarning: Ill-conditioned matrix (rcond=7.03736e-09): result may not be accurate.\n",
      "  dual_coef = linalg.solve(K, y, assume_a=\"pos\", overwrite_a=False)\n"
     ]
    },
    {
     "name": "stdout",
     "output_type": "stream",
     "text": [
      "1 [0.012333333333333333]\n"
     ]
    },
    {
     "name": "stderr",
     "output_type": "stream",
     "text": [
      "C:\\Users\\Cefir\\anaconda3\\envs\\neuro-decode\\lib\\site-packages\\sklearn\\linear_model\\_ridge.py:249: LinAlgWarning: Ill-conditioned matrix (rcond=3.2663e-08): result may not be accurate.\n",
      "  dual_coef = linalg.solve(K, y, assume_a=\"pos\", overwrite_a=False)\n"
     ]
    },
    {
     "name": "stdout",
     "output_type": "stream",
     "text": [
      "10 [0.013]\n",
      "100 [0.019666666666666666]\n",
      "1000 [0.043]\n",
      "10000 [0.043]\n",
      "100000 [0.027]\n",
      "subj04\n"
     ]
    },
    {
     "name": "stderr",
     "output_type": "stream",
     "text": [
      "C:\\Users\\Cefir\\anaconda3\\envs\\neuro-decode\\lib\\site-packages\\sklearn\\linear_model\\_ridge.py:249: LinAlgWarning: Ill-conditioned matrix (rcond=7.4422e-10): result may not be accurate.\n",
      "  dual_coef = linalg.solve(K, y, assume_a=\"pos\", overwrite_a=False)\n"
     ]
    },
    {
     "name": "stdout",
     "output_type": "stream",
     "text": [
      "0.1 [0.025333333333333333]\n"
     ]
    },
    {
     "name": "stderr",
     "output_type": "stream",
     "text": [
      "C:\\Users\\Cefir\\anaconda3\\envs\\neuro-decode\\lib\\site-packages\\sklearn\\linear_model\\_ridge.py:249: LinAlgWarning: Ill-conditioned matrix (rcond=7.45902e-09): result may not be accurate.\n",
      "  dual_coef = linalg.solve(K, y, assume_a=\"pos\", overwrite_a=False)\n"
     ]
    },
    {
     "name": "stdout",
     "output_type": "stream",
     "text": [
      "1 [0.025333333333333333]\n"
     ]
    },
    {
     "name": "stderr",
     "output_type": "stream",
     "text": [
      "C:\\Users\\Cefir\\anaconda3\\envs\\neuro-decode\\lib\\site-packages\\sklearn\\linear_model\\_ridge.py:249: LinAlgWarning: Ill-conditioned matrix (rcond=5.03817e-08): result may not be accurate.\n",
      "  dual_coef = linalg.solve(K, y, assume_a=\"pos\", overwrite_a=False)\n"
     ]
    },
    {
     "name": "stdout",
     "output_type": "stream",
     "text": [
      "10 [0.025666666666666667]\n",
      "100 [0.032]\n",
      "1000 [0.042]\n",
      "10000 [0.04666666666666667]\n",
      "100000 [0.020666666666666667]\n",
      "subj05\n"
     ]
    },
    {
     "name": "stderr",
     "output_type": "stream",
     "text": [
      "C:\\Users\\Cefir\\anaconda3\\envs\\neuro-decode\\lib\\site-packages\\sklearn\\linear_model\\_ridge.py:249: LinAlgWarning: Ill-conditioned matrix (rcond=3.90666e-10): result may not be accurate.\n",
      "  dual_coef = linalg.solve(K, y, assume_a=\"pos\", overwrite_a=False)\n"
     ]
    },
    {
     "name": "stdout",
     "output_type": "stream",
     "text": [
      "0.1 [0.014]\n"
     ]
    },
    {
     "name": "stderr",
     "output_type": "stream",
     "text": [
      "C:\\Users\\Cefir\\anaconda3\\envs\\neuro-decode\\lib\\site-packages\\sklearn\\linear_model\\_ridge.py:249: LinAlgWarning: Ill-conditioned matrix (rcond=3.73863e-09): result may not be accurate.\n",
      "  dual_coef = linalg.solve(K, y, assume_a=\"pos\", overwrite_a=False)\n"
     ]
    },
    {
     "name": "stdout",
     "output_type": "stream",
     "text": [
      "1 [0.013666666666666667]\n"
     ]
    },
    {
     "name": "stderr",
     "output_type": "stream",
     "text": [
      "C:\\Users\\Cefir\\anaconda3\\envs\\neuro-decode\\lib\\site-packages\\sklearn\\linear_model\\_ridge.py:249: LinAlgWarning: Ill-conditioned matrix (rcond=7.6922e-09): result may not be accurate.\n",
      "  dual_coef = linalg.solve(K, y, assume_a=\"pos\", overwrite_a=False)\n"
     ]
    },
    {
     "name": "stdout",
     "output_type": "stream",
     "text": [
      "10 [0.018333333333333333]\n"
     ]
    },
    {
     "name": "stderr",
     "output_type": "stream",
     "text": [
      "C:\\Users\\Cefir\\anaconda3\\envs\\neuro-decode\\lib\\site-packages\\sklearn\\linear_model\\_ridge.py:249: LinAlgWarning: Ill-conditioned matrix (rcond=2.33993e-08): result may not be accurate.\n",
      "  dual_coef = linalg.solve(K, y, assume_a=\"pos\", overwrite_a=False)\n"
     ]
    },
    {
     "name": "stdout",
     "output_type": "stream",
     "text": [
      "100 [0.03766666666666667]\n",
      "1000 [0.08166666666666667]\n",
      "10000 [0.101]\n",
      "100000 [0.059]\n",
      "subj06\n"
     ]
    },
    {
     "name": "stderr",
     "output_type": "stream",
     "text": [
      "C:\\Users\\Cefir\\anaconda3\\envs\\neuro-decode\\lib\\site-packages\\sklearn\\linear_model\\_ridge.py:251: UserWarning: Singular matrix in solving dual problem. Using least-squares solution instead.\n",
      "  warnings.warn(\n"
     ]
    },
    {
     "name": "stdout",
     "output_type": "stream",
     "text": [
      "0.1 [0.036333333333333336]\n"
     ]
    },
    {
     "name": "stderr",
     "output_type": "stream",
     "text": [
      "C:\\Users\\Cefir\\anaconda3\\envs\\neuro-decode\\lib\\site-packages\\sklearn\\linear_model\\_ridge.py:249: LinAlgWarning: Ill-conditioned matrix (rcond=4.58191e-09): result may not be accurate.\n",
      "  dual_coef = linalg.solve(K, y, assume_a=\"pos\", overwrite_a=False)\n"
     ]
    },
    {
     "name": "stdout",
     "output_type": "stream",
     "text": [
      "1 [0.036]\n"
     ]
    },
    {
     "name": "stderr",
     "output_type": "stream",
     "text": [
      "C:\\Users\\Cefir\\anaconda3\\envs\\neuro-decode\\lib\\site-packages\\sklearn\\linear_model\\_ridge.py:249: LinAlgWarning: Ill-conditioned matrix (rcond=5.59047e-08): result may not be accurate.\n",
      "  dual_coef = linalg.solve(K, y, assume_a=\"pos\", overwrite_a=False)\n"
     ]
    },
    {
     "name": "stdout",
     "output_type": "stream",
     "text": [
      "10 [0.03666666666666667]\n",
      "100 [0.04033333333333333]\n",
      "1000 [0.047]\n",
      "10000 [0.055]\n",
      "100000 [0.035666666666666666]\n",
      "subj07\n"
     ]
    },
    {
     "name": "stderr",
     "output_type": "stream",
     "text": [
      "C:\\Users\\Cefir\\anaconda3\\envs\\neuro-decode\\lib\\site-packages\\sklearn\\linear_model\\_ridge.py:212: LinAlgWarning: Ill-conditioned matrix (rcond=2.24108e-08): result may not be accurate.\n",
      "  return linalg.solve(A, Xy, assume_a=\"pos\", overwrite_a=True).T\n"
     ]
    },
    {
     "name": "stdout",
     "output_type": "stream",
     "text": [
      "0.1 [0.025]\n"
     ]
    },
    {
     "name": "stderr",
     "output_type": "stream",
     "text": [
      "C:\\Users\\Cefir\\anaconda3\\envs\\neuro-decode\\lib\\site-packages\\sklearn\\linear_model\\_ridge.py:212: LinAlgWarning: Ill-conditioned matrix (rcond=2.28115e-08): result may not be accurate.\n",
      "  return linalg.solve(A, Xy, assume_a=\"pos\", overwrite_a=True).T\n"
     ]
    },
    {
     "name": "stdout",
     "output_type": "stream",
     "text": [
      "1 [0.025]\n"
     ]
    },
    {
     "name": "stderr",
     "output_type": "stream",
     "text": [
      "C:\\Users\\Cefir\\anaconda3\\envs\\neuro-decode\\lib\\site-packages\\sklearn\\linear_model\\_ridge.py:212: LinAlgWarning: Ill-conditioned matrix (rcond=2.67622e-08): result may not be accurate.\n",
      "  return linalg.solve(A, Xy, assume_a=\"pos\", overwrite_a=True).T\n"
     ]
    },
    {
     "name": "stdout",
     "output_type": "stream",
     "text": [
      "10 [0.027]\n",
      "100 [0.034333333333333334]\n",
      "1000 [0.051333333333333335]\n",
      "10000 [0.06166666666666667]\n",
      "100000 [0.027333333333333334]\n",
      "subj08\n"
     ]
    },
    {
     "name": "stderr",
     "output_type": "stream",
     "text": [
      "C:\\Users\\Cefir\\anaconda3\\envs\\neuro-decode\\lib\\site-packages\\sklearn\\linear_model\\_ridge.py:249: LinAlgWarning: Ill-conditioned matrix (rcond=6.90975e-10): result may not be accurate.\n",
      "  dual_coef = linalg.solve(K, y, assume_a=\"pos\", overwrite_a=False)\n"
     ]
    },
    {
     "name": "stdout",
     "output_type": "stream",
     "text": [
      "0.1 [0.0033333333333333335]\n"
     ]
    },
    {
     "name": "stderr",
     "output_type": "stream",
     "text": [
      "C:\\Users\\Cefir\\anaconda3\\envs\\neuro-decode\\lib\\site-packages\\sklearn\\linear_model\\_ridge.py:249: LinAlgWarning: Ill-conditioned matrix (rcond=1.25969e-09): result may not be accurate.\n",
      "  dual_coef = linalg.solve(K, y, assume_a=\"pos\", overwrite_a=False)\n"
     ]
    },
    {
     "name": "stdout",
     "output_type": "stream",
     "text": [
      "1 [0.0033333333333333335]\n"
     ]
    },
    {
     "name": "stderr",
     "output_type": "stream",
     "text": [
      "C:\\Users\\Cefir\\anaconda3\\envs\\neuro-decode\\lib\\site-packages\\sklearn\\linear_model\\_ridge.py:249: LinAlgWarning: Ill-conditioned matrix (rcond=9.19385e-09): result may not be accurate.\n",
      "  dual_coef = linalg.solve(K, y, assume_a=\"pos\", overwrite_a=False)\n"
     ]
    },
    {
     "name": "stdout",
     "output_type": "stream",
     "text": [
      "10 [0.007333333333333333]\n"
     ]
    },
    {
     "name": "stderr",
     "output_type": "stream",
     "text": [
      "C:\\Users\\Cefir\\anaconda3\\envs\\neuro-decode\\lib\\site-packages\\sklearn\\linear_model\\_ridge.py:249: LinAlgWarning: Ill-conditioned matrix (rcond=4.49617e-08): result may not be accurate.\n",
      "  dual_coef = linalg.solve(K, y, assume_a=\"pos\", overwrite_a=False)\n"
     ]
    },
    {
     "name": "stdout",
     "output_type": "stream",
     "text": [
      "100 [0.015666666666666666]\n",
      "1000 [0.023333333333333334]\n",
      "10000 [0.030333333333333334]\n",
      "100000 [0.015666666666666666]\n"
     ]
    }
   ],
   "source": [
    "from sklearn.linear_model import RidgeCV, Ridge\n",
    "from research.models.fmri_decoders import Decoder\n",
    "\n",
    "model_name = 'ViT-B=32'\n",
    "stimulus_key = 'embedding'\n",
    "    \n",
    "with h5py.File(nsd_path / f'derivatives/decoded_features/{model_name}/ridge-1.hdf5', 'a') as f:\n",
    "    #results = {}\n",
    "    for subject_id in range(1, 8):\n",
    "        gc.collect()\n",
    "        subject_name = f'subj0{subject_id+1}'\n",
    "        print(subject_name)\n",
    "        voxel_selection = 'nc'\n",
    "        threshold = 5.\n",
    "        num_voxels = None\n",
    "\n",
    "        if voxel_selection == 'nc':\n",
    "            voxel_selection_path = 'derivatives/noise-ceiling.hdf5'\n",
    "            if threshold is None:\n",
    "                voxel_selection_key = f'split-01/sorted_indices'\n",
    "            else:\n",
    "                voxel_selection_key = f'split-01/value'\n",
    "        elif voxel_selection == 'fracridge':\n",
    "            voxel_selection_path = f'derivatives/encoded_betas/{model_name}/fracridge.hdf5'\n",
    "            if threshold is None:\n",
    "                voxel_selection_key = f'{stimulus_key}/volume_indices'\n",
    "            else:\n",
    "                voxel_selection_key = f'{stimulus_key}/value'\n",
    "\n",
    "        train_mask, val_mask, test_mask = nsd.get_split(subject_name, 'split-01')\n",
    "\n",
    "        betas_params = dict(\n",
    "            subject_name=subject_name,\n",
    "            voxel_selection_path=voxel_selection_path,\n",
    "            voxel_selection_key=voxel_selection_key,\n",
    "            num_voxels=num_voxels,\n",
    "            threshold=threshold,\n",
    "            return_volume_indices=True,\n",
    "            return_tensor_dataset=False,\n",
    "        )\n",
    "        betas, betas_indices = nsd.load_betas(**betas_params)\n",
    "        X_train, X_val, X_test = betas[train_mask], betas[val_mask], betas[test_mask]\n",
    "\n",
    "        stimulus_params = dict(\n",
    "            subject_name=subject_name,\n",
    "            stimulus_path=f'derivatives/stimulus_embeddings/{model_name}.hdf5',\n",
    "            stimulus_key=stimulus_key,\n",
    "            delay_loading=False,\n",
    "            return_tensor_dataset=False,\n",
    "            return_stimulus_ids=True,\n",
    "        )\n",
    "        stimulus, stimulus_ids = nsd.load_stimulus(**stimulus_params)\n",
    "        stimulus = stimulus.astype(np.float32)\n",
    "        Y_train, Y_val, Y_test = stimulus[train_mask], stimulus[val_mask], stimulus[test_mask]\n",
    "\n",
    "        best_model = None\n",
    "        best_top_1 = 0\n",
    "\n",
    "        alpha_grid = (0.1, 1, 10, 100, 1000, 10000, 100000)\n",
    "        alpha_results = results[subject_name] = []\n",
    "        for alpha in alpha_grid:\n",
    "            gc.collect()\n",
    "            model = Ridge(alpha=alpha)\n",
    "            model.fit(X_train, Y_train)\n",
    "            Y_val_pred = model.predict(X_val)\n",
    "\n",
    "            metric = 'cosine'\n",
    "            top_k_values = [1]\n",
    "\n",
    "            unique_stimulus_ids, unique_index, unique_inverse = np.unique(stimulus_ids[val_mask], return_index=True, return_inverse=True)\n",
    "            top_knn_accuracy = top_knn_test(Y_val[unique_index], Y_val_pred, unique_inverse, k=top_k_values, metric=metric)\n",
    "            print(alpha, top_knn_accuracy)\n",
    "            alpha_results.append(top_knn_accuracy[0])\n",
    "\n",
    "            if top_knn_accuracy[0] > best_top_1:\n",
    "                best_top_1 = top_knn_accuracy[0]\n",
    "                best_model = model\n",
    "                \n",
    "        Y_val_pred = best_model.predict(X_val)\n",
    "        Y_test_pred = best_model.predict(X_test)\n",
    "        \n",
    "        group = f.create_group(f'{subject_name}/{stimulus_key}')\n",
    "        group[f'model/weight'] = model.coef_\n",
    "        group[f'model/bias'] = model.intercept_\n",
    "        group[f'volume_indices'] = betas_indices\n",
    "        group[f'val/Y_pred'] = Y_val_pred\n",
    "        group[f'val/stimulus_ids'] = stimulus_ids[val_mask]\n",
    "        group[f'test/Y_pred'] = Y_test_pred\n",
    "        group[f'test/stimulus_ids'] = stimulus_ids[test_mask]\n",
    "    "
   ]
  },
  {
   "cell_type": "code",
   "execution_count": 57,
   "id": "591b6847-0f8b-4f72-94c7-7e2b717d2ffa",
   "metadata": {},
   "outputs": [
    {
     "data": {
      "image/png": "[encoded data removed]",
      "text/plain": [
       "<Figure size 640x480 with 1 Axes>"
      ]
     },
     "metadata": {},
     "output_type": "display_data"
    }
   ],
   "source": [
    "x = np.arange(len(alpha_grid))\n",
    "plt.xlabel('alpha')\n",
    "plt.ylabel('top 1 accuracy')\n",
    "plt.title('top 1 accuracy vs ridge regression accuracy')\n",
    "for subject_name, top_1 in results.items():\n",
    "    plt.plot(x, np.array(top_1) * 100, label=subject_name)\n",
    "    plt.xticks(x, alpha_grid)\n",
    "plt.legend()\n",
    "plt.show()"
   ]
  },
  {
   "cell_type": "code",
   "execution_count": 44,
   "id": "8cdae0b5-955a-49db-8b3e-d7e1f45191fd",
   "metadata": {},
   "outputs": [],
   "source": [
    "with h5py.File(nsd_path / f'derivatives/decoded_features/{model_name}/ridge-1.hdf5', 'w') as f:\n",
    "    group = f.create_group(f'{subject_name}/{stimulus_key}')\n",
    "    group[f'model/weight'] = model.coef_\n",
    "    group[f'model/bias'] = model.intercept_\n",
    "    group[f'volume_indices'] = betas_indices\n",
    "    group[f'val/Y_pred'] = Y_val_pred\n",
    "    group[f'val/stimulus_ids'] = stimulus_ids[val_mask]\n",
    "    group[f'test/Y_pred'] = Y_test_pred\n",
    "    group[f'test/stimulus_ids'] = stimulus_ids[test_mask]"
   ]
  },
  {
   "cell_type": "code",
   "execution_count": 39,
   "id": "4976b555-26e8-4415-b329-002af6d89306",
   "metadata": {},
   "outputs": [
    {
     "data": {
      "text/plain": [
       "array([-7.17748841e-03,  1.56651419e-02, -2.49491050e-03,  2.26902775e-02,\n",
       "        1.02065457e-02,  8.46225186e-04,  1.49679817e-02, -4.93894564e-03,\n",
       "        3.84459551e-03,  8.01596045e-03,  9.43797082e-03, -1.43056512e-02,\n",
       "        1.68215223e-02, -2.00840575e-03,  5.69361355e-03, -1.35061070e-02,\n",
       "        2.72260909e-03,  1.39706684e-02,  1.09957205e-03, -1.53705720e-02,\n",
       "       -2.33174507e-02,  5.02627762e-03,  4.95025050e-03, -1.55067509e-02,\n",
       "       -8.75763595e-03,  1.24081606e-02, -4.34409856e-04, -3.29955015e-03,\n",
       "       -6.60810713e-03, -9.25513357e-03, -8.09021294e-03,  1.40768038e-02,\n",
       "       -3.87934293e-03,  1.83499302e-03,  9.67128947e-03,  9.39584896e-03,\n",
       "       -3.28714214e-03,  4.37201263e-04, -3.88082792e-03,  7.05893561e-02,\n",
       "       -4.59140074e-03, -2.12216240e-04, -5.10125002e-03, -1.43643012e-02,\n",
       "        7.53212906e-03, -7.46068507e-02,  2.13981457e-02,  1.47317713e-02,\n",
       "       -1.11071803e-02,  8.44378583e-03,  4.42298735e-03,  2.26989179e-03,\n",
       "        1.19916769e-02, -7.15657929e-03, -1.23604033e-02,  6.96033658e-03,\n",
       "        8.61304905e-03,  4.15269146e-03,  4.55373287e-04,  5.88191440e-03,\n",
       "       -8.08478333e-03, -2.77517689e-03,  6.09489391e-03,  1.09484708e-02,\n",
       "       -7.07154954e-03, -3.83267179e-03,  1.58572365e-02,  7.61826038e-02,\n",
       "       -3.66744841e-03, -1.05570462e-02, -1.36385590e-03, -1.35747634e-03,\n",
       "       -6.96648983e-03,  2.02084403e-03,  2.73386436e-03, -6.30734069e-03,\n",
       "       -1.10782785e-02, -1.21427933e-02, -1.07345134e-02, -1.31967198e-02,\n",
       "        1.61644891e-02, -2.91291694e-03, -7.38022674e-04,  1.04769925e-02,\n",
       "        5.68999862e-03,  1.26426853e-02,  2.08965875e-02, -1.36657692e-02,\n",
       "        1.77887958e-02, -1.55653525e-02,  1.34782838e-02, -8.14600848e-03,\n",
       "       -5.99555492e-01,  2.89296149e-03, -3.67499236e-03,  3.68906604e-03,\n",
       "       -6.29513001e-04,  1.35583236e-04, -1.06279729e-02, -3.07677016e-02,\n",
       "        1.12477560e-02,  4.51216847e-03, -1.79207101e-02,  1.42255304e-02,\n",
       "        1.99545119e-02, -8.51920340e-03, -5.88858873e-02, -2.00093302e-04,\n",
       "       -4.01596306e-03, -1.02880113e-02,  5.93439094e-04, -5.31186685e-02,\n",
       "       -7.65391719e-03, -4.36821813e-03,  1.47052284e-03, -1.03803901e-02,\n",
       "       -3.64445616e-03, -4.27802932e-03,  1.99219733e-02, -9.72226728e-03,\n",
       "        7.55441003e-03,  4.94237477e-03, -2.19648308e-03, -3.04645323e-03,\n",
       "       -7.27311615e-03, -1.58921611e-02,  2.15969142e-03,  2.65149260e-03,\n",
       "       -5.50327590e-04,  8.91892146e-03,  1.83408782e-02, -6.12855144e-03,\n",
       "       -2.59280019e-03,  8.19772854e-02,  4.24995366e-03,  6.89428672e-03,\n",
       "        3.15576326e-03, -1.82401799e-02, -1.76665131e-02,  8.45429488e-03,\n",
       "        2.47703958e-03, -4.01631277e-03, -4.29729931e-03,  1.34664597e-02,\n",
       "       -1.17207319e-02,  6.74888166e-03, -7.06773810e-03,  1.13301817e-03,\n",
       "       -2.29883716e-02, -8.78611521e-04, -7.83293974e-03, -4.37839935e-03,\n",
       "        4.22435515e-02, -1.09161530e-02,  4.51991195e-03, -1.58877149e-02,\n",
       "        7.33212847e-03, -1.56885863e-03,  1.09947529e-02, -3.92738148e-05,\n",
       "       -1.74606293e-02, -2.12728791e-02,  2.44389824e-03,  4.15334664e-03,\n",
       "        9.97071899e-03, -6.83895545e-03,  3.28493044e-02,  2.58373786e-02,\n",
       "        1.17507726e-02, -2.52060313e-03,  4.27944958e-03,  1.51676573e-02,\n",
       "        1.06126466e-03, -1.18953260e-02, -9.77884419e-03, -7.64712598e-03,\n",
       "        6.59045344e-03,  5.24014281e-03,  5.38609689e-03, -3.11563076e-06,\n",
       "        4.09781653e-03, -1.61818545e-02,  3.19636823e-03, -8.18738621e-03,\n",
       "       -8.87662638e-03,  4.58062533e-03,  6.26774179e-03,  1.68658211e-03,\n",
       "       -8.28719977e-03,  2.17013224e-03,  1.04200440e-02,  4.04487737e-03,\n",
       "        3.14712781e-03,  6.52360683e-03, -2.38454714e-02, -6.86119217e-03,\n",
       "       -5.75927831e-03,  8.23990325e-04, -2.24066954e-02, -1.87414314e-03,\n",
       "        8.07058997e-03, -1.47960102e-03,  6.06682524e-03,  2.11791322e-02,\n",
       "        1.14019858e-02, -9.12263058e-03, -6.15522312e-03, -8.65376554e-03,\n",
       "        8.71287251e-04,  1.35142012e-02, -1.80107988e-02,  1.50257023e-02,\n",
       "        1.87455292e-03,  8.38487409e-03, -1.30262878e-03, -1.12823490e-02,\n",
       "        1.03852730e-02,  1.12827187e-02,  2.82516126e-02, -4.52130474e-03,\n",
       "        1.97266079e-02,  2.11522430e-02, -6.28933078e-03, -4.54092957e-03,\n",
       "       -5.97142940e-03,  6.14001742e-03, -5.43885911e-03, -4.97281412e-03,\n",
       "        2.15770723e-03,  4.90617938e-03, -1.10315159e-02, -2.26125703e-03,\n",
       "        8.68190173e-03,  2.58925483e-02,  5.60224708e-03, -2.44322028e-02,\n",
       "       -1.99896516e-03, -5.95092401e-03, -7.45840312e-04, -7.75010631e-06,\n",
       "        2.99198367e-03,  3.92539147e-03,  1.40389532e-03, -1.40651744e-02,\n",
       "       -1.71928685e-02,  1.89869851e-02,  5.46159642e-03,  1.69354100e-02,\n",
       "       -6.79827714e-03,  1.63310971e-02, -2.22608098e-03,  1.74225997e-02,\n",
       "        5.83960814e-03,  3.71531444e-03, -4.06904379e-03,  6.15053810e-03,\n",
       "       -9.17574018e-03,  3.61866201e-03,  5.29041775e-02,  8.49187933e-03,\n",
       "       -4.29464877e-03,  1.09057566e-02,  1.99876959e-03,  3.71973626e-02,\n",
       "        1.54220685e-02, -9.22874827e-03,  3.65432817e-03,  4.62403661e-03,\n",
       "        1.40002649e-02, -4.15016571e-03, -7.00248452e-03,  1.21628335e-02,\n",
       "        8.61924607e-03,  6.04675291e-03,  5.71637694e-03, -8.71055387e-03,\n",
       "       -3.10391607e-03, -7.19124312e-03, -1.03538977e-02, -5.48150809e-03,\n",
       "        1.03558153e-02,  3.06889997e-03, -2.02576332e-02,  7.85448868e-03,\n",
       "       -4.69815172e-03,  1.36583708e-02,  2.29277904e-03, -2.53006560e-03,\n",
       "       -1.16608730e-02, -9.69175994e-03,  5.21557266e-03, -5.05238058e-05,\n",
       "        5.76448208e-03, -1.68449715e-05, -1.23676201e-02,  8.91857129e-03,\n",
       "       -6.41497457e-03,  1.32713383e-02,  2.72446731e-03,  4.65587154e-03,\n",
       "       -5.69641078e-03, -5.38384495e-03, -1.48955993e-02,  5.61138103e-03,\n",
       "        1.04901316e-02, -2.02724729e-02, -2.35206462e-04,  1.83361154e-02,\n",
       "        1.98722482e-02, -2.57084379e-03, -9.38678905e-03,  1.89725813e-02,\n",
       "        8.18264335e-02,  7.61624845e-03,  4.24294127e-03,  1.78136248e-02,\n",
       "        1.62876453e-02,  2.19881479e-02, -2.51613371e-03,  9.99246491e-04,\n",
       "        2.66672559e-02,  3.13577540e-02, -1.05081704e-02, -1.71776805e-02,\n",
       "       -4.92249010e-03,  9.16219084e-04, -4.49814397e-04,  3.13598830e-05,\n",
       "        5.53063070e-03, -1.47225717e-02, -2.54003768e-04, -8.22714437e-03,\n",
       "        1.08007630e-02, -1.46665564e-02, -5.47266845e-03,  4.26742714e-03,\n",
       "       -2.37662927e-03,  8.90582241e-03,  1.36111910e-03,  5.28618647e-03,\n",
       "       -3.94960633e-03, -1.98164769e-02, -1.58031599e-03,  1.05257519e-02,\n",
       "        3.21595091e-03, -2.97454628e-03, -7.23589072e-03,  3.97190172e-03,\n",
       "        8.93342961e-03,  9.49942227e-03,  2.41286028e-03, -1.73844688e-03,\n",
       "        1.76065937e-02, -6.77336007e-03, -6.28913427e-03,  2.10451055e-02,\n",
       "       -1.56658068e-02,  1.59321874e-02, -6.72239112e-03,  1.65715686e-03,\n",
       "       -3.80232232e-03,  1.52360159e-03, -1.87038432e-03,  1.10040884e-02,\n",
       "       -2.30304934e-02,  8.47981253e-04, -3.80612421e-03, -2.43696664e-02,\n",
       "        3.14213266e-03,  7.16371601e-03,  5.32864302e-04,  1.02516050e-02,\n",
       "        6.69003045e-03, -9.10593569e-03,  2.32850835e-02,  4.95635672e-03,\n",
       "        9.66829285e-02,  1.33490525e-02, -7.13698659e-03,  9.01082251e-03,\n",
       "       -1.40290218e-03, -2.56912410e-02, -3.12861637e-03, -7.85343655e-05,\n",
       "        1.80095097e-03, -1.12788542e-03,  1.32657029e-02, -1.14778103e-03,\n",
       "       -2.07213536e-02, -2.73835510e-02, -1.52440974e-02, -7.75164180e-03,\n",
       "        7.79604679e-03,  1.53855700e-03, -1.14605529e-02, -6.46388158e-03,\n",
       "       -1.88543217e-03, -6.62486360e-04, -9.73634131e-04, -1.51352286e-02,\n",
       "        7.06454564e-04,  4.24967241e-03,  2.50809398e-02, -4.40664683e-03,\n",
       "        1.59361120e-03, -9.27005801e-03, -1.40606135e-04, -7.52638746e-03,\n",
       "        2.22406574e-02, -7.96237215e-03,  5.13701607e-03,  1.51563073e-02,\n",
       "       -8.61937460e-03,  7.40043633e-03, -1.57978944e-02, -1.66525389e-03,\n",
       "       -5.05465316e-03, -5.88054187e-04, -8.02945811e-03, -2.15974879e-02,\n",
       "        5.63934213e-04, -1.04376227e-02,  1.21575529e-02, -2.46052444e-03,\n",
       "       -1.13821998e-02, -9.89812985e-03, -8.63631535e-03, -3.51922843e-03,\n",
       "       -7.42877647e-03,  3.21814022e-03, -6.60286285e-03,  2.80679073e-02,\n",
       "        2.92599574e-02, -1.17574735e-02, -7.87888747e-03, -1.05122328e-02,\n",
       "       -1.02251498e-02,  4.68132272e-03,  1.23119750e-03, -1.01869162e-04,\n",
       "        4.87055862e-03,  5.19642746e-03,  9.35629755e-03,  2.93702376e-03,\n",
       "       -1.21460226e-03, -3.80178029e-03,  4.65900032e-03, -8.58094543e-03,\n",
       "       -4.41031111e-03, -4.64228867e-03, -1.36089241e-02, -1.03470953e-02,\n",
       "       -1.44097172e-02,  1.09207109e-02,  1.47720450e-03, -6.95489580e-03,\n",
       "        2.10089386e-02, -1.99639518e-02, -3.27108940e-03, -5.56296948e-03,\n",
       "       -8.82533658e-03,  2.13034707e-03, -2.83694686e-03, -9.27143078e-03,\n",
       "        1.52143613e-02,  1.13257580e-03,  3.86428228e-03, -1.14114573e-02,\n",
       "       -1.44652165e-02, -1.50774233e-03,  1.52848416e-03,  3.41682532e-03,\n",
       "        2.75840540e-03, -2.83982325e-02,  3.65384901e-03, -2.17168778e-02,\n",
       "        8.18892004e-05, -5.29378140e-03,  1.79106509e-03, -1.02572190e-02,\n",
       "       -6.54199906e-03, -8.58218130e-03, -1.11737149e-03,  1.27094565e-02,\n",
       "        1.04116788e-02,  7.64295971e-03, -9.79736168e-03,  9.91922151e-03,\n",
       "       -5.64621901e-03, -1.95187107e-02, -3.74675612e-03, -7.34793209e-03,\n",
       "        2.21836027e-02, -4.87424061e-02,  2.49032024e-03, -4.42399923e-03,\n",
       "        1.12795075e-02,  1.72011927e-02, -1.06105125e-02, -4.69480699e-04,\n",
       "       -1.64148137e-02, -4.20403620e-03, -2.86215101e-03,  1.56084439e-02,\n",
       "        3.87921594e-02, -1.81678440e-02, -3.78667098e-03, -1.50861102e-03,\n",
       "       -1.30512044e-02,  4.83855270e-02, -3.05147114e-04, -2.42525665e-03],\n",
       "      dtype=float32)"
      ]
     },
     "execution_count": 39,
     "metadata": {},
     "output_type": "execute_result"
    }
   ],
   "source": [
    "model.intercept_"
   ]
  },
  {
   "cell_type": "code",
   "execution_count": 22,
   "id": "0ee2e381-a3e6-4761-bce0-95cf72ac4439",
   "metadata": {},
   "outputs": [
    {
     "data": {
      "text/plain": [
       "3823"
      ]
     },
     "execution_count": 22,
     "metadata": {},
     "output_type": "execute_result"
    }
   ],
   "source": [
    "gc.collect()"
   ]
  },
  {
   "cell_type": "code",
   "execution_count": 11,
   "id": "f135006c-2db1-49b2-8f12-6ee9010d1773",
   "metadata": {},
   "outputs": [],
   "source": [
    "metric = 'cosine'\n",
    "top_k_values = [1, 5, 10, 50, 100, 500]\n",
    "\n",
    "unique_stimulus_ids, unique_index, unique_inverse = np.unique(stimulus_ids[val_mask], return_index=True, return_inverse=True)\n",
    "top_knn_accuracy = top_knn_test(Y_val[unique_index], Y_val_pred, unique_inverse, k=top_k_values, metric=metric)"
   ]
  },
  {
   "cell_type": "code",
   "execution_count": 12,
   "id": "a0c096bd-d41a-4540-b687-2bb6666b1e52",
   "metadata": {},
   "outputs": [
    {
     "data": {
      "text/plain": [
       "[0.015666666666666666,\n",
       " 0.05633333333333333,\n",
       " 0.099,\n",
       " 0.296,\n",
       " 0.43666666666666665,\n",
       " 0.8636666666666667]"
      ]
     },
     "execution_count": 12,
     "metadata": {},
     "output_type": "execute_result"
    }
   ],
   "source": [
    "top_knn_accuracy"
   ]
  },
  {
   "cell_type": "code",
   "execution_count": null,
   "id": "bdfe2cdd-c313-4a7d-acf6-354f8768b0b3",
   "metadata": {
    "tags": []
   },
   "outputs": [],
   "source": [
    "wandb_logging = False,\n",
    "\n",
    "run_models = [\n",
    "    ('ViT-B=32', 'embedding'),\n",
    "    #('ViT-B=32', 'transformer.resblocks.3'),\n",
    "    #('bigbigan-resnet50', 'z_mean'),\n",
    "    #('DPT_Large', 'scratch.refinenet4'),\n",
    "]\n",
    "\n",
    "run_models += [('ViT-B=32', f'transformer.resblocks.{i}') for i in range(12)]\n",
    "\n",
    "#subjects = nsd.subjects.keys()\n",
    "#subjects = [f'subj0{i}' for i in range(1, 9)]\n",
    "#subjects = [f'subj06' for i in range(1, 9)]\n",
    "\n",
    "for model_name, stimulus_key in run_models:\n",
    "    for subject_name in subjects:\n",
    "        def run():\n",
    "            notes = None\n",
    "\n",
    "            experiment_params = dict(\n",
    "                batch_size=128 if stimulus_key == 'embedding' else 64,\n",
    "                distance_metric='cosine' if stimulus_key == 'embedding' else 'euclidean',\n",
    "                group='group-4',\n",
    "                max_iterations = 10001,\n",
    "                evaluation_interval = 2500,\n",
    "                channels_last=False, # (model_name == 'ViT-B=32' and stimulus_key != 'embedding'),\n",
    "                wandb_logging=True,\n",
    "            )\n",
    "\n",
    "            betas_params = dict(\n",
    "                subject_name=subject_name,\n",
    "                voxel_selection_path='derivatives/voxel-selection.hdf5',\n",
    "                voxel_selection_key='nc/sorted_indices_flat',\n",
    "                num_voxels=2500,\n",
    "                return_volume_indices=True\n",
    "            )\n",
    "            betas, betas_indices = nsd.load_betas(**betas_params)\n",
    "\n",
    "            stimulus_params = dict(\n",
    "                subject_name=subject_name,\n",
    "                #stimulus_path='nsddata_stimuli/stimuli/nsd/nsd_stimuli.hdf5',\n",
    "                #stimulus_key='imgBrick',\n",
    "                stimulus_path=f'derivatives/stimulus_embeddings/{model_name}.hdf5',\n",
    "                stimulus_key=stimulus_key,\n",
    "                delay_loading=True\n",
    "            )\n",
    "            stimulus = nsd.load_stimulus(**stimulus_params)\n",
    "\n",
    "            dataset = KeyDataset({'betas': betas, 'stimulus': stimulus})\n",
    "            train_dataset, val_dataset, test_dataset = nsd.apply_subject_split(dataset, subject_name, 'split-01')\n",
    "\n",
    "            config = {'model_name': model_name, **betas_params, **stimulus_params}\n",
    "            experiment = run_experiment(\n",
    "                train_dataset,\n",
    "                val_dataset,\n",
    "                config=config,\n",
    "                **experiment_params,\n",
    "            )\n",
    "\n",
    "\n",
    "            with torch.no_grad():\n",
    "                _, Y_val_pred, Y_val_ids = experiment.run_all(val_dataset)\n",
    "                _, Y_test_pred, Y_test_ids = experiment.run_all(test_dataset)\n",
    "                _ = None\n",
    "\n",
    "\n",
    "            def require_dataset(group, key, tensor):\n",
    "                if key in group:\n",
    "                    group[key][:] = tensor\n",
    "                else:\n",
    "                    group[key] = tensor\n",
    "            results_path = nsd_path / 'derivatives/decoded_features'\n",
    "\n",
    "            key_name = wandb.run.group if wandb.run.group else wandb.run.name\n",
    "            save_file_path = results_path / wandb.config['model_name'] / f'{key_name}.hdf5'\n",
    "            save_file_path.parent.mkdir(exist_ok=True, parents=True)\n",
    "\n",
    "            h5_key = (wandb.config['subject_name'], wandb.config['stimulus_key'])\n",
    "\n",
    "            attributes = dict(wandb.config)\n",
    "            attributes['wandb_run_name'] = wandb.run.name\n",
    "            attributes['wandb_run_url'] = wandb.run.url\n",
    "            attributes['wandb_group'] = wandb.run.group\n",
    "            attributes['wandb_notes'] = wandb.run.notes\n",
    "\n",
    "            with h5py.File(save_file_path, 'a') as f:\n",
    "                key = '/'.join(h5_key)\n",
    "                group = f.require_group(key)\n",
    "                for k, v in attributes.items():\n",
    "                    group.attrs[k] = v\n",
    "                group.attrs['iteration'] = experiment.iteration\n",
    "                require_dataset(group, 'volume_indices', betas_indices)\n",
    "                require_dataset(group, 'test/Y_pred', Y_test_pred.detach().cpu())\n",
    "                require_dataset(group, 'test/stimulus_ids', Y_test_ids)\n",
    "                require_dataset(group, 'val/Y_pred', Y_val_pred.detach().cpu())\n",
    "                require_dataset(group, 'val/stimulus_ids', Y_val_ids)\n",
    "\n",
    "                model_group = group.require_group('model')\n",
    "                for param_name, weights in experiment.model.state_dict().items():\n",
    "                    weights = weights.cpu()\n",
    "                    require_dataset(model_group, param_name, weights)\n",
    "\n",
    "            experiment = None\n",
    "            wandb.finish()\n",
    "        run()\n",
    "        torch.cuda.empty_cache()\n",
    "        gc.collect()\n"
   ]
  },
  {
   "cell_type": "code",
   "execution_count": null,
   "id": "52738a0e-56f9-41db-898c-cf866c7f068f",
   "metadata": {},
   "outputs": [],
   "source": [
    "results_path = nsd_path / 'derivatives/decoded_features'\n",
    "\n",
    "group_name = 'group-5'\n",
    "fold = 'val'\n",
    "\n",
    "eval_models = [\n",
    "    ('group-10', 'ViT-B=32', 'embedding'),\n",
    "    #('group-3', 'bigbigan-resnet50', 'z_mean'),\n",
    "    #('DPT_Large', 'scratch.refinenet4'),\n",
    "    #('group-5', 'clip-vit-large-patch14-text', 'embedding_unpooled')\n",
    "]\n",
    "#eval_models += [('ViT-B=32', f'transformer.resblocks.{i}') for i in range(12)]\n",
    "\n",
    "subjects = [f'subj0{i}' for i in range(1, 9)]\n",
    "top_k_values = [1, 5, 10, 50, 100, 500]\n",
    "\n",
    "results = {}\n",
    "for group_name, model_name, stimulus_key in eval_models:\n",
    "    results[(model_name, stimulus_key)] = stimulus_results = {}\n",
    "    \n",
    "    stimulus_file = h5py.File(nsd_path / f'derivatives/stimulus_embeddings/{model_name}.hdf5', 'r')\n",
    "    stimulus = stimulus_file[stimulus_key]\n",
    "    result_file = h5py.File(nsd_path / f'derivatives/decoded_features/{model_name}/{group_name}.hdf5', 'r')\n",
    "    \n",
    "    for subject_name in subjects:\n",
    "        stimulus_results[subject_name] = subject_results = {}\n",
    "        print(model_name, stimulus_key, subject_name)\n",
    "        result = result_file[subject_name][stimulus_key][fold]\n",
    "        stimulus_ids = result['stimulus_ids'][:]\n",
    "        \n",
    "        print('load')\n",
    "        Y_pred = result['Y_pred'][:]\n",
    "        Y = index_unsorted(stimulus, stimulus_ids)\n",
    "        N = Y.shape[0]\n",
    "        Y_pred = Y_pred.reshape(N, -1)\n",
    "        Y = Y.reshape(N, -1)\n",
    "        \n",
    "        print('knn')\n",
    "        metric = 'cosine' if stimulus_key == 'embedding' else 'euclidean' \n",
    "        \n",
    "        unique_stimulus_ids, unique_index, unique_inverse = np.unique(stimulus_ids, return_index=True, return_inverse=True)\n",
    "        top_knn_accuracy = top_knn_test(Y[unique_index], Y_pred, unique_inverse, k=top_k_values, metric=metric)\n",
    "        subject_results['top_knn_accuracy'] = top_knn_accuracy\n",
    "        print(subject_results)\n",
    "        "
   ]
  },
  {
   "cell_type": "code",
   "execution_count": null,
   "id": "c63f6b5c-78c6-4109-af7e-099f2f02ffa6",
   "metadata": {},
   "outputs": [],
   "source": [
    "N = 1000\n",
    "chance_accuracy = [k / N for k in top_k_values]\n",
    "\n",
    "model_name = 'ViT-B=32'\n",
    "stimulus_key = 'embedding'\n",
    "\n",
    "plt.figure(figsize=(12, 8))\n",
    "plt.xticks(ticks=range(len(top_k_values)), labels=top_k_values)\n",
    "plt.title(f'Top knn accuracy (n={N})\\n{model_name=}, {stimulus_key=}')\n",
    "plt.xlabel('k')\n",
    "plt.ylabel('accuracy')\n",
    "plt.plot(range(len(top_k_values)), chance_accuracy, label='chance (k/n)', color='gray')\n",
    "for subject, subject_results in results[(model_name, stimulus_key)].items():\n",
    "    top_knn_accuracy = subject_results['top_knn_accuracy']\n",
    "    plt.plot(range(len(top_k_values)), top_knn_accuracy, label=subject)\n",
    "\n",
    "plt.grid()\n",
    "plt.legend()\n",
    "plt.show()"
   ]
  },
  {
   "cell_type": "code",
   "execution_count": null,
   "id": "783a0016-844d-4602-b37e-fa0c9a1724a3",
   "metadata": {},
   "outputs": [],
   "source": [
    "N = 1000\n",
    "chance_accuracy = [k / N for k in top_k_values]\n",
    "\n",
    "model_name = 'clip-vit-large-patch14-text'\n",
    "stimulus_key = 'embedding_unpooled'\n",
    "\n",
    "plt.figure(figsize=(12, 8))\n",
    "plt.xticks(ticks=range(len(top_k_values)), labels=top_k_values)\n",
    "plt.title(f'Top knn accuracy (n={N})\\n{model_name=}, {stimulus_key=}')\n",
    "plt.xlabel('k')\n",
    "plt.ylabel('accuracy')\n",
    "plt.plot(range(len(top_k_values)), chance_accuracy, label='chance (k/n)', color='gray')\n",
    "for subject, subject_results in results[(model_name, stimulus_key)].items():\n",
    "    top_knn_accuracy = subject_results['top_knn_accuracy']\n",
    "    plt.plot(range(len(top_k_values)), top_knn_accuracy, label=subject)\n",
    "\n",
    "plt.legend()\n",
    "plt.show()"
   ]
  },
  {
   "cell_type": "code",
   "execution_count": null,
   "id": "4c894204-0270-4f31-964f-151054f404b5",
   "metadata": {},
   "outputs": [],
   "source": [
    "unique_stimulus_ids, unique_indices = np.unique(stimulus_ids, return_index=True)\n",
    "\n",
    "np.stack([Y_pred[i == stimulus_ids].mean(axis=0) for i in unique_stimulus_ids]).shape"
   ]
  },
  {
   "cell_type": "code",
   "execution_count": null,
   "id": "ac42247f-11fb-4856-a871-23cb98fe866c",
   "metadata": {},
   "outputs": [],
   "source": [
    "Y_pred.shape"
   ]
  }
 ],
 "metadata": {
  "kernelspec": {
   "display_name": "neuro-decode",
   "language": "python",
   "name": "neuro-decode"
  },
  "language_info": {
   "codemirror_mode": {
    "name": "ipython",
    "version": 3
   },
   "file_extension": ".py",
   "mimetype": "text/x-python",
   "name": "python",
   "nbconvert_exporter": "python",
   "pygments_lexer": "ipython3",
   "version": "3.9.13"
  }
 },
 "nbformat": 4,
 "nbformat_minor": 5
}
