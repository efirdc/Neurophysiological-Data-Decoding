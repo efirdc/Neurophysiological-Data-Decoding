{
 "cells": [
  {
   "cell_type": "code",
   "execution_count": 2,
   "id": "english-replacement",
   "metadata": {},
   "outputs": [
    {
     "name": "stdout",
     "output_type": "stream",
     "text": [
      "The autoreload extension is already loaded. To reload it, use:\n",
      "  %reload_ext autoreload\n"
     ]
    }
   ],
   "source": [
    "%load_ext autoreload\n",
    "%autoreload 2\n",
    "%matplotlib qt\n",
    "\n",
    "import os\n",
    "import sys\n",
    "from pathlib import Path\n",
    "\n",
    "import numpy as np\n",
    "import torch\n",
    "from ipywidgets import interact\n",
    "import matplotlib.pyplot as plt\n",
    "import mne\n",
    "\n",
    "\n",
    "dir2 = os.path.abspath('..')\n",
    "dir1 = os.path.dirname(dir2)\n",
    "if not dir1 in sys.path: \n",
    "    sys.path.append(dir1)"
   ]
  },
  {
   "cell_type": "code",
   "execution_count": 3,
   "id": "biblical-remains",
   "metadata": {},
   "outputs": [
    {
     "name": "stdout",
     "output_type": "stream",
     "text": [
      "Extracting parameters from X:\\Datasets\\EEG\\Things-EEG1\\sub-01\\data\\sub-01\\eeg\\sub-01_task-rsvp_eeg.vhdr...\n",
      "Setting channel info structure...\n",
      "Extracting parameters from X:\\Datasets\\EEG\\Things-EEG1\\sub-02\\data\\sub-02\\eeg\\sub-02_task-rsvp_eeg.vhdr...\n",
      "Setting channel info structure...\n",
      "Extracting parameters from X:\\Datasets\\EEG\\Things-EEG1\\sub-03\\data\\sub-03\\eeg\\sub-03_task-rsvp_eeg.vhdr...\n",
      "Setting channel info structure...\n",
      "Extracting parameters from X:\\Datasets\\EEG\\Things-EEG1\\sub-04\\data\\sub-04\\eeg\\sub-04_task-rsvp_eeg.vhdr...\n",
      "Setting channel info structure...\n",
      "Extracting parameters from X:\\Datasets\\EEG\\Things-EEG1\\sub-05\\data\\sub-05\\eeg\\sub-05_task-rsvp_eeg.vhdr...\n",
      "Setting channel info structure...\n",
      "Extracting parameters from X:\\Datasets\\EEG\\Things-EEG1\\sub-06\\data\\sub-06\\eeg\\sub-06_task-rsvp_eeg.vhdr...\n",
      "Setting channel info structure...\n",
      "Extracting parameters from X:\\Datasets\\EEG\\Things-EEG1\\sub-07\\data\\sub-07\\eeg\\sub-07_task-rsvp_eeg.vhdr...\n",
      "Setting channel info structure...\n",
      "Extracting parameters from X:\\Datasets\\EEG\\Things-EEG1\\sub-08\\data\\sub-08\\eeg\\sub-08_task-rsvp_eeg.vhdr...\n",
      "Setting channel info structure...\n",
      "Extracting parameters from X:\\Datasets\\EEG\\Things-EEG1\\sub-09\\data\\sub-09\\eeg\\sub-09_task-rsvp_eeg.vhdr...\n",
      "Setting channel info structure...\n",
      "Extracting parameters from X:\\Datasets\\EEG\\Things-EEG1\\sub-10\\data\\sub-10\\eeg\\sub-10_task-rsvp_eeg.vhdr...\n",
      "Setting channel info structure...\n",
      "Extracting parameters from X:\\Datasets\\EEG\\Things-EEG1\\sub-11\\data\\sub-11\\eeg\\sub-11_task-rsvp_eeg.vhdr...\n",
      "Setting channel info structure...\n",
      "Extracting parameters from X:\\Datasets\\EEG\\Things-EEG1\\sub-12\\data\\sub-12\\eeg\\sub-12_task-rsvp_eeg.vhdr...\n",
      "Setting channel info structure...\n",
      "Extracting parameters from X:\\Datasets\\EEG\\Things-EEG1\\sub-13\\data\\sub-13\\eeg\\sub-13_task-rsvp_eeg.vhdr...\n",
      "Setting channel info structure...\n",
      "Extracting parameters from X:\\Datasets\\EEG\\Things-EEG1\\sub-14\\data\\sub-14\\eeg\\sub-14_task-rsvp_eeg.vhdr...\n",
      "Setting channel info structure...\n",
      "Extracting parameters from X:\\Datasets\\EEG\\Things-EEG1\\sub-15\\data\\sub-15\\eeg\\sub-15_task-rsvp_eeg.vhdr...\n",
      "Setting channel info structure...\n",
      "Extracting parameters from X:\\Datasets\\EEG\\Things-EEG1\\sub-16\\data\\sub-16\\eeg\\sub-16_task-rsvp_eeg.vhdr...\n",
      "Setting channel info structure...\n",
      "Extracting parameters from X:\\Datasets\\EEG\\Things-EEG1\\sub-17\\data\\sub-17\\eeg\\sub-17_task-rsvp_eeg.vhdr...\n",
      "Setting channel info structure...\n",
      "Extracting parameters from X:\\Datasets\\EEG\\Things-EEG1\\sub-18\\data\\sub-18\\eeg\\sub-18_task-rsvp_eeg.vhdr...\n",
      "Setting channel info structure...\n",
      "Extracting parameters from X:\\Datasets\\EEG\\Things-EEG1\\sub-19\\data\\sub-19\\eeg\\sub-19_task-rsvp_eeg.vhdr...\n",
      "Setting channel info structure...\n",
      "Extracting parameters from X:\\Datasets\\EEG\\Things-EEG1\\sub-20\\data\\sub-20\\eeg\\sub-20_task-rsvp_eeg.vhdr...\n",
      "Setting channel info structure...\n",
      "Extracting parameters from X:\\Datasets\\EEG\\Things-EEG1\\sub-21\\data\\sub-21\\eeg\\sub-21_task-rsvp_eeg.vhdr...\n",
      "Setting channel info structure...\n",
      "Extracting parameters from X:\\Datasets\\EEG\\Things-EEG1\\sub-22\\data\\sub-22\\eeg\\sub-22_task-rsvp_eeg.vhdr...\n",
      "Setting channel info structure...\n",
      "Extracting parameters from X:\\Datasets\\EEG\\Things-EEG1\\sub-23\\data\\sub-23\\eeg\\sub-23_task-rsvp_eeg.vhdr...\n",
      "Setting channel info structure...\n",
      "Extracting parameters from X:\\Datasets\\EEG\\Things-EEG1\\sub-24\\data\\sub-24\\eeg\\sub-24_task-rsvp_eeg.vhdr...\n",
      "Setting channel info structure...\n",
      "Extracting parameters from X:\\Datasets\\EEG\\Things-EEG1\\sub-25\\data\\sub-25\\eeg\\sub-25_task-rsvp_eeg.vhdr...\n",
      "Setting channel info structure...\n",
      "Extracting parameters from X:\\Datasets\\EEG\\Things-EEG1\\sub-26\\data\\sub-26\\eeg\\sub-26_task-rsvp_eeg.vhdr...\n",
      "Setting channel info structure...\n",
      "Extracting parameters from X:\\Datasets\\EEG\\Things-EEG1\\sub-27\\data\\sub-27\\eeg\\sub-27_task-rsvp_eeg.vhdr...\n",
      "Setting channel info structure...\n",
      "Extracting parameters from X:\\Datasets\\EEG\\Things-EEG1\\sub-28\\data\\sub-28\\eeg\\sub-28_task-rsvp_eeg.vhdr...\n",
      "Setting channel info structure...\n",
      "Extracting parameters from X:\\Datasets\\EEG\\Things-EEG1\\sub-29\\data\\sub-29\\eeg\\sub-29_task-rsvp_eeg.vhdr...\n",
      "Setting channel info structure...\n",
      "Extracting parameters from X:\\Datasets\\EEG\\Things-EEG1\\sub-30\\data\\sub-30\\eeg\\sub-30_task-rsvp_eeg.vhdr...\n",
      "Setting channel info structure...\n",
      "Extracting parameters from X:\\Datasets\\EEG\\Things-EEG1\\sub-31\\data\\sub-31\\eeg\\sub-31_task-rsvp_eeg.vhdr...\n",
      "Setting channel info structure...\n",
      "Extracting parameters from X:\\Datasets\\EEG\\Things-EEG1\\sub-32\\data\\sub-32\\eeg\\sub-32_task-rsvp_eeg.vhdr...\n",
      "Setting channel info structure...\n",
      "Extracting parameters from X:\\Datasets\\EEG\\Things-EEG1\\sub-33\\data\\sub-33\\eeg\\sub-33_task-rsvp_eeg.vhdr...\n",
      "Setting channel info structure...\n",
      "Extracting parameters from X:\\Datasets\\EEG\\Things-EEG1\\sub-34\\data\\sub-34\\eeg\\sub-34_task-rsvp_eeg.vhdr...\n",
      "Setting channel info structure...\n",
      "Extracting parameters from X:\\Datasets\\EEG\\Things-EEG1\\sub-35\\data\\sub-35\\eeg\\sub-35_task-rsvp_eeg.vhdr...\n",
      "Setting channel info structure...\n",
      "Extracting parameters from X:\\Datasets\\EEG\\Things-EEG1\\sub-36\\data\\sub-36\\eeg\\sub-36_task-rsvp_eeg.vhdr...\n",
      "Setting channel info structure...\n",
      "Extracting parameters from X:\\Datasets\\EEG\\Things-EEG1\\sub-37\\data\\sub-37\\eeg\\sub-37_task-rsvp_eeg.vhdr...\n",
      "Setting channel info structure...\n",
      "Extracting parameters from X:\\Datasets\\EEG\\Things-EEG1\\sub-38\\data\\sub-38\\eeg\\sub-38_task-rsvp_eeg.vhdr...\n",
      "Setting channel info structure...\n",
      "Extracting parameters from X:\\Datasets\\EEG\\Things-EEG1\\sub-39\\data\\sub-39\\eeg\\sub-39_task-rsvp_eeg.vhdr...\n",
      "Setting channel info structure...\n",
      "Extracting parameters from X:\\Datasets\\EEG\\Things-EEG1\\sub-40\\data\\sub-40\\eeg\\sub-40_task-rsvp_eeg.vhdr...\n",
      "Setting channel info structure...\n",
      "Extracting parameters from X:\\Datasets\\EEG\\Things-EEG1\\sub-41\\data\\sub-41\\eeg\\sub-41_task-rsvp_eeg.vhdr...\n",
      "Setting channel info structure...\n",
      "Extracting parameters from X:\\Datasets\\EEG\\Things-EEG1\\sub-42\\data\\sub-42\\eeg\\sub-42_task-rsvp_eeg.vhdr...\n",
      "Setting channel info structure...\n",
      "Extracting parameters from X:\\Datasets\\EEG\\Things-EEG1\\sub-43\\data\\sub-43\\eeg\\sub-43_task-rsvp_eeg.vhdr...\n",
      "Setting channel info structure...\n",
      "Extracting parameters from X:\\Datasets\\EEG\\Things-EEG1\\sub-44\\data\\sub-44\\eeg\\sub-44_task-rsvp_eeg.vhdr...\n",
      "Setting channel info structure...\n",
      "Extracting parameters from X:\\Datasets\\EEG\\Things-EEG1\\sub-45\\data\\sub-45\\eeg\\sub-45_task-rsvp_eeg.vhdr...\n",
      "Setting channel info structure...\n",
      "Extracting parameters from X:\\Datasets\\EEG\\Things-EEG1\\sub-46\\data\\sub-46\\eeg\\sub-46_task-rsvp_eeg.vhdr...\n",
      "Setting channel info structure...\n",
      "Extracting parameters from X:\\Datasets\\EEG\\Things-EEG1\\sub-47\\data\\sub-47\\eeg\\sub-47_task-rsvp_eeg.vhdr...\n",
      "Setting channel info structure...\n",
      "Extracting parameters from X:\\Datasets\\EEG\\Things-EEG1\\sub-48\\data\\sub-48\\eeg\\sub-48_task-rsvp_eeg.vhdr...\n",
      "Setting channel info structure...\n",
      "Extracting parameters from X:\\Datasets\\EEG\\Things-EEG1\\sub-49\\data\\sub-49\\eeg\\sub-49_task-rsvp_eeg.vhdr...\n",
      "Setting channel info structure...\n",
      "Extracting parameters from X:\\Datasets\\EEG\\Things-EEG1\\sub-50\\data\\sub-50\\eeg\\sub-50_task-rsvp_eeg.vhdr...\n",
      "Setting channel info structure...\n"
     ]
    }
   ],
   "source": [
    "things_eeg_path = 'X:\\\\Datasets\\\\EEG\\\\Things-EEG1\\\\'\n",
    "\n",
    "subjects = []\n",
    "for subject_id in range(1, 51):\n",
    "    subject = {\n",
    "        \"subject_id\": subject_id,\n",
    "        \"dataset_id\": subject_id - 1,\n",
    "        \"name\": f\"sub-{subject_id:02}\"\n",
    "    }\n",
    "    eeg_path = Path(things_eeg_path) / subject['name'] / \"data\" / subject['name'] / \"eeg\"\n",
    "    subject['paths'] = {p.suffix[1:]: p for p in eeg_path.iterdir()}\n",
    "    subject['raw_brainvision'] = mne.io.read_raw_brainvision(subject['paths']['vhdr'])\n",
    "    subjects.append(subject)\n",
    "    "
   ]
  },
  {
   "cell_type": "code",
   "execution_count": 15,
   "id": "sonic-effect",
   "metadata": {},
   "outputs": [
    {
     "data": {
      "application/vnd.jupyter.widget-view+json": {
       "model_id": "4e7bfcc784fe4740974c9ce44c706534",
       "version_major": 2,
       "version_minor": 0
      },
      "text/plain": [
       "interactive(children=(IntSlider(value=24, description='i', max=49), Output()), _dom_classes=('widget-interact'…"
      ]
     },
     "metadata": {},
     "output_type": "display_data"
    }
   ],
   "source": [
    "@interact(i=(0, len(subjects)-1))\n",
    "def show(i):\n",
    "    subject = subjects[i]\n",
    "    raw = subject['raw_brainvision']\n",
    "    print(raw.info)\n",
    "    print(raw.annotations[150])\n",
    "    data = raw.load_data()\n",
    "    print(data)\n",
    "    #print(raw.info)\n",
    "    #raw.plot_psd(fmax=50)\n",
    "    #raw.plot(duration=5, n_channels=30)"
   ]
  },
  {
   "cell_type": "code",
   "execution_count": null,
   "id": "grave-consideration",
   "metadata": {},
   "outputs": [],
   "source": []
  }
 ],
 "metadata": {
  "kernelspec": {
   "display_name": "Python 3",
   "language": "python",
   "name": "python3"
  },
  "language_info": {
   "codemirror_mode": {
    "name": "ipython",
    "version": 3
   },
   "file_extension": ".py",
   "mimetype": "text/x-python",
   "name": "python",
   "nbconvert_exporter": "python",
   "pygments_lexer": "ipython3",
   "version": "3.8.8"
  }
 },
 "nbformat": 4,
 "nbformat_minor": 5
}
