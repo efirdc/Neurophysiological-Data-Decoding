{
 "cells": [
  {
   "cell_type": "code",
   "execution_count": 1,
   "id": "activated-sport",
   "metadata": {},
   "outputs": [],
   "source": [
    "%load_ext autoreload\n",
    "%autoreload 2\n",
    "%matplotlib qt\n",
    "\n",
    "import os\n",
    "import sys\n",
    "from pathlib import Path\n",
    "\n",
    "import numpy as np\n",
    "import torch\n",
    "from ipywidgets import interact\n",
    "import matplotlib.pyplot as plt\n",
    "import mne\n",
    "\n",
    "\n",
    "dir2 = os.path.abspath('..')\n",
    "dir1 = os.path.dirname(dir2)\n",
    "if not dir1 in sys.path: \n",
    "    sys.path.append(dir1)"
   ]
  },
  {
   "cell_type": "code",
   "execution_count": 2,
   "id": "lasting-plumbing",
   "metadata": {},
   "outputs": [],
   "source": [
    "from research.data import *\n",
    "import torchvision.transforms as T\n",
    "import torch.nn.functional as F\n",
    "\n",
    "transform = T.Compose([\n",
    "    T.Resize(256),\n",
    "    T.ToTensor(),\n",
    "])\n",
    "\n",
    "things_dataset = ThingsDataset(\n",
    "    root=\"X:\\\\Datasets\\\\EEG\\\\Things-concepts-and-images\\\\\",\n",
    "    transform=transform,\n",
    "    supplementary_path=\"X:\\\\Datasets\\\\EEG\\\\Things-supplementary\\\\\",\n",
    "    latent_name=\"bigbigan-resnet50\",\n",
    ")\n",
    "\n",
    "things_eeg_dataset = ThingsEEG(things_dataset, things_eeg_path=\"X:\\\\Datasets\\\\EEG\\\\Things-EEG1\\\\\")"
   ]
  },
  {
   "cell_type": "code",
   "execution_count": 16,
   "id": "floppy-republic",
   "metadata": {},
   "outputs": [
    {
     "data": {
      "application/vnd.jupyter.widget-view+json": {
       "model_id": "e1fa2d4b3e704cf0bb16c852fd7573fa",
       "version_major": 2,
       "version_minor": 0
      },
      "text/plain": [
       "interactive(children=(IntSlider(value=22, description='i', max=45), Output()), _dom_classes=('widget-interact'…"
      ]
     },
     "metadata": {},
     "output_type": "display_data"
    }
   ],
   "source": [
    "@interact(i=(0, len(things_eeg_dataset.participants)-1))\n",
    "def show(i):\n",
    "    participant = things_eeg_dataset.participants[i]\n",
    "    raw = participant['raw']\n",
    "    participant['rsvp_events']\n",
    "    @interact(event_id=(0, len(participant['rsvp_events']) - 1))\n",
    "    def get_event(event_id):\n",
    "        event = participant['rsvp_events'].loc[event_id]\n",
    "        print(event)\n",
    "        \n",
    "        t_idx = raw.time_as_index(event[\"time_stimon\"])[0]\n",
    "        data, time = raw[:, t_idx:(t_idx + 200)]\n",
    "        #print(data.shape)\n",
    "        #raw_cropped = raw.copy().crop(tmin=event[\"time_stimon\"], tmax=event[\"time_stimon\"]+5)\n",
    "        #raw_cropped.plot(start=0, duration=1)\n",
    "        plt.hist(data[1])\n",
    "        #plt.show()\n",
    "        \n",
    "    #raw.plot_psd(fmax=50)\n",
    "    #raw.plot(start=5, duration=1, n_channels=30)"
   ]
  },
  {
   "cell_type": "code",
   "execution_count": null,
   "id": "seventh-pittsburgh",
   "metadata": {},
   "outputs": [],
   "source": [
    "participant = things_eeg_dataset.participants[2]\n",
    "raw = participant['raw']\n",
    "print(raw.info)\n",
    "print(raw.annotations.description)\n",
    "data = raw.get_data()"
   ]
  },
  {
   "cell_type": "code",
   "execution_count": null,
   "id": "super-battery",
   "metadata": {},
   "outputs": [],
   "source": [
    "data.std()"
   ]
  },
  {
   "cell_type": "code",
   "execution_count": null,
   "id": "unauthorized-treatment",
   "metadata": {},
   "outputs": [],
   "source": [
    "sample_data_folder = mne.datasets.sample.data_path()\n",
    "sample_data_raw_file = os.path.join(sample_data_folder, 'MEG', 'sample',\n",
    "                                    'sample_audvis_filt-0-40_raw.fif')\n",
    "raw = mne.io.read_raw_fif(sample_data_raw_file)"
   ]
  },
  {
   "cell_type": "code",
   "execution_count": null,
   "id": "available-jewelry",
   "metadata": {},
   "outputs": [],
   "source": [
    "raw.plot(duration=5, n_channels=30)"
   ]
  }
 ],
 "metadata": {
  "kernelspec": {
   "display_name": "Python 3 (ipykernel)",
   "language": "python",
   "name": "python3"
  },
  "language_info": {
   "codemirror_mode": {
    "name": "ipython",
    "version": 3
   },
   "file_extension": ".py",
   "mimetype": "text/x-python",
   "name": "python",
   "nbconvert_exporter": "python",
   "pygments_lexer": "ipython3",
   "version": "3.8.12"
  }
 },
 "nbformat": 4,
 "nbformat_minor": 5
}
