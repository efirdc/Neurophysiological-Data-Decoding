{
 "cells": [
  {
   "cell_type": "code",
   "execution_count": 1,
   "metadata": {
    "tags": []
   },
   "outputs": [],
   "source": [
    "%load_ext autoreload\n",
    "%autoreload 2\n",
    "\n",
    "import os\n",
    "import sys\n",
    "\n",
    "import numpy as np\n",
    "import torch\n",
    "import h5py\n",
    "from ipywidgets import interact\n",
    "import matplotlib.pyplot as plt\n",
    "\n",
    "dir2 = os.path.abspath('..')\n",
    "dir1 = os.path.dirname(dir2)\n",
    "if not dir1 in sys.path: \n",
    "    sys.path.append(dir1)"
   ]
  },
  {
   "cell_type": "code",
   "execution_count": null,
   "metadata": {},
   "outputs": [],
   "source": [
    "from pathlib import Path\n",
    "from research.imagenet_classes import classes\n",
    "\n",
    "dataset_path = Path(\"G:\\\\Github Repositories\\\\exploiting-gan-internal-capacity\\\\inverses\\\\dataset.hdf5\")\n",
    "dataset = h5py.File(dataset_path, \"r\")\n",
    "\n",
    "N = dataset['xtrain'].shape[0]\n",
    "@interact(i=(0, N-1))\n",
    "def show(i):\n",
    "    img = dataset['xtrain'][i]\n",
    "    img = np.moveaxis(img, 0, -1)\n",
    "    \n",
    "    label_id = dataset['ytrain'][i]\n",
    "    \n",
    "    print(classes[label_id])\n",
    "    \n",
    "    plt.imshow(img)"
   ]
  },
  {
   "cell_type": "code",
   "execution_count": 37,
   "metadata": {},
   "outputs": [
    {
     "data": {
      "application/vnd.jupyter.widget-view+json": {
       "model_id": "857c8ece943a4151ba875ea62daf731f",
       "version_major": 2,
       "version_minor": 0
      },
      "text/plain": [
       "interactive(children=(IntSlider(value=13053, description='i', max=26106), Output()), _dom_classes=('widget-int…"
      ]
     },
     "metadata": {},
     "output_type": "display_data"
    }
   ],
   "source": [
    "from research.things_dataset import ThingsDataset\n",
    "import torchvision.transforms as T\n",
    "\n",
    "transform = T.Compose([\n",
    "    T.Resize(128),\n",
    "    T.ToTensor()\n",
    "])\n",
    "\n",
    "things_dataset = ThingsDataset(\n",
    "    root=\"X:\\\\Datasets\\\\EEG\\\\Things-concepts-and-images\\\\\",\n",
    "    transform=transform\n",
    ")\n",
    "things_dataset.image_concept_ids\n",
    "\n",
    "#print(things_dataset.image_concept_ids)\n",
    "\n",
    "@interact(i=(0, len(things_dataset)-1))\n",
    "def show(i):\n",
    "    image = things_dataset[i]\n",
    "    print(image['unique_id'])\n",
    "    data = image['data']\n",
    "    data = torch.moveaxis(data, 0, -1)\n",
    "    \n",
    "    plt.imshow(data)\n",
    "    plt.show()"
   ]
  },
  {
   "cell_type": "code",
   "execution_count": 3,
   "metadata": {},
   "outputs": [
    {
     "data": {
      "text/plain": [
       "True"
      ]
     },
     "execution_count": 3,
     "metadata": {},
     "output_type": "execute_result"
    }
   ],
   "source": [
    "torch.cuda.is_available()"
   ]
  },
  {
   "cell_type": "code",
   "execution_count": 4,
   "metadata": {},
   "outputs": [],
   "source": [
    "from dall_e import map_pixels, unmap_pixels, load_model\n",
    "\n",
    "device = torch.device('cuda')\n",
    "\n",
    "# For faster load times, download these files locally and use the local paths instead.\n",
    "enc = load_model(\"X:\\Models\\dall-e\\encoder.pkl\", device)\n",
    "dec = load_model(\"X:\\Models\\dall-e\\decoder.pkl\", device)"
   ]
  },
  {
   "cell_type": "code",
   "execution_count": 14,
   "metadata": {},
   "outputs": [
    {
     "data": {
      "application/vnd.jupyter.widget-view+json": {
       "model_id": "650ab138499d449f8cb9b5846ddf09ad",
       "version_major": 2,
       "version_minor": 0
      },
      "text/plain": [
       "interactive(children=(IntSlider(value=13053, description='i', max=26106), Output()), _dom_classes=('widget-int…"
      ]
     },
     "metadata": {},
     "output_type": "display_data"
    }
   ],
   "source": [
    "import torch.nn.functional as F\n",
    "from IPython.display import display, display_markdown\n",
    "\n",
    "@interact(i=(0, len(things_dataset)-1))\n",
    "def show(i):\n",
    "    image = things_dataset[i]\n",
    "    print(image['concept_name'])\n",
    "    data = image['data']\n",
    "    data = map_pixels(data[None])\n",
    "    data = data.to(device)\n",
    "    \n",
    "    z_logits = enc(data)\n",
    "    print(z_logits.shape)\n",
    "    \n",
    "    z = torch.argmax(z_logits, axis=1)\n",
    "    z = F.one_hot(z, num_classes=enc.vocab_size).permute(0, 3, 1, 2).float()\n",
    "    print(z.shape)\n",
    "\n",
    "    x_stats = dec(z).float()\n",
    "    x_rec = unmap_pixels(torch.sigmoid(x_stats[:, :3]))\n",
    "    x_rec = T.ToPILImage(mode='RGB')(x_rec[0])\n",
    "\n",
    "    display_markdown('Reconstructed image:')\n",
    "    display(x_rec)"
   ]
  },
  {
   "cell_type": "code",
   "execution_count": 16,
   "metadata": {},
   "outputs": [],
   "source": [
    "import gensim.downloader as api\n",
    "wv = api.load('word2vec-google-news-300')"
   ]
  },
  {
   "cell_type": "code",
   "execution_count": 56,
   "metadata": {},
   "outputs": [
    {
     "name": "stdout",
     "output_type": "stream",
     "text": [
      "['tench.n.01', 'goldfish.n.01', 'great_white_shark.n.01', 'tiger_shark.n.01', 'hammerhead.n.01', 'electric_ray.n.01', 'stingray.n.01', 'cock.n.01', 'hen.n.01', 'ostrich.n.01', 'brambling.n.01', 'goldfinch.n.01', 'house_finch.n.01', 'junco.n.01', 'indigo_bunting.n.01', 'robin.n.01', 'bulbul.n.01', 'jay.n.01', 'magpie.n.01', 'chickadee.n.01', 'water_ouzel.n.01', 'kite.n.01', 'bald_eagle.n.01', 'vulture.n.01', 'great_grey_owl.n.01', 'European_fire_salamander.n.01', 'common_newt.n.01', 'eft.n.01', 'spotted_salamander.n.01', 'axolotl.n.01', 'bullfrog.n.01', 'tree_frog.n.01', 'tailed_frog.n.01', 'loggerhead.n.01', 'leatherback_turtle.n.01', 'mud_turtle.n.01', 'terrapin.n.01', 'box_turtle.n.01', 'banded_gecko.n.01', 'common_iguana.n.01', 'American_chameleon.n.01', 'whiptail.n.01', 'agama.n.01', 'frilled_lizard.n.01', 'alligator_lizard.n.01', 'Gila_monster.n.01', 'green_lizard.n.01', 'African_chameleon.n.01', 'Komodo_dragon.n.01', 'African_crocodile.n.01', 'American_alligator.n.01', 'triceratops.n.01', 'thunder_snake.n.01', 'ringneck_snake.n.01', 'hognose_snake.n.01', 'green_snake.n.01', 'king_snake.n.01', 'garter_snake.n.01', 'water_snake.n.01', 'vine_snake.n.01', 'night_snake.n.01', 'boa_constrictor.n.01', 'rock_python.n.01', 'Indian_cobra.n.01', 'green_mamba.n.01', 'sea_snake.n.01', 'horned_viper.n.01', 'diamondback.n.01', 'sidewinder.n.01', 'trilobite.n.01', 'harvestman.n.01', 'scorpion.n.01', 'black_and_gold_garden_spider.n.01', 'barn_spider.n.01', 'garden_spider.n.01', 'black_widow.n.01', 'tarantula.n.01', 'wolf_spider.n.01', 'tick.n.01', 'centipede.n.01', 'black_grouse.n.01', 'ptarmigan.n.01', 'ruffed_grouse.n.01', 'prairie_chicken.n.01', 'peacock.n.01', 'quail.n.01', 'partridge.n.01', 'African_grey.n.01', 'macaw.n.01', 'sulphur-crested_cockatoo.n.01', 'lorikeet.n.01', 'coucal.n.01', 'bee_eater.n.01', 'hornbill.n.01', 'hummingbird.n.01', 'jacamar.n.01', 'toucan.n.01', 'drake.n.01', 'red-breasted_merganser.n.01', 'goose.n.01', 'black_swan.n.01', 'tusker.n.01', 'echidna.n.01', 'platypus.n.01', 'wallaby.n.01', 'koala.n.01', 'wombat.n.01', 'jellyfish.n.01', 'sea_anemone.n.01', 'brain_coral.n.01', 'flatworm.n.01', 'nematode.n.01', 'conch.n.01', 'snail.n.01', 'slug.n.01', 'sea_slug.n.01', 'chiton.n.01', 'chambered_nautilus.n.01', 'Dungeness_crab.n.01', 'rock_crab.n.01', 'fiddler_crab.n.01', 'king_crab.n.01', 'American_lobster.n.01', 'spiny_lobster.n.01', 'crayfish.n.01', 'hermit_crab.n.01', 'isopod.n.01', 'white_stork.n.02', 'black_stork.n.02', 'spoonbill.n.02', 'flamingo.n.02', 'little_blue_heron.n.02', 'American_egret.n.02', 'bittern.n.02', 'crane.n.02', 'limpkin.n.02', 'European_gallinule.n.02', 'American_coot.n.02', 'bustard.n.02', 'ruddy_turnstone.n.02', 'red-backed_sandpiper.n.02', 'redshank.n.02', 'dowitcher.n.02', 'oystercatcher.n.02', 'pelican.n.02', 'king_penguin.n.02', 'albatross.n.02', 'grey_whale.n.02', 'killer_whale.n.02', 'dugong.n.02', 'sea_lion.n.02', 'Chihuahua.n.02', 'Japanese_spaniel.n.02', 'Maltese_dog.n.02', 'Pekinese.n.02', 'Shih-Tzu.n.02', 'Blenheim_spaniel.n.02', 'papillon.n.02', 'toy_terrier.n.02', 'Rhodesian_ridgeback.n.02', 'Afghan_hound.n.02', 'basset.n.02', 'beagle.n.02', 'bloodhound.n.02', 'bluetick.n.02', 'black-and-tan_coonhound.n.02', 'Walker_hound.n.02', 'English_foxhound.n.02', 'redbone.n.02', 'borzoi.n.02', 'Irish_wolfhound.n.02', 'Italian_greyhound.n.02', 'whippet.n.02', 'Ibizan_hound.n.02', 'Norwegian_elkhound.n.02', 'otterhound.n.02', 'Saluki.n.02', 'Scottish_deerhound.n.02', 'Weimaraner.n.02', 'Staffordshire_bullterrier.n.02', 'American_Staffordshire_terrier.n.02', 'Bedlington_terrier.n.02', 'Border_terrier.n.02', 'Kerry_blue_terrier.n.02', 'Irish_terrier.n.02', 'Norfolk_terrier.n.02', 'Norwich_terrier.n.02', 'Yorkshire_terrier.n.02', 'wire-haired_fox_terrier.n.02', 'Lakeland_terrier.n.02', 'Sealyham_terrier.n.02', 'Airedale.n.02', 'cairn.n.02', 'Australian_terrier.n.02', 'Dandie_Dinmont.n.02', 'Boston_bull.n.02', 'miniature_schnauzer.n.02', 'giant_schnauzer.n.02', 'standard_schnauzer.n.02', 'Scotch_terrier.n.02', 'Tibetan_terrier.n.02', 'silky_terrier.n.02', 'soft-coated_wheaten_terrier.n.02', 'West_Highland_white_terrier.n.02', 'Lhasa.n.02', 'flat-coated_retriever.n.02', 'curly-coated_retriever.n.02', 'golden_retriever.n.02', 'Labrador_retriever.n.02', 'Chesapeake_Bay_retriever.n.02', 'German_short-haired_pointer.n.02', 'vizsla.n.02', 'English_setter.n.02', 'Irish_setter.n.02', 'Gordon_setter.n.02', 'Brittany_spaniel.n.02', 'clumber.n.02', 'English_springer.n.02', 'Welsh_springer_spaniel.n.02', 'cocker_spaniel.n.02', 'Sussex_spaniel.n.02', 'Irish_water_spaniel.n.02', 'kuvasz.n.02', 'schipperke.n.02', 'groenendael.n.02', 'malinois.n.02', 'briard.n.02', 'kelpie.n.02', 'komondor.n.02', 'Old_English_sheepdog.n.02', 'Shetland_sheepdog.n.02', 'collie.n.02', 'Border_collie.n.02', 'Bouvier_des_Flandres.n.02', 'Rottweiler.n.02', 'German_shepherd.n.02', 'Doberman.n.02', 'miniature_pinscher.n.02', 'Greater_Swiss_Mountain_dog.n.02', 'Bernese_mountain_dog.n.02', 'Appenzeller.n.02', 'EntleBucher.n.02', 'boxer.n.02', 'bull_mastiff.n.02', 'Tibetan_mastiff.n.02', 'French_bulldog.n.02', 'Great_Dane.n.02', 'Saint_Bernard.n.02', 'Eskimo_dog.n.02', 'malamute.n.02', 'Siberian_husky.n.02', 'dalmatian.n.02', 'affenpinscher.n.02', 'basenji.n.02', 'pug.n.02', 'Leonberg.n.02', 'Newfoundland.n.02', 'Great_Pyrenees.n.02', 'Samoyed.n.02', 'Pomeranian.n.02', 'chow.n.02', 'keeshond.n.02', 'Brabancon_griffon.n.02', 'Pembroke.n.02', 'Cardigan.n.02', 'toy_poodle.n.02', 'miniature_poodle.n.02', 'standard_poodle.n.02', 'Mexican_hairless.n.02', 'timber_wolf.n.02', 'white_wolf.n.02', 'red_wolf.n.02', 'coyote.n.02', 'dingo.n.02', 'dhole.n.02', 'African_hunting_dog.n.02', 'hyena.n.02', 'red_fox.n.02', 'kit_fox.n.02', 'Arctic_fox.n.02', 'grey_fox.n.02', 'tabby.n.02', 'tiger_cat.n.02', 'Persian_cat.n.02', 'Siamese_cat.n.02', 'Egyptian_cat.n.02', 'cougar.n.02', 'lynx.n.02', 'leopard.n.02', 'snow_leopard.n.02', 'jaguar.n.02', 'lion.n.02', 'tiger.n.02', 'cheetah.n.02', 'brown_bear.n.02', 'American_black_bear.n.02', 'ice_bear.n.02', 'sloth_bear.n.02', 'mongoose.n.02', 'meerkat.n.02', 'tiger_beetle.n.02', 'ladybug.n.02', 'ground_beetle.n.02', 'long-horned_beetle.n.02', 'leaf_beetle.n.02', 'dung_beetle.n.02', 'rhinoceros_beetle.n.02', 'weevil.n.02', 'fly.n.02', 'bee.n.02', 'ant.n.02', 'grasshopper.n.02', 'cricket.n.02', 'walking_stick.n.02', 'cockroach.n.02', 'mantis.n.02', 'cicada.n.02', 'leafhopper.n.02', 'lacewing.n.02', 'dragonfly.n.02', 'damselfly.n.02', 'admiral.n.02', 'ringlet.n.02', 'monarch.n.02', 'cabbage_butterfly.n.02', 'sulphur_butterfly.n.02', 'lycaenid.n.02', 'starfish.n.02', 'sea_urchin.n.02', 'sea_cucumber.n.02', 'wood_rabbit.n.02', 'hare.n.02', 'Angora.n.02', 'hamster.n.02', 'porcupine.n.02', 'fox_squirrel.n.02', 'marmot.n.02', 'beaver.n.02', 'guinea_pig.n.02', 'sorrel.n.02', 'zebra.n.02', 'hog.n.02', 'wild_boar.n.02', 'warthog.n.02', 'hippopotamus.n.02', 'ox.n.02', 'water_buffalo.n.02', 'bison.n.02', 'ram.n.02', 'bighorn.n.02', 'ibex.n.02', 'hartebeest.n.02', 'impala.n.02', 'gazelle.n.02', 'Arabian_camel.n.02', 'llama.n.02', 'weasel.n.02', 'mink.n.02', 'polecat.n.02', 'black-footed_ferret.n.02', 'otter.n.02', 'skunk.n.02', 'badger.n.02', 'armadillo.n.02', 'three-toed_sloth.n.02', 'orangutan.n.02', 'gorilla.n.02', 'chimpanzee.n.02', 'gibbon.n.02', 'siamang.n.02', 'guenon.n.02', 'patas.n.02', 'baboon.n.02', 'macaque.n.02', 'langur.n.02', 'colobus.n.02', 'proboscis_monkey.n.02', 'marmoset.n.02', 'capuchin.n.02', 'howler_monkey.n.02', 'titi.n.02', 'spider_monkey.n.02', 'squirrel_monkey.n.02', 'Madagascar_cat.n.02', 'indri.n.02', 'Indian_elephant.n.02', 'African_elephant.n.02', 'lesser_panda.n.02', 'giant_panda.n.02', 'barracouta.n.02', 'eel.n.02', 'coho.n.02', 'rock_beauty.n.02', 'anemone_fish.n.02', 'sturgeon.n.02', 'gar.n.02', 'lionfish.n.02', 'puffer.n.02', 'abacus.n.02', 'abaya.n.02', 'academic_gown.n.02', 'accordion.n.02', 'acoustic_guitar.n.02', 'aircraft_carrier.n.02', 'airliner.n.02', 'airship.n.02', 'altar.n.02', 'ambulance.n.02', 'amphibian.n.02', 'analog_clock.n.02', 'apiary.n.02', 'apron.n.02', 'ashcan.n.02', 'assault_rifle.n.02', 'backpack.n.02', 'bakery.n.02', 'balance_beam.n.02', 'balloon.n.02', 'ballpoint.n.02', 'Band_Aid.n.02', 'banjo.n.02', 'bannister.n.02', 'barbell.n.02', 'barber_chair.n.02', 'barbershop.n.02', 'barn.n.02', 'barometer.n.02', 'barrel.n.02', 'barrow.n.02', 'baseball.n.02', 'basketball.n.02', 'bassinet.n.02', 'bassoon.n.02', 'bathing_cap.n.02', 'bath_towel.n.02', 'bathtub.n.02', 'beach_wagon.n.02', 'beacon.n.02', 'beaker.n.02', 'bearskin.n.02', 'beer_bottle.n.02', 'beer_glass.n.02', 'bell_cote.n.02', 'bib.n.02', 'bicycle-built-for-two.n.02', 'bikini.n.02', 'binder.n.02', 'binoculars.n.02', 'birdhouse.n.02', 'boathouse.n.02', 'bobsled.n.02', 'bolo_tie.n.02', 'bonnet.n.02', 'bookcase.n.02', 'bookshop.n.02', 'bottlecap.n.02', 'bow.n.02', 'bow_tie.n.02', 'brass.n.02', 'brassiere.n.02', 'breakwater.n.02', 'breastplate.n.02', 'broom.n.02', 'bucket.n.02', 'buckle.n.02', 'bulletproof_vest.n.02', 'bullet_train.n.02', 'butcher_shop.n.02', 'cab.n.02', 'caldron.n.02', 'candle.n.02', 'cannon.n.02', 'canoe.n.02', 'can_opener.n.02', 'cardigan.n.02', 'car_mirror.n.02', 'carousel.n.02', \"carpenter's_kit.n.02\", 'carton.n.02', 'car_wheel.n.02', 'cash_machine.n.02', 'cassette.n.02', 'cassette_player.n.02', 'castle.n.02', 'catamaran.n.02', 'CD_player.n.02', 'cello.n.02', 'cellular_telephone.n.02', 'chain.n.02', 'chainlink_fence.n.03', 'chain_mail.n.03', 'chain_saw.n.03', 'chest.n.03', 'chiffonier.n.03', 'chime.n.03', 'china_cabinet.n.03', 'Christmas_stocking.n.03', 'church.n.03', 'cinema.n.03', 'cleaver.n.03', 'cliff_dwelling.n.03', 'cloak.n.03', 'clog.n.03', 'cocktail_shaker.n.03', 'coffee_mug.n.03', 'coffeepot.n.03', 'coil.n.03', 'combination_lock.n.03', 'computer_keyboard.n.03', 'confectionery.n.03', 'container_ship.n.03', 'convertible.n.03', 'corkscrew.n.03', 'cornet.n.03', 'cowboy_boot.n.03', 'cowboy_hat.n.03', 'cradle.n.03', 'crane.n.03', 'crash_helmet.n.03', 'crate.n.03', 'crib.n.03', 'Crock_Pot.n.03', 'croquet_ball.n.03', 'crutch.n.03', 'cuirass.n.03', 'dam.n.03', 'desk.n.03', 'desktop_computer.n.03', 'dial_telephone.n.03', 'diaper.n.03', 'digital_clock.n.03', 'digital_watch.n.03', 'dining_table.n.03', 'dishrag.n.03', 'dishwasher.n.03', 'disk_brake.n.03', 'dock.n.03', 'dogsled.n.03', 'dome.n.03', 'doormat.n.03', 'drilling_platform.n.03', 'drum.n.03', 'drumstick.n.03', 'dumbbell.n.03', 'Dutch_oven.n.03', 'electric_fan.n.03', 'electric_guitar.n.03', 'electric_locomotive.n.03', 'entertainment_center.n.03', 'envelope.n.03', 'espresso_maker.n.03', 'face_powder.n.03', 'feather_boa.n.03', 'file.n.03', 'fireboat.n.03', 'fire_engine.n.03', 'fire_screen.n.03', 'flagpole.n.03', 'flute.n.03', 'folding_chair.n.03', 'football_helmet.n.03', 'forklift.n.03', 'fountain.n.03', 'fountain_pen.n.03', 'four-poster.n.03', 'freight_car.n.03', 'French_horn.n.03', 'frying_pan.n.03', 'fur_coat.n.03', 'garbage_truck.n.03', 'gasmask.n.03', 'gas_pump.n.03', 'goblet.n.03', 'go-kart.n.03', 'golf_ball.n.03', 'golfcart.n.03', 'gondola.n.03', 'gong.n.03', 'gown.n.03', 'grand_piano.n.03', 'greenhouse.n.03', 'grille.n.03', 'grocery_store.n.03', 'guillotine.n.03', 'hair_slide.n.03', 'hair_spray.n.03', 'half_track.n.03', 'hammer.n.03', 'hamper.n.03', 'hand_blower.n.03', 'hand-held_computer.n.03', 'handkerchief.n.03', 'hard_disc.n.03', 'harmonica.n.03', 'harp.n.03', 'harvester.n.03', 'hatchet.n.03', 'holster.n.03', 'home_theater.n.03', 'honeycomb.n.03', 'hook.n.03', 'hoopskirt.n.03', 'horizontal_bar.n.03', 'horse_cart.n.03', 'hourglass.n.03', 'iPod.n.03', 'iron.n.03', \"jack-o'-lantern.n.03\", 'jean.n.03', 'jeep.n.03', 'jersey.n.03', 'jigsaw_puzzle.n.03', 'jinrikisha.n.03', 'joystick.n.03', 'kimono.n.03', 'knee_pad.n.03', 'knot.n.03', 'lab_coat.n.03', 'ladle.n.03', 'lampshade.n.03', 'laptop.n.03', 'lawn_mower.n.03', 'lens_cap.n.03', 'letter_opener.n.03', 'library.n.03', 'lifeboat.n.03', 'lighter.n.03', 'limousine.n.03', 'liner.n.03', 'lipstick.n.03', 'Loafer.n.03', 'lotion.n.03', 'loudspeaker.n.03', 'loupe.n.03', 'lumbermill.n.03', 'magnetic_compass.n.03', 'mailbag.n.03', 'mailbox.n.03', 'maillot.n.03', 'maillot.n.03', 'manhole_cover.n.03', 'maraca.n.03', 'marimba.n.03', 'mask.n.03', 'matchstick.n.03', 'maypole.n.03', 'maze.n.03', 'measuring_cup.n.03', 'medicine_chest.n.03', 'megalith.n.03', 'microphone.n.03', 'microwave.n.03', 'military_uniform.n.03', 'milk_can.n.03', 'minibus.n.03', 'miniskirt.n.03', 'minivan.n.03', 'missile.n.03', 'mitten.n.03', 'mixing_bowl.n.03', 'mobile_home.n.03', 'Model_T.n.03', 'modem.n.03', 'monastery.n.03', 'monitor.n.03', 'moped.n.03', 'mortar.n.03', 'mortarboard.n.03', 'mosque.n.03', 'mosquito_net.n.03', 'motor_scooter.n.03', 'mountain_bike.n.03', 'mountain_tent.n.03', 'mouse.n.03', 'mousetrap.n.03', 'moving_van.n.03', 'muzzle.n.03', 'nail.n.03', 'neck_brace.n.03', 'necklace.n.03', 'nipple.n.03', 'notebook.n.03', 'obelisk.n.03', 'oboe.n.03', 'ocarina.n.03', 'odometer.n.03', 'oil_filter.n.03', 'organ.n.03', 'oscilloscope.n.03', 'overskirt.n.03', 'oxcart.n.03', 'oxygen_mask.n.03', 'packet.n.03', 'paddle.n.03', 'paddlewheel.n.03', 'padlock.n.03', 'paintbrush.n.03', 'pajama.n.03', 'palace.n.03', 'panpipe.n.03', 'paper_towel.n.03', 'parachute.n.03', 'parallel_bars.n.03', 'park_bench.n.03', 'parking_meter.n.03', 'passenger_car.n.03', 'patio.n.03', 'pay-phone.n.03', 'pedestal.n.03', 'pencil_box.n.03', 'pencil_sharpener.n.03', 'perfume.n.03', 'Petri_dish.n.03', 'photocopier.n.03', 'pick.n.03', 'pickelhaube.n.03', 'picket_fence.n.03', 'pickup.n.03', 'pier.n.03', 'piggy_bank.n.03', 'pill_bottle.n.03', 'pillow.n.03', 'ping-pong_ball.n.03', 'pinwheel.n.03', 'pirate.n.03', 'pitcher.n.03', 'plane.n.03', 'planetarium.n.03', 'plastic_bag.n.03', 'plate_rack.n.03', 'plow.n.03', 'plunger.n.03', 'Polaroid_camera.n.03', 'pole.n.03', 'police_van.n.03', 'poncho.n.03', 'pool_table.n.03', 'pop_bottle.n.03', 'pot.n.03', \"potter's_wheel.n.03\", 'power_drill.n.03', 'prayer_rug.n.03', 'printer.n.04', 'prison.n.04', 'projectile.n.04', 'projector.n.04', 'puck.n.04', 'punching_bag.n.04', 'purse.n.04', 'quill.n.04', 'quilt.n.04', 'racer.n.04', 'racket.n.04', 'radiator.n.04', 'radio.n.04', 'radio_telescope.n.04', 'rain_barrel.n.04', 'recreational_vehicle.n.04', 'reel.n.04', 'reflex_camera.n.04', 'refrigerator.n.04', 'remote_control.n.04', 'restaurant.n.04', 'revolver.n.04', 'rifle.n.04', 'rocking_chair.n.04', 'rotisserie.n.04', 'rubber_eraser.n.04', 'rugby_ball.n.04', 'rule.n.04', 'running_shoe.n.04', 'safe.n.04', 'safety_pin.n.04', 'saltshaker.n.04', 'sandal.n.04', 'sarong.n.04', 'sax.n.04', 'scabbard.n.04', 'scale.n.04', 'school_bus.n.04', 'schooner.n.04', 'scoreboard.n.04', 'screen.n.04', 'screw.n.04', 'screwdriver.n.04', 'seat_belt.n.04', 'sewing_machine.n.04', 'shield.n.04', 'shoe_shop.n.04', 'shoji.n.04', 'shopping_basket.n.04', 'shopping_cart.n.04', 'shovel.n.04', 'shower_cap.n.04', 'shower_curtain.n.04', 'ski.n.04', 'ski_mask.n.04', 'sleeping_bag.n.04', 'slide_rule.n.04', 'sliding_door.n.04', 'slot.n.04', 'snorkel.n.04', 'snowmobile.n.04', 'snowplow.n.04', 'soap_dispenser.n.04', 'soccer_ball.n.04', 'sock.n.04', 'solar_dish.n.04', 'sombrero.n.04', 'soup_bowl.n.04', 'space_bar.n.04', 'space_heater.n.04', 'space_shuttle.n.04', 'spatula.n.04', 'speedboat.n.04', 'spider_web.n.04', 'spindle.n.04', 'sports_car.n.04', 'spotlight.n.04', 'stage.n.04', 'steam_locomotive.n.04', 'steel_arch_bridge.n.04', 'steel_drum.n.04', 'stethoscope.n.04', 'stole.n.04', 'stone_wall.n.04', 'stopwatch.n.04', 'stove.n.04', 'strainer.n.04', 'streetcar.n.04', 'stretcher.n.04', 'studio_couch.n.04', 'stupa.n.04', 'submarine.n.04', 'suit.n.04', 'sundial.n.04', 'sunglass.n.04', 'sunglasses.n.04', 'sunscreen.n.04', 'suspension_bridge.n.04', 'swab.n.04', 'sweatshirt.n.04', 'swimming_trunks.n.04', 'swing.n.04', 'switch.n.04', 'syringe.n.04', 'table_lamp.n.04', 'tank.n.04', 'tape_player.n.04', 'teapot.n.04', 'teddy.n.04', 'television.n.04', 'tennis_ball.n.04', 'thatch.n.04', 'theater_curtain.n.04', 'thimble.n.04', 'thresher.n.04', 'throne.n.04', 'tile_roof.n.04', 'toaster.n.04', 'tobacco_shop.n.04', 'toilet_seat.n.04', 'torch.n.04', 'totem_pole.n.04', 'tow_truck.n.04', 'toyshop.n.04', 'tractor.n.04', 'trailer_truck.n.04', 'tray.n.04', 'trench_coat.n.04', 'tricycle.n.04', 'trimaran.n.04', 'tripod.n.04', 'triumphal_arch.n.04', 'trolleybus.n.04', 'trombone.n.04', 'tub.n.04', 'turnstile.n.04', 'typewriter_keyboard.n.04', 'umbrella.n.04', 'unicycle.n.04', 'upright.n.04', 'vacuum.n.04', 'vase.n.04', 'vault.n.04', 'velvet.n.04', 'vending_machine.n.04', 'vestment.n.04', 'viaduct.n.04', 'violin.n.04', 'volleyball.n.04', 'waffle_iron.n.04', 'wall_clock.n.04', 'wallet.n.04', 'wardrobe.n.04', 'warplane.n.04', 'washbasin.n.04', 'washer.n.04', 'water_bottle.n.04', 'water_jug.n.04', 'water_tower.n.04', 'whiskey_jug.n.04', 'whistle.n.04', 'wig.n.04', 'window_screen.n.04', 'window_shade.n.04', 'Windsor_tie.n.04', 'wine_bottle.n.04', 'wing.n.04', 'wok.n.04', 'wooden_spoon.n.04', 'wool.n.04', 'worm_fence.n.04', 'wreck.n.04', 'yawl.n.04', 'yurt.n.04', 'web_site.n.06', 'comic_book.n.06', 'crossword_puzzle.n.06', 'street_sign.n.06', 'traffic_light.n.06', 'book_jacket.n.07', 'menu.n.07', 'plate.n.07', 'guacamole.n.07', 'consomme.n.07', 'hot_pot.n.07', 'trifle.n.07', 'ice_cream.n.07', 'ice_lolly.n.07', 'French_loaf.n.07', 'bagel.n.07', 'pretzel.n.07', 'cheeseburger.n.07', 'hotdog.n.07', 'mashed_potato.n.07', 'head_cabbage.n.07', 'broccoli.n.07', 'cauliflower.n.07', 'zucchini.n.07', 'spaghetti_squash.n.07', 'acorn_squash.n.07', 'butternut_squash.n.07', 'cucumber.n.07', 'artichoke.n.07', 'bell_pepper.n.07', 'cardoon.n.07', 'mushroom.n.07', 'Granny_Smith.n.07', 'strawberry.n.07', 'orange.n.07', 'lemon.n.07', 'fig.n.07', 'pineapple.n.07', 'banana.n.07', 'jackfruit.n.07', 'custard_apple.n.07', 'pomegranate.n.07', 'hay.n.07', 'carbonara.n.07', 'chocolate_sauce.n.07', 'dough.n.07', 'meat_loaf.n.07', 'pizza.n.07', 'potpie.n.07', 'burrito.n.07', 'red_wine.n.07', 'espresso.n.07', 'cup.n.07', 'eggnog.n.07', 'alp.n.09', 'bubble.n.09', 'cliff.n.09', 'coral_reef.n.09', 'geyser.n.09', 'lakeside.n.09', 'promontory.n.09', 'sandbar.n.09', 'seashore.n.09', 'valley.n.09', 'volcano.n.09', 'ballplayer.n.09', 'groom.n.10', 'scuba_diver.n.10', 'rapeseed.n.11', 'daisy.n.11', \"yellow_lady's_slipper.n.12\", 'corn.n.12', 'acorn.n.12', 'hip.n.12', 'buckeye.n.12', 'coral_fungus.n.12', 'agaric.n.12', 'gyromitra.n.13', 'stinkhorn.n.13', 'earthstar.n.13', 'hen-of-the-woods.n.13', 'bolete.n.13', 'ear.n.13', 'toilet_tissue.n.15']\n"
     ]
    },
    {
     "ename": "WordNetError",
     "evalue": "lemma 'white_stork' with part of speech 'n' has only 1 sense",
     "output_type": "error",
     "traceback": [
      "\u001b[1;31m---------------------------------------------------------------------------\u001b[0m",
      "\u001b[1;31mIndexError\u001b[0m                                Traceback (most recent call last)",
      "\u001b[1;32mc:\\users\\cefir\\appdata\\local\\programs\\python\\python38\\lib\\site-packages\\nltk\\corpus\\reader\\wordnet.py\u001b[0m in \u001b[0;36msynset\u001b[1;34m(self, name)\u001b[0m\n\u001b[0;32m   1353\u001b[0m         \u001b[1;32mtry\u001b[0m\u001b[1;33m:\u001b[0m\u001b[1;33m\u001b[0m\u001b[1;33m\u001b[0m\u001b[0m\n\u001b[1;32m-> 1354\u001b[1;33m             \u001b[0moffset\u001b[0m \u001b[1;33m=\u001b[0m \u001b[0mself\u001b[0m\u001b[1;33m.\u001b[0m\u001b[0m_lemma_pos_offset_map\u001b[0m\u001b[1;33m[\u001b[0m\u001b[0mlemma\u001b[0m\u001b[1;33m]\u001b[0m\u001b[1;33m[\u001b[0m\u001b[0mpos\u001b[0m\u001b[1;33m]\u001b[0m\u001b[1;33m[\u001b[0m\u001b[0msynset_index\u001b[0m\u001b[1;33m]\u001b[0m\u001b[1;33m\u001b[0m\u001b[1;33m\u001b[0m\u001b[0m\n\u001b[0m\u001b[0;32m   1355\u001b[0m         \u001b[1;32mexcept\u001b[0m \u001b[0mKeyError\u001b[0m \u001b[1;32mas\u001b[0m \u001b[0me\u001b[0m\u001b[1;33m:\u001b[0m\u001b[1;33m\u001b[0m\u001b[1;33m\u001b[0m\u001b[0m\n",
      "\u001b[1;31mIndexError\u001b[0m: list index out of range",
      "\nThe above exception was the direct cause of the following exception:\n",
      "\u001b[1;31mWordNetError\u001b[0m                              Traceback (most recent call last)",
      "\u001b[1;32m~\\AppData\\Local\\Temp/ipykernel_16652/396627917.py\u001b[0m in \u001b[0;36m<module>\u001b[1;34m\u001b[0m\n\u001b[0;32m      6\u001b[0m \u001b[0mprint\u001b[0m\u001b[1;33m(\u001b[0m\u001b[0mimagenet_wordnet_ids\u001b[0m\u001b[1;33m)\u001b[0m\u001b[1;33m\u001b[0m\u001b[1;33m\u001b[0m\u001b[0m\n\u001b[0;32m      7\u001b[0m \u001b[1;33m\u001b[0m\u001b[0m\n\u001b[1;32m----> 8\u001b[1;33m \u001b[0mimagenet_synsets\u001b[0m \u001b[1;33m=\u001b[0m \u001b[1;33m[\u001b[0m\u001b[0mwn\u001b[0m\u001b[1;33m.\u001b[0m\u001b[0msynset\u001b[0m\u001b[1;33m(\u001b[0m\u001b[0mid\u001b[0m\u001b[1;33m)\u001b[0m \u001b[1;32mfor\u001b[0m \u001b[0mid\u001b[0m \u001b[1;32min\u001b[0m \u001b[0mimagenet_wordnet_ids\u001b[0m\u001b[1;33m]\u001b[0m\u001b[1;33m\u001b[0m\u001b[1;33m\u001b[0m\u001b[0m\n\u001b[0m\u001b[0;32m      9\u001b[0m \u001b[0mthings_synsets\u001b[0m \u001b[1;33m=\u001b[0m \u001b[1;33m[\u001b[0m\u001b[0mwn\u001b[0m\u001b[1;33m.\u001b[0m\u001b[0msynset\u001b[0m\u001b[1;33m(\u001b[0m\u001b[0mid\u001b[0m\u001b[1;33m)\u001b[0m \u001b[1;32mfor\u001b[0m \u001b[0mid\u001b[0m \u001b[1;32min\u001b[0m \u001b[0mthings_wordnet_ids\u001b[0m\u001b[1;33m]\u001b[0m\u001b[1;33m\u001b[0m\u001b[1;33m\u001b[0m\u001b[0m\n\u001b[0;32m     10\u001b[0m \u001b[1;33m\u001b[0m\u001b[0m\n",
      "\u001b[1;32m~\\AppData\\Local\\Temp/ipykernel_16652/396627917.py\u001b[0m in \u001b[0;36m<listcomp>\u001b[1;34m(.0)\u001b[0m\n\u001b[0;32m      6\u001b[0m \u001b[0mprint\u001b[0m\u001b[1;33m(\u001b[0m\u001b[0mimagenet_wordnet_ids\u001b[0m\u001b[1;33m)\u001b[0m\u001b[1;33m\u001b[0m\u001b[1;33m\u001b[0m\u001b[0m\n\u001b[0;32m      7\u001b[0m \u001b[1;33m\u001b[0m\u001b[0m\n\u001b[1;32m----> 8\u001b[1;33m \u001b[0mimagenet_synsets\u001b[0m \u001b[1;33m=\u001b[0m \u001b[1;33m[\u001b[0m\u001b[0mwn\u001b[0m\u001b[1;33m.\u001b[0m\u001b[0msynset\u001b[0m\u001b[1;33m(\u001b[0m\u001b[0mid\u001b[0m\u001b[1;33m)\u001b[0m \u001b[1;32mfor\u001b[0m \u001b[0mid\u001b[0m \u001b[1;32min\u001b[0m \u001b[0mimagenet_wordnet_ids\u001b[0m\u001b[1;33m]\u001b[0m\u001b[1;33m\u001b[0m\u001b[1;33m\u001b[0m\u001b[0m\n\u001b[0m\u001b[0;32m      9\u001b[0m \u001b[0mthings_synsets\u001b[0m \u001b[1;33m=\u001b[0m \u001b[1;33m[\u001b[0m\u001b[0mwn\u001b[0m\u001b[1;33m.\u001b[0m\u001b[0msynset\u001b[0m\u001b[1;33m(\u001b[0m\u001b[0mid\u001b[0m\u001b[1;33m)\u001b[0m \u001b[1;32mfor\u001b[0m \u001b[0mid\u001b[0m \u001b[1;32min\u001b[0m \u001b[0mthings_wordnet_ids\u001b[0m\u001b[1;33m]\u001b[0m\u001b[1;33m\u001b[0m\u001b[1;33m\u001b[0m\u001b[0m\n\u001b[0;32m     10\u001b[0m \u001b[1;33m\u001b[0m\u001b[0m\n",
      "\u001b[1;32mc:\\users\\cefir\\appdata\\local\\programs\\python\\python38\\lib\\site-packages\\nltk\\corpus\\reader\\wordnet.py\u001b[0m in \u001b[0;36msynset\u001b[1;34m(self, name)\u001b[0m\n\u001b[0;32m   1363\u001b[0m             \u001b[1;32melse\u001b[0m\u001b[1;33m:\u001b[0m\u001b[1;33m\u001b[0m\u001b[1;33m\u001b[0m\u001b[0m\n\u001b[0;32m   1364\u001b[0m                 \u001b[0mtup\u001b[0m \u001b[1;33m=\u001b[0m \u001b[0mlemma\u001b[0m\u001b[1;33m,\u001b[0m \u001b[0mpos\u001b[0m\u001b[1;33m,\u001b[0m \u001b[0mn_senses\u001b[0m\u001b[1;33m,\u001b[0m \u001b[1;34m\"senses\"\u001b[0m\u001b[1;33m\u001b[0m\u001b[1;33m\u001b[0m\u001b[0m\n\u001b[1;32m-> 1365\u001b[1;33m             \u001b[1;32mraise\u001b[0m \u001b[0mWordNetError\u001b[0m\u001b[1;33m(\u001b[0m\u001b[0mmessage\u001b[0m \u001b[1;33m%\u001b[0m \u001b[0mtup\u001b[0m\u001b[1;33m)\u001b[0m \u001b[1;32mfrom\u001b[0m \u001b[0me\u001b[0m\u001b[1;33m\u001b[0m\u001b[1;33m\u001b[0m\u001b[0m\n\u001b[0m\u001b[0;32m   1366\u001b[0m \u001b[1;33m\u001b[0m\u001b[0m\n\u001b[0;32m   1367\u001b[0m         \u001b[1;31m# load synset information from the appropriate file\u001b[0m\u001b[1;33m\u001b[0m\u001b[1;33m\u001b[0m\u001b[1;33m\u001b[0m\u001b[0m\n",
      "\u001b[1;31mWordNetError\u001b[0m: lemma 'white_stork' with part of speech 'n' has only 1 sense"
     ]
    }
   ],
   "source": [
    "from nltk.corpus import wordnet as wn\n",
    "from research.imagenet_wordnet_ids import imagenet_wordnet_ids\n",
    "\n",
    "things_wordnet_ids = list(things_dataset.concepts['Wordnet ID4'])\n",
    "\n",
    "print(imagenet_wordnet_ids)\n",
    "\n",
    "imagenet_synsets = [wn.synset(id) for id in imagenet_wordnet_ids]\n",
    "things_synsets = [wn.synset(id) for id in things_wordnet_ids]\n",
    "\n",
    "imagenet_things_similarity = [\n",
    "    [imagenet_synset.path_similarity(things_synset) for imagenet_synset in imagenet_synsets]\n",
    "    for things_synset in things_synsets\n",
    "]"
   ]
  },
  {
   "cell_type": "code",
   "execution_count": 26,
   "metadata": {},
   "outputs": [
    {
     "data": {
      "text/plain": [
       "Synset('john.n.02')"
      ]
     },
     "execution_count": 26,
     "metadata": {},
     "output_type": "execute_result"
    }
   ],
   "source": [
    "wn.synset(\"john.n.02\")"
   ]
  }
 ],
 "metadata": {
  "kernelspec": {
   "display_name": "Python 3",
   "language": "python",
   "name": "python3"
  },
  "language_info": {
   "codemirror_mode": {
    "name": "ipython",
    "version": 3
   },
   "file_extension": ".py",
   "mimetype": "text/x-python",
   "name": "python",
   "nbconvert_exporter": "python",
   "pygments_lexer": "ipython3",
   "version": "3.8.8"
  }
 },
 "nbformat": 4,
 "nbformat_minor": 4
}
