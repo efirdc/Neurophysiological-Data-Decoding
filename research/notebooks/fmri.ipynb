{
 "cells": [
  {
   "cell_type": "code",
   "execution_count": 1,
   "id": "fc107113-842a-4bb1-8916-54fbfb9bf434",
   "metadata": {},
   "outputs": [],
   "source": [
    "%load_ext autoreload\n",
    "%autoreload 2\n",
    "\n",
    "import os\n",
    "import sys\n",
    "\n",
    "import numpy as np\n",
    "import torch\n",
    "import torchio as tio\n",
    "import h5py\n",
    "from ipywidgets import interact\n",
    "import matplotlib.pyplot as plt\n",
    "\n",
    "dir2 = os.path.abspath('..')\n",
    "dir1 = os.path.dirname(dir2)\n",
    "if not dir1 in sys.path: \n",
    "    sys.path.append(dir1)"
   ]
  },
  {
   "cell_type": "code",
   "execution_count": 12,
   "id": "2da3ee3a-360c-42f6-86e0-61c43c112e32",
   "metadata": {},
   "outputs": [],
   "source": [
    "from pathlib import Path\n",
    "import pandas as pd\n",
    "\n",
    "func_path = 'X:\\\\Datasets\\\\Deep-Image-Reconstruction\\\\derivatives\\\\fmriprep-20.2.4\\\\sub-01\\\\ses-perceptionNaturalImageTraining01\\\\func'\n",
    "bold_file_name = 'sub-01_ses-perceptionNaturalImageTraining01_task-perception_run-2_space-T1w_desc-preproc_bold.nii.gz'\n",
    "confound_file_name = 'sub-01_ses-perceptionNaturalImageTraining01_task-perception_run-1_desc-confounds_timeseries.tsv'\n",
    "mask_file_name = 'sub-01_ses-perceptionNaturalImageTraining01_task-perception_run-1_space-T1w_desc-brain_mask.nii.gz'\n"
   ]
  },
  {
   "cell_type": "code",
   "execution_count": 4,
   "id": "fc8ba485-cca4-46be-a2b6-bba115ef9a9e",
   "metadata": {},
   "outputs": [],
   "source": [
    "from pathlib import Path\n",
    "import pandas as pd\n",
    "\n",
    "func_path = 'X:\\\\Datasets\\\\Deep-Image-Reconstruction\\\\sub-01\\\\ses-perceptionNaturalImageTraining01\\\\func'\n",
    "bold_file_name = 'sub-01_ses-perceptionNaturalImageTraining01_task-perception_run-01_bold.nii.gz'\n",
    "#confound_file_name = 'sub-01_ses-perceptionNaturalImageTraining01_task-perception_run-1_desc-confounds_timeseries.tsv'\n",
    "#mask_file_name = 'sub-01_ses-perceptionNaturalImageTraining01_task-perception_run-1_space-T1w_desc-brain_mask.nii.gz'"
   ]
  },
  {
   "cell_type": "code",
   "execution_count": 13,
   "id": "735ba646-ebb3-40af-8672-12f2e97b6bf2",
   "metadata": {},
   "outputs": [],
   "source": [
    "bold_img = tio.ScalarImage(Path(func_path) / bold_file_name)\n",
    "bold_img.load()\n",
    "\n",
    "mask_img = tio.LabelMap(Path(func_path) / mask_file_name)\n",
    "mask_img.load()"
   ]
  },
  {
   "cell_type": "code",
   "execution_count": null,
   "id": "f46d0e7e-4655-4aef-b1af-bcc30a193250",
   "metadata": {},
   "outputs": [],
   "source": [
    "bold_img.data.min(), bold_img.data.max(), bold_img.data.mean()"
   ]
  },
  {
   "cell_type": "code",
   "execution_count": null,
   "id": "c25a1ba4-798b-4763-a528-234c6413e5df",
   "metadata": {},
   "outputs": [],
   "source": [
    "confound_df = pd.read_csv(Path(func_path) / confound_file_name, delimiter='\\t')\n",
    "confound_vars = ['trans_x', 'trans_y', 'trans_z', 'rot_x', 'rot_y', 'rot_z']# 'global_signal']#, 'a_comp_cor_01', 'a_comp_cor_02']\n",
    "confound_df = confound_df[confound_vars]\n",
    "for col in confound_df.columns:\n",
    "    confound_df[f'{col}_dt'] = confound_df[col].diff()\n",
    "confound_df.to_numpy().shape"
   ]
  },
  {
   "cell_type": "code",
   "execution_count": 14,
   "id": "6a639d07-4170-4a49-951d-23c1c8bbb98c",
   "metadata": {},
   "outputs": [],
   "source": [
    "from nilearn import image as nimg\n",
    "from nilearn import plotting as nplot\n",
    "from nipy.io.api import load_image\n",
    "\n",
    "bold_nimg = nimg.load_img(str(Path(func_path) / bold_file_name))\n",
    "#mask_nimg = nimg.load_img(str(Path(func_path) / mask_file_name))\n",
    "#print(bold_nimg.shape, mask_nimg.shape)"
   ]
  },
  {
   "cell_type": "code",
   "execution_count": null,
   "id": "01c7acd8-db83-486b-a623-1ede124a5ac2",
   "metadata": {},
   "outputs": [],
   "source": [
    "start_time = 5\n",
    "clean_bold_nimg = nimg.clean_img(\n",
    "    bold_nimg.slicer[:, :, :, start_time:], \n",
    "    #confounds=confound_df.to_numpy()[start_time:],\n",
    "    detrend=False,\n",
    "    standardize=False,\n",
    "    #low_pass=0.08,\n",
    "    #high_pass=0.009,\n",
    "    t_r=2, \n",
    "   # mask_img=mask_nimg\n",
    ")"
   ]
  },
  {
   "cell_type": "code",
   "execution_count": null,
   "id": "7504e496-d2bf-4eb3-83eb-731b55a31bd6",
   "metadata": {},
   "outputs": [],
   "source": [
    "from itertools import product\n",
    "from obspy.signal.detrend import spline\n",
    "\n",
    "spline_detrend = clean_bold_nimg.dataobj\n",
    "for i, x in enumerate(spline_detrend.flatten(end_dim=2)):\n",
    "    if i % 10000 == 0:\n",
    "        print(i)\n",
    "    spline(x.numpy(), order=3, dspline=25)"
   ]
  },
  {
   "cell_type": "code",
   "execution_count": null,
   "id": "c7bf2913-4af0-4f48-9eb1-f38fc7e4254a",
   "metadata": {},
   "outputs": [],
   "source": [
    "from obspy.signal.detrend import spline\n",
    "\n",
    "H, W, D, T = img.shape\n",
    "@interact(h=(0, H-1), w=(0, W-1), d=(0, D-1))\n",
    "def select(h, w, d):\n",
    "    x = img[h, w, d]\n",
    "    out_x = spline(x.copy(), order=3, dspline=30, plot=True)  "
   ]
  },
  {
   "cell_type": "code",
   "execution_count": null,
   "id": "270d88d5-0b36-44ef-8d7d-9c32d86f7264",
   "metadata": {},
   "outputs": [],
   "source": [
    "from scipy import signal\n",
    "from obspy.signal.detrend import spline\n",
    "\n",
    "linear_detrend = signal.detrend(img.data)\n",
    "linear_detrend = (linear_detrend - np.mean(linear_detrend, axis=-1, keepdims=True)) / np.std(linear_detrend, axis=-1, keepdims=True)"
   ]
  },
  {
   "cell_type": "code",
   "execution_count": null,
   "id": "bd647c29-465b-45f5-8995-08c33fb685e1",
   "metadata": {},
   "outputs": [],
   "source": [
    "np.std(clean_bold_nimg.dataobj)"
   ]
  },
  {
   "cell_type": "code",
   "execution_count": null,
   "id": "9aac7f01-f4cb-40f8-bff2-0364dbbbc3ca",
   "metadata": {},
   "outputs": [],
   "source": [
    "print(clean_bold_nimg.shape, bold_nimg.shape)"
   ]
  },
  {
   "cell_type": "code",
   "execution_count": 18,
   "id": "176b2f5b-aba6-4074-bc05-299250e1e7b4",
   "metadata": {},
   "outputs": [
    {
     "data": {
      "text/plain": [
       "[<matplotlib.lines.Line2D at 0x2e4166b56a0>,\n",
       " <matplotlib.lines.Line2D at 0x2e4166b5b50>]"
      ]
     },
     "execution_count": 18,
     "metadata": {},
     "output_type": "execute_result"
    },
    {
     "data": {
      "image/png": "[encoded data removed]",
      "text/plain": [
       "<Figure size 432x288 with 1 Axes>"
      ]
     },
     "metadata": {
      "needs_background": "light"
     },
     "output_type": "display_data"
    }
   ],
   "source": [
    "from nipy.modalities.fmri import hemodynamic_models\n",
    "from nipy.modalities.fmri import hrf\n",
    "\n",
    "t = np.linspace(0., 20.0, 100)\n",
    "hrf_ddspmt = hrf.ddspmt(t)\n",
    "hrf_dspmt = hrf.dspmt(t)\n",
    "hrf_spmt = hrf.spmt(t)\n",
    "plt.plot(t, hrf_dspmt, t, hrf_spmt)"
   ]
  },
  {
   "cell_type": "code",
   "execution_count": null,
   "id": "8101ed92-d199-4e7e-8c71-785b3d4c9970",
   "metadata": {},
   "outputs": [],
   "source": [
    "print(hrf_kernel)"
   ]
  },
  {
   "cell_type": "code",
   "execution_count": 22,
   "id": "3405b2eb-45e4-422c-8a20-4ce2e9f88be3",
   "metadata": {},
   "outputs": [
    {
     "name": "stdout",
     "output_type": "stream",
     "text": [
      "torch.Size([239, 81, 89, 75])\n"
     ]
    },
    {
     "data": {
      "application/vnd.jupyter.widget-view+json": {
       "model_id": "9e5ac92cae45403d99c053589a39526b",
       "version_major": 2,
       "version_minor": 0
      },
      "text/plain": [
       "interactive(children=(IntSlider(value=37, description='d', max=74), IntSlider(value=114, description='t', max=…"
      ]
     },
     "metadata": {},
     "output_type": "display_data"
    }
   ],
   "source": [
    "import torch\n",
    "import torch.nn.functional as F\n",
    "from nipy.modalities.fmri import hrf\n",
    "\n",
    "img = torch.tensor(np.array(bold_nimg.dataobj)).float().cuda()\n",
    "img = torch.moveaxis(img, -1, 0)\n",
    "T, H, W, D = img.shape\n",
    "img = (img - img.mean()) / img.std()\n",
    "\n",
    "k = torch.tensor([1, 1]).float().cuda()\n",
    "k = k[:, None, None] * k[None, :, None] * k[None, None, :]\n",
    "k = k / k.sum()\n",
    "k = torch.stack([k]*T)\n",
    "#img = F.conv3d(img[None], k[:, None], groups=T)[0]\n",
    "print(img.shape)\n",
    "\n",
    "tr = 2\n",
    "window_end = 10\n",
    "hrf_kernel = torch.tensor(hrf.dspmt(np.linspace(0.0, tr * window_end, window_end))).cuda()\n",
    "\n",
    "@interact(d=(0, D-1), t=(0, T - 1 - window_end))\n",
    "def show(d, t):\n",
    "    x = img[t:t + window_end, :, :, :]\n",
    "    x = x * hrf_kernel[:, None, None, None]\n",
    "    x = x.sum(dim=0)\n",
    "    x = x[:, :, d]\n",
    "    \n",
    "    fig = plt.figure(figsize=(12, 12))\n",
    "    plt.imshow(x.cpu(), cmap='bwr', vmin=-0.1, vmax=0.1)\n",
    "    #plt.imshow(x.cpu(), cmap='gray', vmin=-1, vmax=3)\n",
    "    plt.show()\n",
    "    plt.close(fig)"
   ]
  },
  {
   "cell_type": "code",
   "execution_count": null,
   "id": "1642dedf-1659-4275-8568-0e3d8a5f15c7",
   "metadata": {},
   "outputs": [],
   "source": [
    "dataset = Kamitani2019(\"X:\\\\Datasets\\\\Deep-Image-Reconstruction\\\\\")"
   ]
  },
  {
   "cell_type": "code",
   "execution_count": null,
   "id": "099e3d3b-2f31-4295-a2f6-1d84d67b40fe",
   "metadata": {
    "tags": []
   },
   "outputs": [],
   "source": [
    "root = Path(root)\n",
    "layout = BIDSLayout(root, validate=False, derivatives=True)"
   ]
  },
  {
   "cell_type": "code",
   "execution_count": null,
   "id": "eb11bb89-f915-40d1-a162-01815a39831c",
   "metadata": {},
   "outputs": [],
   "source": [
    "anat = [f for f in layout.get(subject=\"01\", scope=\"derivatives\", extension='nii.gz', session='anatomy', suffix=\"T1w\") \n",
    "        if \"space\" not in f.entities]\n",
    "anat[0].get_metadata()"
   ]
  },
  {
   "cell_type": "code",
   "execution_count": null,
   "id": "fc9d6578-48a7-4f32-bd31-674491cc24fd",
   "metadata": {},
   "outputs": [],
   "source": [
    "import torchvision\n",
    "imagenet = torchvision.datasets.ImageNet(\"X:\\\\Datasets\\\\ILSVRC2012\")"
   ]
  },
  {
   "cell_type": "code",
   "execution_count": null,
   "id": "9ce894d3-d466-43ad-bff0-3af81c702965",
   "metadata": {},
   "outputs": [],
   "source": [
    "from bids import BIDSLayout\n",
    "from research.data.kamitani_2019 import Kamitani2019, RawKamitani2019, Kamitani2019H5\n",
    "from pathlib import Path\n",
    "\n",
    "root = \"X:\\\\Datasets\\\\Deep-Image-Reconstruction\\\\\"\n",
    "dataset = RawKamitani2019(root)"
   ]
  },
  {
   "cell_type": "code",
   "execution_count": null,
   "id": "682be1fd-5a7d-45da-ae30-d53aa2852877",
   "metadata": {},
   "outputs": [],
   "source": [
    "h5_path = Path(root) / \"derivatives\" / \"kamitani2019.hdf5\"\n",
    "features_path = Path(root) / \"derivatives\" / \"RN50x16-features.hdf5\"\n",
    "dataset = Kamitani2019H5(h5_path, subjects=['sub-02'], func_sessions=['natural_training', 'natural_test'], \n",
    "                         window=(0, 10), drop_out_of_window_events=False,\n",
    "                         features_path=features_path)\n",
    "                         #folds=[0, 1, 2, 3], split='train')\n",
    "    "
   ]
  },
  {
   "cell_type": "code",
   "execution_count": null,
   "id": "2c66f724-5ac7-4980-9964-284e05fd1d0b",
   "metadata": {},
   "outputs": [],
   "source": [
    "id_counts = {}\n",
    "for event in dataset.events:\n",
    "    stimulus_id = event['stimulus_id']\n",
    "    if stimulus_id not in id_counts:\n",
    "        id_counts[stimulus_id] = 1\n",
    "    else:\n",
    "        id_counts[stimulus_id] += 1\n",
    "for stimulus_id, count in id_counts.items():\n",
    "    if count != 5:\n",
    "        pass\n",
    "        #print(stimulus_id, count)"
   ]
  },
  {
   "cell_type": "code",
   "execution_count": null,
   "id": "3b67ffc6-fe03-46fe-bc02-d4bd31248ee2",
   "metadata": {},
   "outputs": [],
   "source": [
    "dataset.f.close()\n",
    "dataset.f_features.close()"
   ]
  },
  {
   "cell_type": "code",
   "execution_count": null,
   "id": "1bf519c1-8ec5-4248-8369-6d923e970649",
   "metadata": {},
   "outputs": [],
   "source": [
    "print(dataset.events[0].keys())\n",
    "dataset.runs[dataset.events[0]['run_id']].name"
   ]
  },
  {
   "cell_type": "code",
   "execution_count": null,
   "id": "11a2f31f-254d-478b-b266-2a5c16dffaac",
   "metadata": {},
   "outputs": [],
   "source": [
    "f\"{int('001190'):06}\""
   ]
  },
  {
   "cell_type": "code",
   "execution_count": null,
   "id": "29f46fa3-589a-4d43-8096-c64d26540340",
   "metadata": {},
   "outputs": [],
   "source": [
    "import pandas as pd\n",
    "import io\n",
    "\n",
    "with h5py.File(Path(root) / \"derivatives\" / 'kamitani2019.hdf5', \"a\") as f:\n",
    "    with h5py.File(Path(root) / 'derivatives' / 'stimulus_images.hdf5', 'r') as f_stim:\n",
    "        stimulus_ids = list(f_stim.keys())\n",
    "        stimulus_map = {}\n",
    "        for stimulus_id in stimulus_ids:\n",
    "            if '.' not in stimulus_id:\n",
    "                continue\n",
    "            wordnet_id, dataset_id = stimulus_id.split('.')\n",
    "            dataset_id = int(dataset_id)\n",
    "            if wordnet_id not in stimulus_map:\n",
    "                stimulus_map[wordnet_id] = []\n",
    "            if dataset_id not in stimulus_map[wordnet_id]:\n",
    "                stimulus_map[wordnet_id].append(dataset_id)\n",
    "                \n",
    "    zero_trimmed = 0\n",
    "    for subject in f.values():\n",
    "        for session_type, sessions in subject.items():\n",
    "            if session_type not in ('natural_test', 'natural_training'):\n",
    "                continue\n",
    "            for run in sessions.values():\n",
    "                run_event_df = pd.read_csv(io.StringIO(run.attrs['events']), index_col=0, dtype={'stimulus_id': str})\n",
    "                stimulus_ids = list(run_event_df['stimulus_id'])\n",
    "                \n",
    "                for i, stimulus_id in enumerate(stimulus_ids):\n",
    "                    if not isinstance(stimulus_id, str):\n",
    "                        continue\n",
    "                    wordnet_id, dataset_id = stimulus_id.split('.')\n",
    "                    dataset_id = int(dataset_id)\n",
    "                    if wordnet_id not in stimulus_map:\n",
    "                        print(f\"Invalid wordnet_id: {wordnet_id}\")\n",
    "                        continue\n",
    "                    if dataset_id not in stimulus_map[wordnet_id]:\n",
    "                        correct_dataset_id = None\n",
    "                        for alt_dataset_id in (dataset_id * 10, dataset_id * 100, dataset_id * 1000):\n",
    "                            if alt_dataset_id in stimulus_map[wordnet_id]:\n",
    "                                correct_dataset_id = alt_dataset_id\n",
    "                                run_event_df.at[i, 'stimulus_id'] = f'{wordnet_id}.{correct_dataset_id:06}'\n",
    "                                zero_trimmed += 1\n",
    "                                break\n",
    "                        if not correct_dataset_id:\n",
    "                            print(f'Invalid dataset_id={dataset_id} for wordnet_id={wordnet_id}. Valid dataset ids are: {stimulus_map[wordnet_id]}')\n",
    "                            \n",
    "                run.attrs['events'] = run_event_df.to_csv()\n",
    "    print(zero_trimmed)\n",
    "    "
   ]
  },
  {
   "cell_type": "code",
   "execution_count": null,
   "id": "46ce6d77-4e04-460c-bb36-0f53d8e238ad",
   "metadata": {},
   "outputs": [],
   "source": [
    "for h5_name in ('RN50x16-features.hdf5', 'stimulus_images.hdf5'):\n",
    "    with h5py.File(Path(root) / \"derivatives\" / h5_name, \"a\") as f:\n",
    "        for stimulus_id in f.keys():\n",
    "            if not stimulus_id.isnumeric():\n",
    "                continue\n",
    "            wordnet_id, dataset_id = stimulus_id[:-6], stimulus_id[-6:]\n",
    "            new_stimulus_id = f'{wordnet_id}.{int(dataset_id):06}'\n",
    "            f.move(stimulus_id, new_stimulus_id)"
   ]
  },
  {
   "cell_type": "code",
   "execution_count": null,
   "id": "172cd901-b8b3-40ac-bcc7-cca9bf65a288",
   "metadata": {},
   "outputs": [],
   "source": [
    "dataset.f_features['4313503.20808']"
   ]
  },
  {
   "cell_type": "code",
   "execution_count": null,
   "id": "2341a929-5700-4bb6-b5d5-119075c2a814",
   "metadata": {},
   "outputs": [],
   "source": [
    "@interact(i=(0, len(dataset)-1))\n",
    "def show_event(i):\n",
    "    event = dataset[i]\n",
    "    \n",
    "    if 'features' in event:\n",
    "        for k, v in event['features'].items():\n",
    "            print(k, v.shape, v.numel())\n",
    "    \n",
    "    data = event['data']\n",
    "    print(data.shape)\n",
    "    \n",
    "    H, W, D, T = data.shape\n",
    "    @interact(d=(0, D-1), t=(0, T-2), derivative=False)\n",
    "    def show_volume(d, t, derivative):\n",
    "        fig = plt.figure(figsize=(12, 12))\n",
    "        if derivative:\n",
    "            x = data[:, :, d, t:t+2]\n",
    "            x = x[:, :, 0] - x[:, :, 1]\n",
    "            plt.imshow(x, cmap='bwr', vmin=-3, vmax=3)\n",
    "        else:\n",
    "            x = data[:, :, d, t]\n",
    "            plt.imshow(x, cmap='gray', vmin=-1, vmax=3)\n",
    "        plt.show()\n",
    "        plt.close(fig)"
   ]
  },
  {
   "cell_type": "code",
   "execution_count": null,
   "id": "91cd5453-e8e0-42b4-969a-09083e7858e4",
   "metadata": {},
   "outputs": [],
   "source": [
    "synset.name()"
   ]
  },
  {
   "cell_type": "code",
   "execution_count": null,
   "id": "c286c286-ee23-4573-ab6c-4201d7402fd3",
   "metadata": {},
   "outputs": [],
   "source": [
    "from nltk.corpus import wordnet as wn\n",
    "\n",
    "stimulus_images_path = Path('X:\\\\Datasets\\\\Deep-Image-Reconstruction\\\\derivatives\\\\stimulus_images')\n",
    "with h5py.File(Path(root) / \"derivatives\" / \"stimulus_images.hdf5\", \"w\") as h5_file:\n",
    "    image_paths = []\n",
    "    for session_type in ('natural_test', 'natural_training', 'letter', 'artificial'):\n",
    "        session_image_paths = list((stimulus_images_path / session_type).iterdir())\n",
    "        image_paths += zip(session_image_paths, [session_type] * len(train_image_paths))\n",
    "\n",
    "    for image_path, session_type in image_paths:\n",
    "        with open(image_path, 'rb') as image_file:\n",
    "            image = Image.open(image_file)\n",
    "            image = image.convert('RGB')\n",
    "            data = np.array(image)\n",
    "            \n",
    "        file_name = image_path.name.split('.')[0]\n",
    "        attributes = {'session_type': session_type, 'file_name': file_name}\n",
    "        \n",
    "        if session_type in ('natural_test', 'natural_training'):\n",
    "            wordnet_id, dataset_id = file_name.split('_')\n",
    "            synset = wn.synset_from_pos_and_offset(wordnet_id[0], int(wordnet_id[1:]))\n",
    "            attributes.update({'wordnet_id': wordnet_id, 'dataset_id': dataset_id, 'synset': synset.name()})\n",
    "            stimulus_id = f'{int(wordnet_id[1:])}.{int(dataset_id)}'\n",
    "        else:\n",
    "            stimulus_id = file_name\n",
    "        \n",
    "        image_group = h5_file.create_group(stimulus_id)\n",
    "        for k, v in attributes.items():\n",
    "            image_group.attrs[k] = v\n",
    "        image_group['data'] = data"
   ]
  },
  {
   "cell_type": "code",
   "execution_count": null,
   "id": "d75d617a-0668-4726-b8e2-8ebff4624dc4",
   "metadata": {},
   "outputs": [],
   "source": [
    "import pandas as pd\n",
    "import io\n",
    "from pathlib import Path\n",
    "from PIL import Image\n",
    "import requests\n",
    "\n",
    "save_images_path = Path('X:\\\\Datasets\\\\Deep-Image-Reconstruction\\\\derivatives\\\\stimulus_images')\n",
    "\n",
    "stimulus_ids = []\n",
    "for run_event_df in dataset.run_event_dfs:\n",
    "    stimulus_ids += list(run_event_df['stimulus_id'])\n",
    "\n",
    "nan = stimulus_ids[0]\n",
    "stimulus_ids = list(set(stimulus_ids))\n",
    "stimulus_ids.remove(nan)\n",
    "\n",
    "print(len(stimulus_ids))\n",
    "\n",
    "\n",
    "                        \n",
    "assert len(stimulus_map) == len(stimulus_ids)\n",
    "                        \n",
    "for stimulus_id in stimulus_ids:\n",
    "    url, image_name = stimulus_map[stimulus_id]\n",
    "    \n",
    "    image_data = requests.get(url).content\n",
    "    with open(save_images_path / f'{stimulus_id}.png', 'wb') as f:\n",
    "        f.write(image_data)"
   ]
  },
  {
   "cell_type": "code",
   "execution_count": null,
   "id": "e6f0673e-7a9a-4290-b593-801a55baea5a",
   "metadata": {},
   "outputs": [],
   "source": [
    "from random import Random\n",
    "\n",
    "with h5py.File(Path(root) / \"derivatives\" / \"kamitani2019.hdf5\", \"r+\") as f:\n",
    "    seed = 0xDEADBEEF\n",
    "    num_test_runs = 20\n",
    "    num_folds = 5\n",
    "    \n",
    "    for i, subject in enumerate(f.values()):\n",
    "        runs = list(subject['natural_training'].values())\n",
    "        Random(seed + i).shuffle(runs)\n",
    "        test_runs = runs[:num_test_runs]\n",
    "        training_runs = runs[num_test_runs:]\n",
    "        for test_run in test_runs:\n",
    "            test_run.attrs['test'] = True\n",
    "        for i, training_run in enumerate(training_runs):\n",
    "            training_run.attrs['test'] = False\n",
    "            training_run.attrs['fold'] = i % num_folds"
   ]
  },
  {
   "cell_type": "code",
   "execution_count": null,
   "id": "fce4f21c-92db-4232-ae3d-614af388d22c",
   "metadata": {},
   "outputs": [],
   "source": [
    "with h5py.File(Path(root) / \"derivatives\" / \"kamitani2019.hdf5\", \"r+\") as f:\n",
    "    \n",
    "    for subject in f.values():\n",
    "        training_runs = subject['natural_training']\n",
    "        \n",
    "        run_means = []\n",
    "        run_stds = []\n",
    "        for run in training_runs.values():\n",
    "            data = run[:]\n",
    "            \n",
    "            run_mean = data.mean()\n",
    "            run_std = data.std()\n",
    "            run.attrs['mean'] = run_mean\n",
    "            run.attrs['std'] = run_std\n",
    "            \n",
    "            run_means.append(run_mean)\n",
    "            run_stds.append(run_std)\n",
    "        \n",
    "        training_runs.attrs['mean'] = np.mean(run_means)\n",
    "        training_runs.attrs['std'] = np.mean(run_stds)"
   ]
  },
  {
   "cell_type": "code",
   "execution_count": null,
   "id": "70dd009c-ea21-48da-9399-61b3f686edc4",
   "metadata": {},
   "outputs": [],
   "source": [
    "for run in dataset.runs:\n",
    "    print(run[:].mean())"
   ]
  },
  {
   "cell_type": "code",
   "execution_count": null,
   "id": "050a4e27-88d6-4a55-a56a-19f2982b4d04",
   "metadata": {},
   "outputs": [],
   "source": [
    "f = h5py.File(Path(root) / \"derivatives\" / \"kamitani2019.hdf5\", \"r\")"
   ]
  },
  {
   "cell_type": "code",
   "execution_count": null,
   "id": "dd57e496-6094-47ea-9078-f124a681b485",
   "metadata": {},
   "outputs": [],
   "source": [
    "runs = list(f['sub-02']['natural_training'].values())\n",
    "runs.sort(key=lambda dset : int(dset.name.split('/')[-1]))"
   ]
  },
  {
   "cell_type": "code",
   "execution_count": null,
   "id": "d491b6a6-5cfe-405b-85a4-ccd031354c9b",
   "metadata": {},
   "outputs": [],
   "source": [
    "import io\n",
    "events = pd.read_csv(io.StringIO(runs[0].attrs['events']), index_col=0, dtype={'stimulus_id': str})\n",
    "events = events[events['event_type'] == 1]\n",
    "events.filter(items=('onset', 'stimulus_id'), axis='columns').to_dict(\"records\")"
   ]
  },
  {
   "cell_type": "code",
   "execution_count": null,
   "id": "b383eb92-906a-463a-a8ad-7f3dd33f6c2f",
   "metadata": {},
   "outputs": [],
   "source": [
    "import h5py\n",
    "from copy import deepcopy\n",
    "\n",
    "with h5py.File(Path(root) / \"derivatives\" / \"kamitani2019.hdf5\", \"w\"DANGER) as f\n",
    "    \n",
    "    for subject, subject_tio in zip(dataset.subjects, dataset_tio.subjects):\n",
    "        \n",
    "        f.create_group(f'{subject[\"name\"]}/anatomy/')\n",
    "        \n",
    "        anat_image_names = ['T1w', 'brain_mask', 'csf_mask', 'gm_mask', 'wm_mask', \n",
    "                            'LH_FFA', 'LH_hV4', 'LH_HVC', 'LH_LOC', 'LH_PPA', 'LH_V1d', \n",
    "                            'LH_V1v', 'LH_V2d', 'LH_V2v', 'LH_V3d', 'LH_V3v', \n",
    "                            'RH_FFA', 'RH_hV4', 'RH_HVC', 'RH_LOC', 'RH_PPA', 'RH_V1d', \n",
    "                            'RH_V1v', 'RH_V2d', 'RH_V2v', 'RH_V3d', 'RH_V3v']\n",
    "        for anat_image_name in anat_image_names:\n",
    "            anat_image = deepcopy(subject[anat_image_name])\n",
    "            anat_image.load()\n",
    "            anat_dset = f.create_dataset(f'{subject[\"name\"]}/anatomy/{anat_image_name}', data=anat_image['data'])\n",
    "            for k, v in anat_image.items():\n",
    "                if k == 'data':\n",
    "                    continue\n",
    "                anat_dset.attrs[k] = v\n",
    "        \n",
    "        for session_type, sessions in subject['func_sessions'].items():\n",
    "            print(session_type)\n",
    "            for i, run_image in enumerate(sessions):\n",
    "                run_image = deepcopy(run_image)\n",
    "                run_image.load()\n",
    "                run_dset = f.create_dataset(f'{subject[\"name\"]}/{session_type}/{i}', data=run_image['data'])\n",
    "                for k, v in run_image.items():\n",
    "                    if k == 'data':\n",
    "                        continue\n",
    "                    if isinstance(v, pd.DataFrame):\n",
    "                        v = v.to_csv()\n",
    "                    run_dset.attrs[k] = v\n"
   ]
  },
  {
   "cell_type": "code",
   "execution_count": null,
   "id": "508aff51-285f-4542-9d3f-2c5be26082ef",
   "metadata": {},
   "outputs": [],
   "source": [
    "subject_ids = layout.get(return_type='id', target='subject')\n",
    "subject_ids.sort()\n",
    "\n",
    "subjects = []\n",
    "for subject_id in subject_ids:\n",
    "    subject = {\n",
    "        'name': f'sub-{subject_id}',\n",
    "        'func_sessions': {}\n",
    "    }\n",
    "    subjects.append(subject)\n",
    "    \n",
    "    session_ids = layout.get(return_type='id', subject=subject_id, target='session')\n",
    "    session_info = [\n",
    "        ('imagery', 'imagery'),\n",
    "        ('artificial', 'perceptionArtificialImage'),\n",
    "        ('letter', 'perceptionLetterImage'),\n",
    "        ('natural_test', 'perceptionNaturalImageTest'),\n",
    "        ('natural_training', 'perceptionNaturalImageTraining'),\n",
    "    ]\n",
    "    \n",
    "    for func_session_type, func_session_name in session_info:\n",
    "        print(func_session_type)\n",
    "        subject['func_sessions'][func_session_type] = runs = []\n",
    "        \n",
    "        session_ids_of_type = [session_id for session_id in session_ids \n",
    "                               if session_id.startswith(func_session_name)]\n",
    "        bold_files = layout.get(subject=subject_id, suffix='bold', extension='nii.gz', session=session_ids_of_type, \n",
    "                                space='T1w', scope='derivatives')\n",
    "        \n",
    "        for bold_file in bold_files:\n",
    "            entities = bold_file.get_entities()\n",
    "            \n",
    "            events_file = layout.get(subject=subject_id, run=entities['run'], session=entities['session'], suffix='events')\n",
    "            assert len(events_file) == 1\n",
    "            events = events_file[0].get_df()\n",
    "            \n",
    "            confounds_file = layout.get(subject=subject_id, run=entities['run'], session=entities['session'], desc='confounds', extension='tsv')\n",
    "            assert len(confounds_file) == 1\n",
    "            confounds = confounds_file[0].get_df()\n",
    "            \n",
    "            metadata = bold_file.get_metadata()\n",
    "            bold_img = tio.ScalarImage(bold_file.path, events=events, confounds=confounds, **metadata)\n",
    "            runs.append(bold_img)"
   ]
  },
  {
   "cell_type": "code",
   "execution_count": null,
   "id": "195074f1-ffd7-4b8f-ad11-c03e77aba38f",
   "metadata": {},
   "outputs": [],
   "source": [
    "#subjects[2]['func_sessions']['natural_training']"
   ]
  },
  {
   "cell_type": "code",
   "execution_count": null,
   "id": "c76dcfc0-aa7c-4922-a402-9c5f61a0c9ba",
   "metadata": {},
   "outputs": [],
   "source": [
    "for subject in subjects:\n",
    "    print(subject['name'])\n",
    "    for session_type, runs in subject['func_sessions'].items():\n",
    "        print(f'{session_type}, num runs: {len(runs)}')\n",
    "        print(\"events per run:\", [np.sum(img['events']['event_type'] == 1) for img in runs])"
   ]
  },
  {
   "cell_type": "code",
   "execution_count": null,
   "id": "dcbc3452-7f25-4be5-8ff3-bdca38bc5cba",
   "metadata": {},
   "outputs": [],
   "source": [
    "bold_sessions = layout.get_sessions()\n",
    "bold_sessions.remove('anatomy')\n",
    "for session in bold_sessions:\n",
    "    #runs = layout.get(return_type='id', subject='01',)\n",
    "    #print(runs)\n",
    "    bids_files = layout.get(subject='01', session=session, suffix='bold', extension='nii.gz', run=1)\n",
    "    print(*bids_files, sep='\\n')"
   ]
  },
  {
   "cell_type": "code",
   "execution_count": null,
   "id": "69bc308d-e802-4717-bc6f-39746bd60e32",
   "metadata": {},
   "outputs": [],
   "source": [
    "bids_files[0].get_entities()"
   ]
  },
  {
   "cell_type": "code",
   "execution_count": null,
   "id": "87ba6eb1-0fc2-4880-97f4-5484e99c24ee",
   "metadata": {},
   "outputs": [],
   "source": [
    "layout.get(return_type='id', target='run', subject='01', session='perceptionNaturalImageTraining03')"
   ]
  },
  {
   "cell_type": "code",
   "execution_count": null,
   "id": "74b7fcb5-b1a9-4b35-b812-e5b3c8f423b3",
   "metadata": {},
   "outputs": [],
   "source": [
    "layout.get(subject='01',  suffix='events')"
   ]
  },
  {
   "cell_type": "code",
   "execution_count": null,
   "id": "91d54623-9b23-4645-8975-5c2c07c678d9",
   "metadata": {},
   "outputs": [],
   "source": [
    "import json\n",
    "from pathlib import Path\n",
    "\n",
    "out_path = Path('./fmriprep_jobs/')\n",
    "for subject in dataset.subjects:\n",
    "    \n",
    "    subject_path = out_path / subject.name\n",
    "    subject_path.mkdir(parents=True, exist_ok=True)\n",
    "    \n",
    "    session_paths = list((dataset.root / subject.name).iterdir())\n",
    "    session_names = [p.name.split('-')[1] for p in session_paths]\n",
    "    session_names.remove('anatomy')\n",
    "    \n",
    "    for i, session_name in enumerate(session_names):\n",
    "        job_filter = {\"bold\": {\"datatype\": \"func\", \"session\": session_name, \"suffix\": \"bold\"}}\n",
    "        with (subject_path / f'job-{i}.json').open('w') as f:\n",
    "            json.dump(job_filter, f)"
   ]
  },
  {
   "cell_type": "code",
   "execution_count": null,
   "id": "3b99fde5-b116-4dfc-8819-50f3971e0fb8",
   "metadata": {},
   "outputs": [],
   "source": [
    "from research.data.kamitani_2019 import Kamitani2019\n",
    "\n",
    "dataset = Kamitani2019(\"X:\\\\Datasets\\\\Deep-Image-Reconstruction\\\\\")\n",
    "\n",
    "subject = dataset.subjects[0]\n",
    "subject['t1']"
   ]
  },
  {
   "cell_type": "code",
   "execution_count": null,
   "id": "84a87428-6805-419f-909e-8f281b560c2a",
   "metadata": {},
   "outputs": [],
   "source": [
    "from nipy.core.image.image import Image\n",
    "from nipy.core.reference.coordinate_map import AffineTransform, CoordinateSystem\n",
    "from nipy.io.api import load_image\n",
    "\n",
    "subject = dataset.subjects[0]\n",
    "session = subject['sessions']['natural_training'][0]\n",
    "t1 = subject['t1']\n",
    "t2 = session['t2']\n",
    "bold = session['runs'][0]\n",
    "\n",
    "t1_nipy = load_image(str(t1.path))\n",
    "t2_nipy = load_image(str(t2.path))\n",
    "bold_nipy = load_image(str(bold.path))"
   ]
  },
  {
   "cell_type": "code",
   "execution_count": null,
   "id": "452f447d-f0d1-4c0c-a530-ec2c2553afba",
   "metadata": {},
   "outputs": [],
   "source": [
    "t1_registration = HistogramRegistration(t2_nipy, t1_nipy)\n",
    "affine = t1_registration.optimize('rigid')\n",
    "t2_resampled_nipy = resample(t2_nipy, affine.inv())\n",
    "\n",
    "#save_image(t2_resampled_nipy, \"t2_registered.nii.gz\")"
   ]
  },
  {
   "cell_type": "code",
   "execution_count": null,
   "id": "8994205a-b052-43c3-b0f2-cfc45d331cd8",
   "metadata": {},
   "outputs": [],
   "source": [
    "t2_rigid_registered = copy.deepcopy(t2_nipy)\n",
    "t2_rigid_registered.affine = t2_rigid_registered.affine @ affine.as_affine()\n",
    "save_image(t2_resampled_nipy, \"t2_registered_no_resample.nii.gz\")"
   ]
  },
  {
   "cell_type": "code",
   "execution_count": null,
   "id": "8ed12039-1e92-45a7-a67b-b0a29a9e2f14",
   "metadata": {},
   "outputs": [],
   "source": [
    "from nipy.algorithms.registration import HistogramRegistration, resample\n",
    "import time\n",
    "\n",
    "class HiddenPrints:\n",
    "    def __enter__(self):\n",
    "        self._original_stdout = sys.stdout\n",
    "        sys.stdout = open(os.devnull, 'w')\n",
    "\n",
    "    def __exit__(self, exc_type, exc_val, exc_tb):\n",
    "        sys.stdout.close()\n",
    "        sys.stdout = self._original_stdout\n",
    "\n",
    "affines = []\n",
    "for i in range(bold_nipy.shape[3]):\n",
    "    t2_registration = HistogramRegistration(bold_nipy[:, :, :, i], t2_nipy)\n",
    "    with HiddenPrints():\n",
    "        affine = t2_registration.optimize('rigid')\n",
    "    affines.append(affine)\n",
    "    #bold_registered = resample(bold_nipy[:, :, :, i], affine.inv())\n",
    "    #registered.append(bold_registered)\n",
    "    if i % 25 == 0:\n",
    "        print(f'{i}/{bold_nipy.shape[3]}')"
   ]
  },
  {
   "cell_type": "code",
   "execution_count": null,
   "id": "78fac6a6-26f3-4bc1-92e2-cd8881feade0",
   "metadata": {},
   "outputs": [],
   "source": [
    "from nipy.algorithms.registration import SpaceTimeRealign\n",
    "bold_data = bold['bold_data']\n",
    "space_time_realign = SpaceTimeRealign(bold_nipy, tr=bold_data['RepetitionTime'], slice_times=bold_data['SliceTiming'], slice_info=2)\n",
    "space_time_realign.estimate()"
   ]
  },
  {
   "cell_type": "code",
   "execution_count": null,
   "id": "dfe4a7c6-1a67-423d-bd32-239a9f9971a7",
   "metadata": {},
   "outputs": [],
   "source": [
    "corr_run = space_time_realign.resample(0)"
   ]
  },
  {
   "cell_type": "code",
   "execution_count": null,
   "id": "6fb3e8cd-54e7-47c0-8760-a484e22bd5d8",
   "metadata": {},
   "outputs": [],
   "source": [
    "corr_run.shape"
   ]
  },
  {
   "cell_type": "code",
   "execution_count": null,
   "id": "9bebeafd-b406-47b9-9ac1-d85ffd78d901",
   "metadata": {},
   "outputs": [],
   "source": [
    "save_image(registered_nipy, \"registered_spacetime.nii.gz\")"
   ]
  },
  {
   "cell_type": "code",
   "execution_count": null,
   "id": "37d37d0d-be54-4d43-a601-1e9f1708e393",
   "metadata": {},
   "outputs": [],
   "source": [
    "registered = []\n",
    "for i in range(bold_nipy.shape[3]):\n",
    "    print(i)\n",
    "    bold_registered = resample(bold_nipy[:, :, :, i], affines[i].inv())\n",
    "    registered.append(bold_registered)"
   ]
  },
  {
   "cell_type": "code",
   "execution_count": null,
   "id": "6d6faa0c-c164-4134-bef1-89071874745d",
   "metadata": {},
   "outputs": [],
   "source": [
    "out_data = np.stack([r[:] for r in registered], -1)\n",
    "out_data.shape"
   ]
  },
  {
   "cell_type": "code",
   "execution_count": null,
   "id": "f3337934-03a9-413f-8e20-e0e47d1e06e9",
   "metadata": {},
   "outputs": [],
   "source": [
    "from nipy.io.api import save_image\n",
    "registered_nipy = copy.deepcopy(bold_nipy)\n",
    "registered_nipy[:] = out_data\n",
    "save_image(registered_nipy, \"registered_rigid.nii.gz\")"
   ]
  },
  {
   "cell_type": "code",
   "execution_count": null,
   "id": "94318372-a930-4184-8675-adbbef2deeab",
   "metadata": {},
   "outputs": [],
   "source": [
    "\n",
    "print(bold_registered.coordmap)\n",
    "print(bold_nipy[:, :, :, 0].coordmap)"
   ]
  },
  {
   "cell_type": "code",
   "execution_count": null,
   "id": "8dc443e9-a078-4ba0-957c-b946dd890aac",
   "metadata": {},
   "outputs": [],
   "source": [
    "transform.data\n"
   ]
  },
  {
   "cell_type": "code",
   "execution_count": null,
   "id": "bc6978a7-4bfc-4f5e-bc0c-88b4cd7eec40",
   "metadata": {},
   "outputs": [],
   "source": [
    "import copy\n",
    "\n",
    "def copy_and_load(image):\n",
    "    image = copy.deepcopy(image)\n",
    "    image.load()\n",
    "    return image\n",
    "\n",
    "def vis_kamitani2019(dataset):\n",
    "    \n",
    "    @interact(i=(0, 2))\n",
    "    def select_subject(i):\n",
    "        subject = dataset.subjects[i]\n",
    "        \n",
    "        t1 = copy_and_load(subject['t1'])\n",
    "        t1 = tio.ToCanonical()(t1)\n",
    "        \n",
    "        @interact(session_type=subject['sessions'])\n",
    "        def select_session_type(session_type):\n",
    "            \n",
    "            @interact(session_id=(0, len(session_type) - 1))\n",
    "            def select_session(session_id):\n",
    "                \n",
    "                session = session_type[session_id]\n",
    "                t2 = copy_and_load(session['t2'])\n",
    "                t2 = tio.ToCanonical()(t2)\n",
    "                \n",
    "                @interact(run_id=(0, len(session['runs']) - 1))\n",
    "                def select_run(run_id):\n",
    "                    \n",
    "                    bold = copy_and_load(session['runs'][run_id])\n",
    "                    bold.shape\n",
    "                    bold = tio.ToCanonical()(bold)\n",
    "                    print(bold)\n",
    "\n",
    "                    @interact(d=(0, t1.shape[3] - 1))\n",
    "                    def plot_t1(d):\n",
    "\n",
    "                        x = (t1['data'][0, :, :, d] - t1['data'].mean()) / t1['data'].std()\n",
    "                        fig = plt.figure(figsize=(8, 8))\n",
    "                        plt.imshow(x, cmap=\"gray\", vmin=-1, vmax=4)\n",
    "                        plt.colorbar()\n",
    "                        plt.show()\n",
    "                        plt.close(fig)\n",
    "    print('test')\n",
    "    \n",
    "vis_kamitani2019(dataset)"
   ]
  },
  {
   "cell_type": "code",
   "execution_count": null,
   "id": "2a6abf5b-973b-4c23-9b9f-f273cd18c9a8",
   "metadata": {},
   "outputs": [],
   "source": [
    "from nireg import HistogramRegistration"
   ]
  },
  {
   "cell_type": "code",
   "execution_count": null,
   "id": "00b64851-ea97-4548-b518-72cd37955912",
   "metadata": {},
   "outputs": [],
   "source": [
    "from nipy.algorithms.registration import HistogramRegistration\n",
    "\n",
    "affine.Affine()"
   ]
  },
  {
   "cell_type": "code",
   "execution_count": null,
   "id": "7617cf5c-6481-43e1-983b-0d6fb2fef10d",
   "metadata": {},
   "outputs": [],
   "source": [
    "sessions = dataset.subjects[0]['sessions']['natural_training']\n",
    "session = sessions[0]\n",
    "runs = session['runs']\n",
    "for subject in dataset.subjects:\n",
    "    print(subject['name'])\n",
    "    for session_type, session_data in subject['sessions'].items():\n",
    "        print(f'{session_type}, num_sessions={len(session_data)}, {[len(session[\"runs\"]) for session in session_data]}')\n",
    "    print()"
   ]
  },
  {
   "cell_type": "code",
   "execution_count": null,
   "id": "9d8c8215-4db5-45ec-b80a-d76412e6f71d",
   "metadata": {},
   "outputs": [],
   "source": [
    "from pathlib import Path\n",
    "roi_folder = Path(\"X:\\\\Datasets\\\\Deep-Image-Reconstruction\\\\sourcedata\\\\sub-01\\\\anat\")\n",
    "\n",
    "file_names = tuple(p.name.split('.')[0] for p in roi_folder.iterdir())\n",
    "split_names = [file_name.split('_') for file_name in file_names]\n",
    "roi_name = [f'{split_name[2]}_{split_name[3]}' for split_name in split_names]\n",
    "print(tuple(roi_name))"
   ]
  },
  {
   "cell_type": "code",
   "execution_count": null,
   "id": "6db11f1b-5cf4-46fd-93ac-40c95438b3c1",
   "metadata": {},
   "outputs": [],
   "source": [
    "Path('foo/bar/ree').relative_to('foo')"
   ]
  },
  {
   "cell_type": "code",
   "execution_count": null,
   "id": "f1aead67-44c2-441f-9d03-b206e5e108d8",
   "metadata": {},
   "outputs": [],
   "source": [
    "(root / \"test.nii.gz\").stem"
   ]
  },
  {
   "cell_type": "code",
   "execution_count": null,
   "id": "b07aab49-78d1-4779-8695-1debf4451204",
   "metadata": {},
   "outputs": [],
   "source": [
    "import gzip\n",
    "import shutil\n",
    "from pathlib import Path\n",
    "\n",
    "root = Path('X:\\\\Datasets\\\\Deep-Image-Reconstruction\\\\')\n",
    "unzipped = Path('X:\\\\Datasets\\\\Deep-Image-Reconstruction-Unzipped\\\\')\n",
    "\n",
    "def unzip(path):\n",
    "    if path.is_dir():\n",
    "        for p in path.iterdir():\n",
    "            unzip(p)\n",
    "    \n",
    "    if path.is_file():\n",
    "        out_path = unzipped / path.relative_to(root)\n",
    "        out_path.parent.mkdir(exist_ok=True, parents=True)\n",
    "        \n",
    "        if path.suffix == '.gz':\n",
    "            print(\"unzipping\", path)\n",
    "            out_path = out_path.parent / path.stem\n",
    "\n",
    "            with gzip.open(path, 'rb') as f_in:\n",
    "                with open(out_path, 'wb') as f_out:\n",
    "                    shutil.copyfileobj(f_in, f_out)\n",
    "        else:\n",
    "            shutil.copyfile(path, out_path)\n",
    "    \n",
    "                \n",
    "unzip(root)"
   ]
  }
 ],
 "metadata": {
  "kernelspec": {
   "display_name": "Neurophysiological-Data-Decoding",
   "language": "python",
   "name": "neurophysiological-data-decoding"
  },
  "language_info": {
   "codemirror_mode": {
    "name": "ipython",
    "version": 3
   },
   "file_extension": ".py",
   "mimetype": "text/x-python",
   "name": "python",
   "nbconvert_exporter": "python",
   "pygments_lexer": "ipython3",
   "version": "3.8.12"
  }
 },
 "nbformat": 4,
 "nbformat_minor": 5
}
