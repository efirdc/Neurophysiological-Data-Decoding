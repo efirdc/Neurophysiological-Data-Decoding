{
 "cells": [
  {
   "cell_type": "code",
   "execution_count": 1,
   "id": "higher-endorsement",
   "metadata": {},
   "outputs": [],
   "source": [
    "%load_ext autoreload\n",
    "%autoreload 2\n",
    "\n",
    "import os\n",
    "import sys\n",
    "\n",
    "import numpy as np\n",
    "import torch\n",
    "import h5py\n",
    "from ipywidgets import interact\n",
    "import matplotlib.pyplot as plt\n",
    "\n",
    "dir2 = os.path.abspath('..')\n",
    "dir1 = os.path.dirname(dir2)\n",
    "if not dir1 in sys.path: \n",
    "    sys.path.append(dir1)"
   ]
  },
  {
   "cell_type": "code",
   "execution_count": null,
   "id": "a251d72d-d455-447a-b412-d17c00cbe3ba",
   "metadata": {},
   "outputs": [],
   "source": []
  },
  {
   "cell_type": "code",
   "execution_count": 3,
   "id": "tamil-advance",
   "metadata": {},
   "outputs": [
    {
     "data": {
      "application/vnd.jupyter.widget-view+json": {
       "model_id": "45f541ef6e4449118724bec742df49ac",
       "version_major": 2,
       "version_minor": 0
      },
      "text/plain": [
       "interactive(children=(IntSlider(value=13053, description='i', max=26106), Output()), _dom_classes=('widget-int…"
      ]
     },
     "metadata": {},
     "output_type": "display_data"
    }
   ],
   "source": [
    "from research.things_dataset import ThingsDataset\n",
    "from research.imagenet_classes import imagenet_classes\n",
    "import torchvision.transforms as T\n",
    "import torch.nn.functional as F\n",
    "\n",
    "transform = T.Compose([\n",
    "    T.Resize(224),\n",
    "    T.ToTensor(),\n",
    "])\n",
    "\n",
    "things_dataset = ThingsDataset(\n",
    "    root=\"X:\\\\Datasets\\\\EEG\\\\Things-concepts-and-images\\\\\",\n",
    "    transform=transform\n",
    ")\n",
    "things_dataset.image_concept_ids\n",
    "\n",
    "#print(things_dataset.image_concept_ids)\n",
    "\n",
    "@interact(i=(0, len(things_dataset)-1))\n",
    "def show(i):\n",
    "    image = things_dataset[i]\n",
    "    print(image['unique_id'])\n",
    "    data = image['data']\n",
    "    \n",
    "    x = T.Normalize([0.485, 0.456, 0.406], [0.229, 0.224, 0.225])(data)\n",
    "    #y_pred = resnext101_32x8d(x[None])\n",
    "    #_, class_id = torch.max(y_pred, 1)\n",
    "    #class_id = int(class_id)\n",
    "    #print(\"predicted:\", imagenet_classes[class_id])\n",
    "    \n",
    "    data = torch.moveaxis(data , 0, -1)\n",
    "    plt.imshow(data)\n",
    "    plt.show()"
   ]
  },
  {
   "cell_type": "code",
   "execution_count": null,
   "id": "honey-immune",
   "metadata": {},
   "outputs": [],
   "source": []
  }
 ],
 "metadata": {
  "kernelspec": {
   "display_name": "Python 3 (ipykernel)",
   "language": "python",
   "name": "python3"
  },
  "language_info": {
   "codemirror_mode": {
    "name": "ipython",
    "version": 3
   },
   "file_extension": ".py",
   "mimetype": "text/x-python",
   "name": "python",
   "nbconvert_exporter": "python",
   "pygments_lexer": "ipython3",
   "version": "3.8.12"
  }
 },
 "nbformat": 4,
 "nbformat_minor": 5
}
